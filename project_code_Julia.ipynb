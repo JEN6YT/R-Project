{
 "cells": [
  {
   "cell_type": "raw",
   "id": "311c0a76",
   "metadata": {},
   "source": [
    "---\n",
    "title: \"R Notebook\"\n",
    "author: \"Jennifer\"\n",
    "output: html_notebook\n",
    "---"
   ]
  },
  {
   "cell_type": "markdown",
   "id": "c07b15e7",
   "metadata": {},
   "source": [
    "### Load Data"
   ]
  },
  {
   "cell_type": "code",
   "execution_count": 22,
   "id": "1a37c3e7",
   "metadata": {
    "lines_to_next_cell": 0
   },
   "outputs": [
    {
     "name": "stderr",
     "output_type": "stream",
     "text": [
      "Warning message in scan(file = file, what = what, sep = sep, quote = quote, dec = dec, :\n",
      "“invalid input found on input connection 'Airbnb_Open_Data.csv'”\n"
     ]
    },
    {
     "data": {
      "text/html": [
       "<table class=\"dataframe\">\n",
       "<caption>A data.frame: 305 × 23</caption>\n",
       "<thead>\n",
       "\t<tr><th scope=col>id</th><th scope=col>host.id</th><th scope=col>host_identity_verified</th><th scope=col>host.name</th><th scope=col>neighbourhood.group</th><th scope=col>neighbourhood</th><th scope=col>lat</th><th scope=col>long</th><th scope=col>country</th><th scope=col>country.code</th><th scope=col>⋯</th><th scope=col>Construction.year</th><th scope=col>price</th><th scope=col>service.fee</th><th scope=col>minimum.nights</th><th scope=col>number.of.reviews</th><th scope=col>last.review</th><th scope=col>reviews.per.month</th><th scope=col>review.rate.number</th><th scope=col>calculated.host.listings.count</th><th scope=col>availability.365</th></tr>\n",
       "\t<tr><th scope=col>&lt;int&gt;</th><th scope=col>&lt;dbl&gt;</th><th scope=col>&lt;chr&gt;</th><th scope=col>&lt;chr&gt;</th><th scope=col>&lt;chr&gt;</th><th scope=col>&lt;chr&gt;</th><th scope=col>&lt;dbl&gt;</th><th scope=col>&lt;dbl&gt;</th><th scope=col>&lt;chr&gt;</th><th scope=col>&lt;chr&gt;</th><th scope=col>⋯</th><th scope=col>&lt;int&gt;</th><th scope=col>&lt;chr&gt;</th><th scope=col>&lt;chr&gt;</th><th scope=col>&lt;int&gt;</th><th scope=col>&lt;int&gt;</th><th scope=col>&lt;chr&gt;</th><th scope=col>&lt;dbl&gt;</th><th scope=col>&lt;int&gt;</th><th scope=col>&lt;int&gt;</th><th scope=col>&lt;int&gt;</th></tr>\n",
       "</thead>\n",
       "<tbody>\n",
       "\t<tr><td>1001254</td><td>80014485718</td><td>unconfirmed</td><td>Madaline </td><td>Brooklyn </td><td>Kensington        </td><td>40.64749</td><td>-73.97237</td><td>United States</td><td>US</td><td>⋯</td><td>2020</td><td>$966  </td><td>$193</td><td>10</td><td>  9</td><td>10/19/2021</td><td>0.21</td><td> 4</td><td>6</td><td>286</td></tr>\n",
       "\t<tr><td>1002102</td><td>52335172823</td><td>verified   </td><td>Jenna    </td><td>Manhattan</td><td>Midtown           </td><td>40.75362</td><td>-73.98377</td><td>United States</td><td>US</td><td>⋯</td><td>2007</td><td>$142  </td><td>$28 </td><td>30</td><td> 45</td><td>5/21/2022 </td><td>0.38</td><td> 4</td><td>2</td><td>228</td></tr>\n",
       "\t<tr><td>1002403</td><td>78829239556</td><td>NA         </td><td>Elise    </td><td>Manhattan</td><td>Harlem            </td><td>40.80902</td><td>-73.94190</td><td>United States</td><td>US</td><td>⋯</td><td>2005</td><td>$620  </td><td>$124</td><td> 3</td><td>  0</td><td>NA        </td><td>  NA</td><td> 5</td><td>1</td><td>352</td></tr>\n",
       "\t<tr><td>1002755</td><td>85098326012</td><td>unconfirmed</td><td>Garry    </td><td>Brooklyn </td><td>Clinton Hill      </td><td>40.68514</td><td>-73.95976</td><td>United States</td><td>US</td><td>⋯</td><td>2005</td><td>$368  </td><td>$74 </td><td>30</td><td>270</td><td>7/5/2019  </td><td>4.64</td><td> 4</td><td>1</td><td>322</td></tr>\n",
       "\t<tr><td>1003689</td><td>92037596077</td><td>verified   </td><td>Lyndon   </td><td>Manhattan</td><td>East Harlem       </td><td>40.79851</td><td>-73.94399</td><td>United States</td><td>US</td><td>⋯</td><td>2009</td><td>$204  </td><td>$41 </td><td>10</td><td>  9</td><td>11/19/2018</td><td>0.10</td><td> 3</td><td>1</td><td>289</td></tr>\n",
       "\t<tr><td>1004098</td><td>45498551794</td><td>verified   </td><td>Michelle </td><td>Manhattan</td><td>Murray Hill       </td><td>40.74767</td><td>-73.97500</td><td>United States</td><td>US</td><td>⋯</td><td>2013</td><td>$577  </td><td>$115</td><td> 3</td><td> 74</td><td>6/22/2019 </td><td>0.59</td><td> 3</td><td>1</td><td>374</td></tr>\n",
       "\t<tr><td>1004650</td><td>61300605564</td><td>NA         </td><td>Alberta  </td><td>Brooklyn </td><td>Bedford-Stuyvesant</td><td>40.68688</td><td>-73.95596</td><td>United States</td><td>US</td><td>⋯</td><td>2015</td><td>$71   </td><td>$14 </td><td>45</td><td> 49</td><td>10/5/2017 </td><td>0.40</td><td> 5</td><td>1</td><td>224</td></tr>\n",
       "\t<tr><td>1005202</td><td>90821839709</td><td>unconfirmed</td><td>Emma     </td><td>Brooklyn </td><td>Bedford-Stuyvesant</td><td>40.68688</td><td>-73.95596</td><td>United States</td><td>US</td><td>⋯</td><td>2009</td><td>$1,060</td><td>$212</td><td>45</td><td> 49</td><td>10/5/2017 </td><td>0.40</td><td> 5</td><td>1</td><td>219</td></tr>\n",
       "\t<tr><td>1005754</td><td>79384379533</td><td>verified   </td><td>Evelyn   </td><td>Manhattan</td><td>Hell's Kitchen    </td><td>40.76489</td><td>-73.98493</td><td>United States</td><td>US</td><td>⋯</td><td>2005</td><td>$1,018</td><td>$204</td><td> 2</td><td>430</td><td>6/24/2019 </td><td>3.47</td><td> 3</td><td>1</td><td>180</td></tr>\n",
       "\t<tr><td>1006307</td><td>75527839483</td><td>unconfirmed</td><td>Carl     </td><td>Manhattan</td><td>Upper West Side   </td><td>40.80178</td><td>-73.96723</td><td>United States</td><td>US</td><td>⋯</td><td>2015</td><td>$291  </td><td>$58 </td><td> 2</td><td>118</td><td>7/21/2017 </td><td>0.99</td><td> 5</td><td>1</td><td>375</td></tr>\n",
       "\t<tr><td>1006859</td><td> 1280143094</td><td>verified   </td><td>Miranda  </td><td>Manhattan</td><td>Chinatown         </td><td>40.71344</td><td>-73.99037</td><td>United States</td><td>US</td><td>⋯</td><td>2004</td><td>$319  </td><td>$64 </td><td> 1</td><td>160</td><td>6/9/2019  </td><td>1.33</td><td> 3</td><td>4</td><td>  1</td></tr>\n",
       "\t<tr><td>1007411</td><td>18824631834</td><td>verified   </td><td>Alan     </td><td>Manhattan</td><td>Upper West Side   </td><td>40.80316</td><td>-73.96545</td><td>United States</td><td>US</td><td>⋯</td><td>2008</td><td>$606  </td><td>$121</td><td> 5</td><td> 53</td><td>6/22/2019 </td><td>0.43</td><td> 4</td><td>1</td><td>163</td></tr>\n",
       "\t<tr><td>1007964</td><td>88136055909</td><td>verified   </td><td>NA       </td><td>Manhattan</td><td>Hell's Kitchen    </td><td>40.76076</td><td>-73.98867</td><td>United States</td><td>US</td><td>⋯</td><td>2008</td><td>$714  </td><td>$143</td><td> 2</td><td>188</td><td>6/23/2019 </td><td>1.50</td><td> 4</td><td>1</td><td>258</td></tr>\n",
       "\t<tr><td>1008516</td><td>26802410424</td><td>verified   </td><td>Darcy    </td><td>brookln  </td><td>South Slope       </td><td>40.66829</td><td>-73.98779</td><td>United States</td><td>US</td><td>⋯</td><td>2010</td><td>$580  </td><td>$116</td><td> 4</td><td>167</td><td>6/24/2019 </td><td>1.34</td><td> 4</td><td>3</td><td> 47</td></tr>\n",
       "\t<tr><td>1009068</td><td>88920244552</td><td>verified   </td><td>Leonardo </td><td>Manhattan</td><td>Upper West Side   </td><td>40.79826</td><td>-73.96113</td><td>United States</td><td>US</td><td>⋯</td><td>2019</td><td>$149  </td><td>$30 </td><td> 2</td><td>113</td><td>7/5/2019  </td><td>0.91</td><td> 3</td><td>1</td><td> 68</td></tr>\n",
       "\t<tr><td>1009621</td><td>46551725984</td><td>verified   </td><td>Daniel   </td><td>Manhattan</td><td>West Village      </td><td>40.73530</td><td>-74.00525</td><td>United States</td><td>US</td><td>⋯</td><td>2018</td><td>$578  </td><td>NA  </td><td>90</td><td> 27</td><td>10/31/2018</td><td>0.22</td><td> 3</td><td>1</td><td>100</td></tr>\n",
       "\t<tr><td>1010173</td><td>62566345680</td><td>unconfirmed</td><td>Heather  </td><td>Brooklyn </td><td>Williamsburg      </td><td>40.70837</td><td>-73.95352</td><td>United States</td><td>NA</td><td>⋯</td><td>2009</td><td>$778  </td><td>NA  </td><td> 2</td><td>148</td><td>6/29/2019 </td><td>1.20</td><td> 3</td><td>1</td><td>197</td></tr>\n",
       "\t<tr><td>1010725</td><td>80380130347</td><td>verified   </td><td>Ryan     </td><td>Brooklyn </td><td>Fort Greene       </td><td>40.69169</td><td>-73.97185</td><td>United States</td><td>NA</td><td>⋯</td><td>2006</td><td>$656  </td><td>NA  </td><td> 2</td><td>198</td><td>6/28/2019 </td><td>1.72</td><td> 5</td><td>1</td><td> 96</td></tr>\n",
       "\t<tr><td>1011277</td><td>73862528370</td><td>verified   </td><td>Alberta  </td><td>manhatan </td><td>Chelsea           </td><td>40.74192</td><td>-73.99501</td><td>United States</td><td>NA</td><td>⋯</td><td>2008</td><td>$460  </td><td>NA  </td><td> 1</td><td>260</td><td>7/1/2019  </td><td>2.12</td><td> 3</td><td>1</td><td>325</td></tr>\n",
       "\t<tr><td>1011830</td><td>72145018858</td><td>NA         </td><td>Martin   </td><td>Brooklyn </td><td>Crown Heights     </td><td>40.67592</td><td>-73.94694</td><td>United States</td><td>NA</td><td>⋯</td><td>2004</td><td>$1,095</td><td>NA  </td><td> 3</td><td> 53</td><td>6/22/2019 </td><td>4.44</td><td> 5</td><td>1</td><td>345</td></tr>\n",
       "\t<tr><td>1012382</td><td>79805143117</td><td>verified   </td><td>Audrey   </td><td>Manhattan</td><td>East Harlem       </td><td>40.79685</td><td>-73.94872</td><td>United States</td><td>NA</td><td>⋯</td><td>2013</td><td>$281  </td><td>$56 </td><td> 7</td><td>  0</td><td>NA        </td><td>  NA</td><td> 3</td><td>2</td><td>347</td></tr>\n",
       "\t<tr><td>1012934</td><td>86554611512</td><td>verified   </td><td>Alissa   </td><td>Brooklyn </td><td>Williamsburg      </td><td>40.71842</td><td>-73.95718</td><td>United States</td><td>NA</td><td>⋯</td><td>2016</td><td>$477  </td><td>$95 </td><td> 3</td><td>  9</td><td>12/28/2021</td><td>0.07</td><td> 3</td><td>1</td><td>193</td></tr>\n",
       "\t<tr><td>1013487</td><td>53754237010</td><td>verified   </td><td>Mary     </td><td>Brooklyn </td><td>Park Slope        </td><td>40.68069</td><td>-73.97706</td><td>United States</td><td>NA</td><td>⋯</td><td>2013</td><td>$133  </td><td>$27 </td><td> 2</td><td>130</td><td>7/1/2019  </td><td>1.09</td><td> 4</td><td>6</td><td> 54</td></tr>\n",
       "\t<tr><td>1014039</td><td>87668933180</td><td>NA         </td><td>William  </td><td>Brooklyn </td><td>Park Slope        </td><td>40.67989</td><td>-73.97798</td><td>United States</td><td>NA</td><td>⋯</td><td>2017</td><td>$1,050</td><td>$210</td><td> 1</td><td> 39</td><td>1/1/2019  </td><td>0.37</td><td> 3</td><td>6</td><td>  9</td></tr>\n",
       "\t<tr><td>1014591</td><td>57827496420</td><td>unconfirmed</td><td>Charlotte</td><td>Brooklyn </td><td>Park Slope        </td><td>40.68001</td><td>-73.97865</td><td>United States</td><td>NA</td><td>⋯</td><td>2005</td><td>$816  </td><td>$163</td><td> 2</td><td> 71</td><td>7/2/2019  </td><td>0.61</td><td> 4</td><td>6</td><td>344</td></tr>\n",
       "\t<tr><td>1015144</td><td>48387947293</td><td>NA         </td><td>Miranda  </td><td>Brooklyn </td><td>Bedford-Stuyvesant</td><td>40.68371</td><td>-73.94028</td><td>United States</td><td>NA</td><td>⋯</td><td>2006</td><td>$1,175</td><td>$235</td><td> 2</td><td> 88</td><td>6/19/2019 </td><td>0.73</td><td> 4</td><td>2</td><td>372</td></tr>\n",
       "\t<tr><td>1015696</td><td>81686279636</td><td>NA         </td><td>Carlos   </td><td>Brooklyn </td><td>Windsor Terrace   </td><td>40.65599</td><td>-73.97519</td><td>United States</td><td>NA</td><td>⋯</td><td>2021</td><td>$530  </td><td>$106</td><td> 1</td><td> 19</td><td>6/23/2019 </td><td>1.37</td><td> 5</td><td>2</td><td>344</td></tr>\n",
       "\t<tr><td>1016248</td><td>38811420224</td><td>verified   </td><td>Adrianna </td><td>Manhattan</td><td>Inwood            </td><td>40.86754</td><td>-73.92639</td><td>United States</td><td>NA</td><td>⋯</td><td>2017</td><td>$274  </td><td>$55 </td><td> 4</td><td>  0</td><td>NA        </td><td>  NA</td><td>NA</td><td>1</td><td> 96</td></tr>\n",
       "\t<tr><td>1016800</td><td>19382804591</td><td>unconfirmed</td><td>Andrew   </td><td>Manhattan</td><td>Hell's Kitchen    </td><td>40.76715</td><td>-73.98533</td><td>United States</td><td>NA</td><td>⋯</td><td>2016</td><td>$209  </td><td>$42 </td><td>10</td><td> 58</td><td>8/13/2017 </td><td>0.49</td><td>NA</td><td>1</td><td>103</td></tr>\n",
       "\t<tr><td>1017353</td><td>51449163855</td><td>verified   </td><td>Daryl    </td><td>Manhattan</td><td>Inwood            </td><td>40.86482</td><td>-73.92106</td><td>United States</td><td>NA</td><td>⋯</td><td>2021</td><td>$432  </td><td>$86 </td><td> 3</td><td>108</td><td>6/15/2019 </td><td>1.11</td><td>NA</td><td>3</td><td>172</td></tr>\n",
       "\t<tr><td>⋮</td><td>⋮</td><td>⋮</td><td>⋮</td><td>⋮</td><td>⋮</td><td>⋮</td><td>⋮</td><td>⋮</td><td>⋮</td><td>⋱</td><td>⋮</td><td>⋮</td><td>⋮</td><td>⋮</td><td>⋮</td><td>⋮</td><td>⋮</td><td>⋮</td><td>⋮</td><td>⋮</td></tr>\n",
       "\t<tr><td>1153219</td><td>37061887763</td><td>verified   </td><td>Owens   </td><td>Manhattan</td><td>Upper West Side    </td><td>40.77956</td><td>-73.98098</td><td>United States</td><td>US</td><td>⋯</td><td>2022</td><td>$1,127</td><td>$225</td><td>  2</td><td>210</td><td>7/6/2019  </td><td>2.10</td><td> 2</td><td> 1</td><td>267</td></tr>\n",
       "\t<tr><td>1153771</td><td>11267838049</td><td>unconfirmed</td><td>Miller  </td><td>Brooklyn </td><td>Bedford-Stuyvesant </td><td>40.68276</td><td>-73.95264</td><td>United States</td><td>US</td><td>⋯</td><td>2015</td><td>$368  </td><td>$74 </td><td>  5</td><td> 64</td><td>1/5/2019  </td><td>0.67</td><td> 5</td><td> 1</td><td>300</td></tr>\n",
       "\t<tr><td>1154323</td><td>82126050175</td><td>unconfirmed</td><td>Smith   </td><td>Brooklyn </td><td>Williamsburg       </td><td>40.71368</td><td>-73.96260</td><td>United States</td><td>US</td><td>⋯</td><td>2016</td><td>$679  </td><td>$136</td><td>  3</td><td>  0</td><td>NA        </td><td>  NA</td><td> 2</td><td> 1</td><td>350</td></tr>\n",
       "\t<tr><td>1154875</td><td>18425219763</td><td>unconfirmed</td><td>Chapman </td><td>Manhattan</td><td>East Village       </td><td>40.72956</td><td>-73.98158</td><td>United States</td><td>US</td><td>⋯</td><td>2012</td><td>$850  </td><td>$170</td><td>  7</td><td>  5</td><td>1/3/2019  </td><td>0.15</td><td> 4</td><td> 1</td><td> 33</td></tr>\n",
       "\t<tr><td>1155428</td><td>29306345588</td><td>unconfirmed</td><td>Owens   </td><td>Brooklyn </td><td>Williamsburg       </td><td>40.71069</td><td>-73.95175</td><td>United States</td><td>US</td><td>⋯</td><td>2006</td><td>$1,003</td><td>$201</td><td> 10</td><td> 49</td><td>6/29/2019 </td><td>0.48</td><td> 1</td><td> 1</td><td>407</td></tr>\n",
       "\t<tr><td>1155980</td><td>32635231420</td><td>verified   </td><td>Nelson  </td><td>Brooklyn </td><td>Williamsburg       </td><td>40.70863</td><td>-73.94641</td><td>United States</td><td>US</td><td>⋯</td><td>2022</td><td>$875  </td><td>$175</td><td> NA</td><td>132</td><td>7/7/2019  </td><td>1.27</td><td> 5</td><td> 1</td><td>422</td></tr>\n",
       "\t<tr><td>1156532</td><td>60088050246</td><td>unconfirmed</td><td>Cooper  </td><td>Manhattan</td><td>Harlem             </td><td>40.82888</td><td>-73.94307</td><td>United States</td><td>US</td><td>⋯</td><td>2006</td><td>$953  </td><td>$191</td><td> NA</td><td> 20</td><td>1/2/2019  </td><td>0.26</td><td> 3</td><td> 1</td><td>378</td></tr>\n",
       "\t<tr><td>1157085</td><td>57936271725</td><td>verified   </td><td>Payne   </td><td>Brooklyn </td><td>Park Slope         </td><td>40.67319</td><td>-73.97323</td><td>United States</td><td>US</td><td>⋯</td><td>2007</td><td>$720  </td><td>$144</td><td> NA</td><td> 11</td><td>5/2/2013  </td><td>0.11</td><td> 5</td><td> 1</td><td> 46</td></tr>\n",
       "\t<tr><td>1157637</td><td>33238731556</td><td>verified   </td><td>Higgins </td><td>Brooklyn </td><td>Carroll Gardens    </td><td>40.67846</td><td>-73.99443</td><td>United States</td><td>US</td><td>⋯</td><td>2004</td><td>$387  </td><td>$77 </td><td> NA</td><td> 51</td><td>7/1/2019  </td><td>0.57</td><td> 4</td><td> 1</td><td>101</td></tr>\n",
       "\t<tr><td>1158189</td><td>16343223827</td><td>unconfirmed</td><td>Thompson</td><td>Brooklyn </td><td>Crown Heights      </td><td>40.67150</td><td>-73.94808</td><td>United States</td><td>US</td><td>⋯</td><td>2014</td><td>$662  </td><td>$132</td><td> NA</td><td> 15</td><td>6/30/2019 </td><td>0.15</td><td> 5</td><td> 5</td><td>210</td></tr>\n",
       "\t<tr><td>1158742</td><td>28086905848</td><td>unconfirmed</td><td>Clark   </td><td>Manhattan</td><td>East Village       </td><td>40.72681</td><td>-73.98534</td><td>United States</td><td>US</td><td>⋯</td><td>2007</td><td>$375  </td><td>$75 </td><td> NA</td><td> 67</td><td>6/25/2019 </td><td>1.31</td><td> 2</td><td> 1</td><td>104</td></tr>\n",
       "\t<tr><td>1159294</td><td>62992139309</td><td>NA         </td><td>Payne   </td><td>Manhattan</td><td>Lower East Side    </td><td>40.71904</td><td>-73.99392</td><td>United States</td><td>US</td><td>⋯</td><td>  NA</td><td>$706  </td><td>$141</td><td> NA</td><td>109</td><td>6/23/2019 </td><td>1.11</td><td> 4</td><td> 3</td><td>350</td></tr>\n",
       "\t<tr><td>1159846</td><td>98480978167</td><td>NA         </td><td>Baker   </td><td>NA       </td><td>Williamsburg       </td><td>40.71031</td><td>-73.95830</td><td>United States</td><td>US</td><td>⋯</td><td>  NA</td><td>$387  </td><td>$77 </td><td> NA</td><td>  9</td><td>2/16/2019 </td><td>0.11</td><td> 4</td><td> 1</td><td>323</td></tr>\n",
       "\t<tr><td>1160398</td><td>82083475949</td><td>NA         </td><td>Brown   </td><td>Manhattan</td><td>Harlem             </td><td>40.81322</td><td>-73.95306</td><td>United States</td><td>US</td><td>⋯</td><td>  NA</td><td>$487  </td><td>$97 </td><td> NA</td><td>187</td><td>6/23/2019 </td><td>1.87</td><td> 2</td><td> 1</td><td> 34</td></tr>\n",
       "\t<tr><td>1160951</td><td>83307746837</td><td>NA         </td><td>Jones   </td><td>Brooklyn </td><td>Park Slope         </td><td>40.67732</td><td>-73.98225</td><td>United States</td><td>US</td><td>⋯</td><td>  NA</td><td>$779  </td><td>$156</td><td> NA</td><td>214</td><td>6/23/2019 </td><td>2.08</td><td> 4</td><td> 2</td><td>188</td></tr>\n",
       "\t<tr><td>1161503</td><td>72299294739</td><td>NA         </td><td>Williams</td><td>Brooklyn </td><td>Gowanus            </td><td>40.68076</td><td>-73.98960</td><td>United States</td><td>US</td><td>⋯</td><td>  NA</td><td>$209  </td><td>$42 </td><td> NA</td><td> 69</td><td>7/1/2019  </td><td>0.79</td><td> 3</td><td> 2</td><td> 96</td></tr>\n",
       "\t<tr><td>1162055</td><td>72771681789</td><td>NA         </td><td>Payne   </td><td>Manhattan</td><td>East Harlem        </td><td>40.79603</td><td>-73.94903</td><td>United States</td><td>US</td><td>⋯</td><td>  NA</td><td>$1,083</td><td>$217</td><td> NA</td><td> 22</td><td>6/15/2019 </td><td>0.26</td><td> 2</td><td> 1</td><td>352</td></tr>\n",
       "\t<tr><td>1162608</td><td>39776214246</td><td>NA         </td><td>Ellis   </td><td>Brooklyn </td><td>Williamsburg       </td><td>40.71492</td><td>-73.96282</td><td>United States</td><td>US</td><td>⋯</td><td>  NA</td><td>$616  </td><td>$123</td><td> NA</td><td> 56</td><td>5/6/2019  </td><td>0.56</td><td> 3</td><td> 1</td><td> 78</td></tr>\n",
       "\t<tr><td>1163160</td><td>  689339660</td><td>NA         </td><td>Cameron </td><td>Manhattan</td><td>Morningside Heights</td><td>40.80393</td><td>-73.95838</td><td>United States</td><td>US</td><td>⋯</td><td>2022</td><td>$968  </td><td>$194</td><td>  3</td><td> 93</td><td>6/22/2019 </td><td>0.93</td><td> 5</td><td> 1</td><td>416</td></tr>\n",
       "\t<tr><td>1163712</td><td>47501921105</td><td>NA         </td><td>Nelson  </td><td>Manhattan</td><td>Upper West Side    </td><td>40.80082</td><td>-73.96520</td><td>United States</td><td>US</td><td>⋯</td><td>2020</td><td>$643  </td><td>$129</td><td>  1</td><td>104</td><td>6/25/2019 </td><td>1.05</td><td> 2</td><td> 2</td><td>206</td></tr>\n",
       "\t<tr><td>1164265</td><td>11745797323</td><td>NA         </td><td>Tucker  </td><td>NA       </td><td>Harlem             </td><td>40.82976</td><td>-73.94867</td><td>United States</td><td>US</td><td>⋯</td><td>2019</td><td>$960  </td><td>$192</td><td> 30</td><td> 64</td><td>7/6/2018  </td><td>0.68</td><td> 1</td><td> 1</td><td> 52</td></tr>\n",
       "\t<tr><td>1164817</td><td>14516682915</td><td>NA         </td><td>Cole    </td><td>Brooklyn </td><td>Bedford-Stuyvesant </td><td>40.68300</td><td>-73.91981</td><td>United States</td><td>US</td><td>⋯</td><td>2004</td><td>$961  </td><td>$192</td><td>  3</td><td>127</td><td>6/24/2019 </td><td>1.25</td><td> 1</td><td> 2</td><td>295</td></tr>\n",
       "\t<tr><td>1165369</td><td> 5813584967</td><td>verified   </td><td>Harris  </td><td>Manhattan</td><td>Upper West Side    </td><td>40.78971</td><td>-73.97290</td><td>United States</td><td>US</td><td>⋯</td><td>2010</td><td>$544  </td><td>$109</td><td> 11</td><td> 30</td><td>6/13/2019 </td><td>0.32</td><td> 4</td><td> 1</td><td> 76</td></tr>\n",
       "\t<tr><td>1165921</td><td>70108456652</td><td>verified   </td><td>Ryan    </td><td>Brooklyn </td><td>Carroll Gardens    </td><td>40.67817</td><td>-73.99495</td><td>United States</td><td>US</td><td>⋯</td><td>2015</td><td>$523  </td><td>$105</td><td>  2</td><td>106</td><td>6/27/2019 </td><td>1.34</td><td> 5</td><td> 3</td><td> 16</td></tr>\n",
       "\t<tr><td>1166474</td><td>66810551515</td><td>unconfirmed</td><td>Russell </td><td>Brooklyn </td><td>Greenpoint         </td><td>40.73119</td><td>-73.95578</td><td>United States</td><td>US</td><td>⋯</td><td>2011</td><td>$614  </td><td>$123</td><td>452</td><td>  6</td><td>11/13/2016</td><td>0.10</td><td> 4</td><td> 1</td><td>351</td></tr>\n",
       "\t<tr><td>1167026</td><td>22374277894</td><td>verified   </td><td>Farrell </td><td>Manhattan</td><td>Little Italy       </td><td>40.71943</td><td>-73.99627</td><td>United States</td><td>US</td><td>⋯</td><td>2013</td><td>$178  </td><td>$36 </td><td>  2</td><td>191</td><td>6/20/2019 </td><td>1.88</td><td> 2</td><td> 1</td><td>397</td></tr>\n",
       "\t<tr><td>1167578</td><td>74507894043</td><td>verified   </td><td>Jones   </td><td>Manhattan</td><td>Upper West Side    </td><td>40.78000</td><td>-73.98249</td><td>United States</td><td>US</td><td>⋯</td><td>2008</td><td>$61   </td><td>$12 </td><td> 30</td><td> 48</td><td>6/11/2019 </td><td>0.55</td><td> 3</td><td> 1</td><td>276</td></tr>\n",
       "\t<tr><td>1168131</td><td>55936255796</td><td>unconfirmed</td><td>Morrison</td><td>Brooklyn </td><td>Bushwick           </td><td>40.70514</td><td>-73.91922</td><td>United States</td><td>US</td><td>⋯</td><td>2019</td><td>$901  </td><td>$180</td><td>  5</td><td> 47</td><td>6/29/2019 </td><td>0.49</td><td> 3</td><td> 1</td><td> 68</td></tr>\n",
       "\t<tr><td>1168683</td><td> 6985874676</td><td>unconfirmed</td><td>Robinson</td><td>Manhattan</td><td>Inwood             </td><td>40.86713</td><td>-73.92811</td><td>United States</td><td>US</td><td>⋯</td><td>2012</td><td>$1,189</td><td>$238</td><td>  2</td><td>120</td><td>6/30/2019 </td><td>1.27</td><td> 4</td><td> 1</td><td>398</td></tr>\n",
       "\t<tr><td>1169235</td><td>56474437179</td><td>unconfirmed</td><td>Elliott </td><td>Manhattan</td><td>East Village       </td><td>40.73000</td><td>       NA</td><td>NA           </td><td>NA</td><td>⋯</td><td>  NA</td><td>NA    </td><td>NA  </td><td> NA</td><td> NA</td><td>NA        </td><td>  NA</td><td>NA</td><td>NA</td><td> NA</td></tr>\n",
       "</tbody>\n",
       "</table>\n"
      ],
      "text/latex": [
       "A data.frame: 305 × 23\n",
       "\\begin{tabular}{lllllllllllllllllllll}\n",
       " id & host.id & host\\_identity\\_verified & host.name & neighbourhood.group & neighbourhood & lat & long & country & country.code & ⋯ & Construction.year & price & service.fee & minimum.nights & number.of.reviews & last.review & reviews.per.month & review.rate.number & calculated.host.listings.count & availability.365\\\\\n",
       " <int> & <dbl> & <chr> & <chr> & <chr> & <chr> & <dbl> & <dbl> & <chr> & <chr> & ⋯ & <int> & <chr> & <chr> & <int> & <int> & <chr> & <dbl> & <int> & <int> & <int>\\\\\n",
       "\\hline\n",
       "\t 1001254 & 80014485718 & unconfirmed & Madaline  & Brooklyn  & Kensington         & 40.64749 & -73.97237 & United States & US & ⋯ & 2020 & \\$966   & \\$193 & 10 &   9 & 10/19/2021 & 0.21 &  4 & 6 & 286\\\\\n",
       "\t 1002102 & 52335172823 & verified    & Jenna     & Manhattan & Midtown            & 40.75362 & -73.98377 & United States & US & ⋯ & 2007 & \\$142   & \\$28  & 30 &  45 & 5/21/2022  & 0.38 &  4 & 2 & 228\\\\\n",
       "\t 1002403 & 78829239556 & NA          & Elise     & Manhattan & Harlem             & 40.80902 & -73.94190 & United States & US & ⋯ & 2005 & \\$620   & \\$124 &  3 &   0 & NA         &   NA &  5 & 1 & 352\\\\\n",
       "\t 1002755 & 85098326012 & unconfirmed & Garry     & Brooklyn  & Clinton Hill       & 40.68514 & -73.95976 & United States & US & ⋯ & 2005 & \\$368   & \\$74  & 30 & 270 & 7/5/2019   & 4.64 &  4 & 1 & 322\\\\\n",
       "\t 1003689 & 92037596077 & verified    & Lyndon    & Manhattan & East Harlem        & 40.79851 & -73.94399 & United States & US & ⋯ & 2009 & \\$204   & \\$41  & 10 &   9 & 11/19/2018 & 0.10 &  3 & 1 & 289\\\\\n",
       "\t 1004098 & 45498551794 & verified    & Michelle  & Manhattan & Murray Hill        & 40.74767 & -73.97500 & United States & US & ⋯ & 2013 & \\$577   & \\$115 &  3 &  74 & 6/22/2019  & 0.59 &  3 & 1 & 374\\\\\n",
       "\t 1004650 & 61300605564 & NA          & Alberta   & Brooklyn  & Bedford-Stuyvesant & 40.68688 & -73.95596 & United States & US & ⋯ & 2015 & \\$71    & \\$14  & 45 &  49 & 10/5/2017  & 0.40 &  5 & 1 & 224\\\\\n",
       "\t 1005202 & 90821839709 & unconfirmed & Emma      & Brooklyn  & Bedford-Stuyvesant & 40.68688 & -73.95596 & United States & US & ⋯ & 2009 & \\$1,060 & \\$212 & 45 &  49 & 10/5/2017  & 0.40 &  5 & 1 & 219\\\\\n",
       "\t 1005754 & 79384379533 & verified    & Evelyn    & Manhattan & Hell's Kitchen     & 40.76489 & -73.98493 & United States & US & ⋯ & 2005 & \\$1,018 & \\$204 &  2 & 430 & 6/24/2019  & 3.47 &  3 & 1 & 180\\\\\n",
       "\t 1006307 & 75527839483 & unconfirmed & Carl      & Manhattan & Upper West Side    & 40.80178 & -73.96723 & United States & US & ⋯ & 2015 & \\$291   & \\$58  &  2 & 118 & 7/21/2017  & 0.99 &  5 & 1 & 375\\\\\n",
       "\t 1006859 &  1280143094 & verified    & Miranda   & Manhattan & Chinatown          & 40.71344 & -73.99037 & United States & US & ⋯ & 2004 & \\$319   & \\$64  &  1 & 160 & 6/9/2019   & 1.33 &  3 & 4 &   1\\\\\n",
       "\t 1007411 & 18824631834 & verified    & Alan      & Manhattan & Upper West Side    & 40.80316 & -73.96545 & United States & US & ⋯ & 2008 & \\$606   & \\$121 &  5 &  53 & 6/22/2019  & 0.43 &  4 & 1 & 163\\\\\n",
       "\t 1007964 & 88136055909 & verified    & NA        & Manhattan & Hell's Kitchen     & 40.76076 & -73.98867 & United States & US & ⋯ & 2008 & \\$714   & \\$143 &  2 & 188 & 6/23/2019  & 1.50 &  4 & 1 & 258\\\\\n",
       "\t 1008516 & 26802410424 & verified    & Darcy     & brookln   & South Slope        & 40.66829 & -73.98779 & United States & US & ⋯ & 2010 & \\$580   & \\$116 &  4 & 167 & 6/24/2019  & 1.34 &  4 & 3 &  47\\\\\n",
       "\t 1009068 & 88920244552 & verified    & Leonardo  & Manhattan & Upper West Side    & 40.79826 & -73.96113 & United States & US & ⋯ & 2019 & \\$149   & \\$30  &  2 & 113 & 7/5/2019   & 0.91 &  3 & 1 &  68\\\\\n",
       "\t 1009621 & 46551725984 & verified    & Daniel    & Manhattan & West Village       & 40.73530 & -74.00525 & United States & US & ⋯ & 2018 & \\$578   & NA   & 90 &  27 & 10/31/2018 & 0.22 &  3 & 1 & 100\\\\\n",
       "\t 1010173 & 62566345680 & unconfirmed & Heather   & Brooklyn  & Williamsburg       & 40.70837 & -73.95352 & United States & NA & ⋯ & 2009 & \\$778   & NA   &  2 & 148 & 6/29/2019  & 1.20 &  3 & 1 & 197\\\\\n",
       "\t 1010725 & 80380130347 & verified    & Ryan      & Brooklyn  & Fort Greene        & 40.69169 & -73.97185 & United States & NA & ⋯ & 2006 & \\$656   & NA   &  2 & 198 & 6/28/2019  & 1.72 &  5 & 1 &  96\\\\\n",
       "\t 1011277 & 73862528370 & verified    & Alberta   & manhatan  & Chelsea            & 40.74192 & -73.99501 & United States & NA & ⋯ & 2008 & \\$460   & NA   &  1 & 260 & 7/1/2019   & 2.12 &  3 & 1 & 325\\\\\n",
       "\t 1011830 & 72145018858 & NA          & Martin    & Brooklyn  & Crown Heights      & 40.67592 & -73.94694 & United States & NA & ⋯ & 2004 & \\$1,095 & NA   &  3 &  53 & 6/22/2019  & 4.44 &  5 & 1 & 345\\\\\n",
       "\t 1012382 & 79805143117 & verified    & Audrey    & Manhattan & East Harlem        & 40.79685 & -73.94872 & United States & NA & ⋯ & 2013 & \\$281   & \\$56  &  7 &   0 & NA         &   NA &  3 & 2 & 347\\\\\n",
       "\t 1012934 & 86554611512 & verified    & Alissa    & Brooklyn  & Williamsburg       & 40.71842 & -73.95718 & United States & NA & ⋯ & 2016 & \\$477   & \\$95  &  3 &   9 & 12/28/2021 & 0.07 &  3 & 1 & 193\\\\\n",
       "\t 1013487 & 53754237010 & verified    & Mary      & Brooklyn  & Park Slope         & 40.68069 & -73.97706 & United States & NA & ⋯ & 2013 & \\$133   & \\$27  &  2 & 130 & 7/1/2019   & 1.09 &  4 & 6 &  54\\\\\n",
       "\t 1014039 & 87668933180 & NA          & William   & Brooklyn  & Park Slope         & 40.67989 & -73.97798 & United States & NA & ⋯ & 2017 & \\$1,050 & \\$210 &  1 &  39 & 1/1/2019   & 0.37 &  3 & 6 &   9\\\\\n",
       "\t 1014591 & 57827496420 & unconfirmed & Charlotte & Brooklyn  & Park Slope         & 40.68001 & -73.97865 & United States & NA & ⋯ & 2005 & \\$816   & \\$163 &  2 &  71 & 7/2/2019   & 0.61 &  4 & 6 & 344\\\\\n",
       "\t 1015144 & 48387947293 & NA          & Miranda   & Brooklyn  & Bedford-Stuyvesant & 40.68371 & -73.94028 & United States & NA & ⋯ & 2006 & \\$1,175 & \\$235 &  2 &  88 & 6/19/2019  & 0.73 &  4 & 2 & 372\\\\\n",
       "\t 1015696 & 81686279636 & NA          & Carlos    & Brooklyn  & Windsor Terrace    & 40.65599 & -73.97519 & United States & NA & ⋯ & 2021 & \\$530   & \\$106 &  1 &  19 & 6/23/2019  & 1.37 &  5 & 2 & 344\\\\\n",
       "\t 1016248 & 38811420224 & verified    & Adrianna  & Manhattan & Inwood             & 40.86754 & -73.92639 & United States & NA & ⋯ & 2017 & \\$274   & \\$55  &  4 &   0 & NA         &   NA & NA & 1 &  96\\\\\n",
       "\t 1016800 & 19382804591 & unconfirmed & Andrew    & Manhattan & Hell's Kitchen     & 40.76715 & -73.98533 & United States & NA & ⋯ & 2016 & \\$209   & \\$42  & 10 &  58 & 8/13/2017  & 0.49 & NA & 1 & 103\\\\\n",
       "\t 1017353 & 51449163855 & verified    & Daryl     & Manhattan & Inwood             & 40.86482 & -73.92106 & United States & NA & ⋯ & 2021 & \\$432   & \\$86  &  3 & 108 & 6/15/2019  & 1.11 & NA & 3 & 172\\\\\n",
       "\t ⋮ & ⋮ & ⋮ & ⋮ & ⋮ & ⋮ & ⋮ & ⋮ & ⋮ & ⋮ & ⋱ & ⋮ & ⋮ & ⋮ & ⋮ & ⋮ & ⋮ & ⋮ & ⋮ & ⋮ & ⋮\\\\\n",
       "\t 1153219 & 37061887763 & verified    & Owens    & Manhattan & Upper West Side     & 40.77956 & -73.98098 & United States & US & ⋯ & 2022 & \\$1,127 & \\$225 &   2 & 210 & 7/6/2019   & 2.10 &  2 &  1 & 267\\\\\n",
       "\t 1153771 & 11267838049 & unconfirmed & Miller   & Brooklyn  & Bedford-Stuyvesant  & 40.68276 & -73.95264 & United States & US & ⋯ & 2015 & \\$368   & \\$74  &   5 &  64 & 1/5/2019   & 0.67 &  5 &  1 & 300\\\\\n",
       "\t 1154323 & 82126050175 & unconfirmed & Smith    & Brooklyn  & Williamsburg        & 40.71368 & -73.96260 & United States & US & ⋯ & 2016 & \\$679   & \\$136 &   3 &   0 & NA         &   NA &  2 &  1 & 350\\\\\n",
       "\t 1154875 & 18425219763 & unconfirmed & Chapman  & Manhattan & East Village        & 40.72956 & -73.98158 & United States & US & ⋯ & 2012 & \\$850   & \\$170 &   7 &   5 & 1/3/2019   & 0.15 &  4 &  1 &  33\\\\\n",
       "\t 1155428 & 29306345588 & unconfirmed & Owens    & Brooklyn  & Williamsburg        & 40.71069 & -73.95175 & United States & US & ⋯ & 2006 & \\$1,003 & \\$201 &  10 &  49 & 6/29/2019  & 0.48 &  1 &  1 & 407\\\\\n",
       "\t 1155980 & 32635231420 & verified    & Nelson   & Brooklyn  & Williamsburg        & 40.70863 & -73.94641 & United States & US & ⋯ & 2022 & \\$875   & \\$175 &  NA & 132 & 7/7/2019   & 1.27 &  5 &  1 & 422\\\\\n",
       "\t 1156532 & 60088050246 & unconfirmed & Cooper   & Manhattan & Harlem              & 40.82888 & -73.94307 & United States & US & ⋯ & 2006 & \\$953   & \\$191 &  NA &  20 & 1/2/2019   & 0.26 &  3 &  1 & 378\\\\\n",
       "\t 1157085 & 57936271725 & verified    & Payne    & Brooklyn  & Park Slope          & 40.67319 & -73.97323 & United States & US & ⋯ & 2007 & \\$720   & \\$144 &  NA &  11 & 5/2/2013   & 0.11 &  5 &  1 &  46\\\\\n",
       "\t 1157637 & 33238731556 & verified    & Higgins  & Brooklyn  & Carroll Gardens     & 40.67846 & -73.99443 & United States & US & ⋯ & 2004 & \\$387   & \\$77  &  NA &  51 & 7/1/2019   & 0.57 &  4 &  1 & 101\\\\\n",
       "\t 1158189 & 16343223827 & unconfirmed & Thompson & Brooklyn  & Crown Heights       & 40.67150 & -73.94808 & United States & US & ⋯ & 2014 & \\$662   & \\$132 &  NA &  15 & 6/30/2019  & 0.15 &  5 &  5 & 210\\\\\n",
       "\t 1158742 & 28086905848 & unconfirmed & Clark    & Manhattan & East Village        & 40.72681 & -73.98534 & United States & US & ⋯ & 2007 & \\$375   & \\$75  &  NA &  67 & 6/25/2019  & 1.31 &  2 &  1 & 104\\\\\n",
       "\t 1159294 & 62992139309 & NA          & Payne    & Manhattan & Lower East Side     & 40.71904 & -73.99392 & United States & US & ⋯ &   NA & \\$706   & \\$141 &  NA & 109 & 6/23/2019  & 1.11 &  4 &  3 & 350\\\\\n",
       "\t 1159846 & 98480978167 & NA          & Baker    & NA        & Williamsburg        & 40.71031 & -73.95830 & United States & US & ⋯ &   NA & \\$387   & \\$77  &  NA &   9 & 2/16/2019  & 0.11 &  4 &  1 & 323\\\\\n",
       "\t 1160398 & 82083475949 & NA          & Brown    & Manhattan & Harlem              & 40.81322 & -73.95306 & United States & US & ⋯ &   NA & \\$487   & \\$97  &  NA & 187 & 6/23/2019  & 1.87 &  2 &  1 &  34\\\\\n",
       "\t 1160951 & 83307746837 & NA          & Jones    & Brooklyn  & Park Slope          & 40.67732 & -73.98225 & United States & US & ⋯ &   NA & \\$779   & \\$156 &  NA & 214 & 6/23/2019  & 2.08 &  4 &  2 & 188\\\\\n",
       "\t 1161503 & 72299294739 & NA          & Williams & Brooklyn  & Gowanus             & 40.68076 & -73.98960 & United States & US & ⋯ &   NA & \\$209   & \\$42  &  NA &  69 & 7/1/2019   & 0.79 &  3 &  2 &  96\\\\\n",
       "\t 1162055 & 72771681789 & NA          & Payne    & Manhattan & East Harlem         & 40.79603 & -73.94903 & United States & US & ⋯ &   NA & \\$1,083 & \\$217 &  NA &  22 & 6/15/2019  & 0.26 &  2 &  1 & 352\\\\\n",
       "\t 1162608 & 39776214246 & NA          & Ellis    & Brooklyn  & Williamsburg        & 40.71492 & -73.96282 & United States & US & ⋯ &   NA & \\$616   & \\$123 &  NA &  56 & 5/6/2019   & 0.56 &  3 &  1 &  78\\\\\n",
       "\t 1163160 &   689339660 & NA          & Cameron  & Manhattan & Morningside Heights & 40.80393 & -73.95838 & United States & US & ⋯ & 2022 & \\$968   & \\$194 &   3 &  93 & 6/22/2019  & 0.93 &  5 &  1 & 416\\\\\n",
       "\t 1163712 & 47501921105 & NA          & Nelson   & Manhattan & Upper West Side     & 40.80082 & -73.96520 & United States & US & ⋯ & 2020 & \\$643   & \\$129 &   1 & 104 & 6/25/2019  & 1.05 &  2 &  2 & 206\\\\\n",
       "\t 1164265 & 11745797323 & NA          & Tucker   & NA        & Harlem              & 40.82976 & -73.94867 & United States & US & ⋯ & 2019 & \\$960   & \\$192 &  30 &  64 & 7/6/2018   & 0.68 &  1 &  1 &  52\\\\\n",
       "\t 1164817 & 14516682915 & NA          & Cole     & Brooklyn  & Bedford-Stuyvesant  & 40.68300 & -73.91981 & United States & US & ⋯ & 2004 & \\$961   & \\$192 &   3 & 127 & 6/24/2019  & 1.25 &  1 &  2 & 295\\\\\n",
       "\t 1165369 &  5813584967 & verified    & Harris   & Manhattan & Upper West Side     & 40.78971 & -73.97290 & United States & US & ⋯ & 2010 & \\$544   & \\$109 &  11 &  30 & 6/13/2019  & 0.32 &  4 &  1 &  76\\\\\n",
       "\t 1165921 & 70108456652 & verified    & Ryan     & Brooklyn  & Carroll Gardens     & 40.67817 & -73.99495 & United States & US & ⋯ & 2015 & \\$523   & \\$105 &   2 & 106 & 6/27/2019  & 1.34 &  5 &  3 &  16\\\\\n",
       "\t 1166474 & 66810551515 & unconfirmed & Russell  & Brooklyn  & Greenpoint          & 40.73119 & -73.95578 & United States & US & ⋯ & 2011 & \\$614   & \\$123 & 452 &   6 & 11/13/2016 & 0.10 &  4 &  1 & 351\\\\\n",
       "\t 1167026 & 22374277894 & verified    & Farrell  & Manhattan & Little Italy        & 40.71943 & -73.99627 & United States & US & ⋯ & 2013 & \\$178   & \\$36  &   2 & 191 & 6/20/2019  & 1.88 &  2 &  1 & 397\\\\\n",
       "\t 1167578 & 74507894043 & verified    & Jones    & Manhattan & Upper West Side     & 40.78000 & -73.98249 & United States & US & ⋯ & 2008 & \\$61    & \\$12  &  30 &  48 & 6/11/2019  & 0.55 &  3 &  1 & 276\\\\\n",
       "\t 1168131 & 55936255796 & unconfirmed & Morrison & Brooklyn  & Bushwick            & 40.70514 & -73.91922 & United States & US & ⋯ & 2019 & \\$901   & \\$180 &   5 &  47 & 6/29/2019  & 0.49 &  3 &  1 &  68\\\\\n",
       "\t 1168683 &  6985874676 & unconfirmed & Robinson & Manhattan & Inwood              & 40.86713 & -73.92811 & United States & US & ⋯ & 2012 & \\$1,189 & \\$238 &   2 & 120 & 6/30/2019  & 1.27 &  4 &  1 & 398\\\\\n",
       "\t 1169235 & 56474437179 & unconfirmed & Elliott  & Manhattan & East Village        & 40.73000 &        NA & NA            & NA & ⋯ &   NA & NA     & NA   &  NA &  NA & NA         &   NA & NA & NA &  NA\\\\\n",
       "\\end{tabular}\n"
      ],
      "text/markdown": [
       "\n",
       "A data.frame: 305 × 23\n",
       "\n",
       "| id &lt;int&gt; | host.id &lt;dbl&gt; | host_identity_verified &lt;chr&gt; | host.name &lt;chr&gt; | neighbourhood.group &lt;chr&gt; | neighbourhood &lt;chr&gt; | lat &lt;dbl&gt; | long &lt;dbl&gt; | country &lt;chr&gt; | country.code &lt;chr&gt; | ⋯ ⋯ | Construction.year &lt;int&gt; | price &lt;chr&gt; | service.fee &lt;chr&gt; | minimum.nights &lt;int&gt; | number.of.reviews &lt;int&gt; | last.review &lt;chr&gt; | reviews.per.month &lt;dbl&gt; | review.rate.number &lt;int&gt; | calculated.host.listings.count &lt;int&gt; | availability.365 &lt;int&gt; |\n",
       "|---|---|---|---|---|---|---|---|---|---|---|---|---|---|---|---|---|---|---|---|---|\n",
       "| 1001254 | 80014485718 | unconfirmed | Madaline  | Brooklyn  | Kensington         | 40.64749 | -73.97237 | United States | US | ⋯ | 2020 | $966   | $193 | 10 |   9 | 10/19/2021 | 0.21 |  4 | 6 | 286 |\n",
       "| 1002102 | 52335172823 | verified    | Jenna     | Manhattan | Midtown            | 40.75362 | -73.98377 | United States | US | ⋯ | 2007 | $142   | $28  | 30 |  45 | 5/21/2022  | 0.38 |  4 | 2 | 228 |\n",
       "| 1002403 | 78829239556 | NA          | Elise     | Manhattan | Harlem             | 40.80902 | -73.94190 | United States | US | ⋯ | 2005 | $620   | $124 |  3 |   0 | NA         |   NA |  5 | 1 | 352 |\n",
       "| 1002755 | 85098326012 | unconfirmed | Garry     | Brooklyn  | Clinton Hill       | 40.68514 | -73.95976 | United States | US | ⋯ | 2005 | $368   | $74  | 30 | 270 | 7/5/2019   | 4.64 |  4 | 1 | 322 |\n",
       "| 1003689 | 92037596077 | verified    | Lyndon    | Manhattan | East Harlem        | 40.79851 | -73.94399 | United States | US | ⋯ | 2009 | $204   | $41  | 10 |   9 | 11/19/2018 | 0.10 |  3 | 1 | 289 |\n",
       "| 1004098 | 45498551794 | verified    | Michelle  | Manhattan | Murray Hill        | 40.74767 | -73.97500 | United States | US | ⋯ | 2013 | $577   | $115 |  3 |  74 | 6/22/2019  | 0.59 |  3 | 1 | 374 |\n",
       "| 1004650 | 61300605564 | NA          | Alberta   | Brooklyn  | Bedford-Stuyvesant | 40.68688 | -73.95596 | United States | US | ⋯ | 2015 | $71    | $14  | 45 |  49 | 10/5/2017  | 0.40 |  5 | 1 | 224 |\n",
       "| 1005202 | 90821839709 | unconfirmed | Emma      | Brooklyn  | Bedford-Stuyvesant | 40.68688 | -73.95596 | United States | US | ⋯ | 2009 | $1,060 | $212 | 45 |  49 | 10/5/2017  | 0.40 |  5 | 1 | 219 |\n",
       "| 1005754 | 79384379533 | verified    | Evelyn    | Manhattan | Hell's Kitchen     | 40.76489 | -73.98493 | United States | US | ⋯ | 2005 | $1,018 | $204 |  2 | 430 | 6/24/2019  | 3.47 |  3 | 1 | 180 |\n",
       "| 1006307 | 75527839483 | unconfirmed | Carl      | Manhattan | Upper West Side    | 40.80178 | -73.96723 | United States | US | ⋯ | 2015 | $291   | $58  |  2 | 118 | 7/21/2017  | 0.99 |  5 | 1 | 375 |\n",
       "| 1006859 |  1280143094 | verified    | Miranda   | Manhattan | Chinatown          | 40.71344 | -73.99037 | United States | US | ⋯ | 2004 | $319   | $64  |  1 | 160 | 6/9/2019   | 1.33 |  3 | 4 |   1 |\n",
       "| 1007411 | 18824631834 | verified    | Alan      | Manhattan | Upper West Side    | 40.80316 | -73.96545 | United States | US | ⋯ | 2008 | $606   | $121 |  5 |  53 | 6/22/2019  | 0.43 |  4 | 1 | 163 |\n",
       "| 1007964 | 88136055909 | verified    | NA        | Manhattan | Hell's Kitchen     | 40.76076 | -73.98867 | United States | US | ⋯ | 2008 | $714   | $143 |  2 | 188 | 6/23/2019  | 1.50 |  4 | 1 | 258 |\n",
       "| 1008516 | 26802410424 | verified    | Darcy     | brookln   | South Slope        | 40.66829 | -73.98779 | United States | US | ⋯ | 2010 | $580   | $116 |  4 | 167 | 6/24/2019  | 1.34 |  4 | 3 |  47 |\n",
       "| 1009068 | 88920244552 | verified    | Leonardo  | Manhattan | Upper West Side    | 40.79826 | -73.96113 | United States | US | ⋯ | 2019 | $149   | $30  |  2 | 113 | 7/5/2019   | 0.91 |  3 | 1 |  68 |\n",
       "| 1009621 | 46551725984 | verified    | Daniel    | Manhattan | West Village       | 40.73530 | -74.00525 | United States | US | ⋯ | 2018 | $578   | NA   | 90 |  27 | 10/31/2018 | 0.22 |  3 | 1 | 100 |\n",
       "| 1010173 | 62566345680 | unconfirmed | Heather   | Brooklyn  | Williamsburg       | 40.70837 | -73.95352 | United States | NA | ⋯ | 2009 | $778   | NA   |  2 | 148 | 6/29/2019  | 1.20 |  3 | 1 | 197 |\n",
       "| 1010725 | 80380130347 | verified    | Ryan      | Brooklyn  | Fort Greene        | 40.69169 | -73.97185 | United States | NA | ⋯ | 2006 | $656   | NA   |  2 | 198 | 6/28/2019  | 1.72 |  5 | 1 |  96 |\n",
       "| 1011277 | 73862528370 | verified    | Alberta   | manhatan  | Chelsea            | 40.74192 | -73.99501 | United States | NA | ⋯ | 2008 | $460   | NA   |  1 | 260 | 7/1/2019   | 2.12 |  3 | 1 | 325 |\n",
       "| 1011830 | 72145018858 | NA          | Martin    | Brooklyn  | Crown Heights      | 40.67592 | -73.94694 | United States | NA | ⋯ | 2004 | $1,095 | NA   |  3 |  53 | 6/22/2019  | 4.44 |  5 | 1 | 345 |\n",
       "| 1012382 | 79805143117 | verified    | Audrey    | Manhattan | East Harlem        | 40.79685 | -73.94872 | United States | NA | ⋯ | 2013 | $281   | $56  |  7 |   0 | NA         |   NA |  3 | 2 | 347 |\n",
       "| 1012934 | 86554611512 | verified    | Alissa    | Brooklyn  | Williamsburg       | 40.71842 | -73.95718 | United States | NA | ⋯ | 2016 | $477   | $95  |  3 |   9 | 12/28/2021 | 0.07 |  3 | 1 | 193 |\n",
       "| 1013487 | 53754237010 | verified    | Mary      | Brooklyn  | Park Slope         | 40.68069 | -73.97706 | United States | NA | ⋯ | 2013 | $133   | $27  |  2 | 130 | 7/1/2019   | 1.09 |  4 | 6 |  54 |\n",
       "| 1014039 | 87668933180 | NA          | William   | Brooklyn  | Park Slope         | 40.67989 | -73.97798 | United States | NA | ⋯ | 2017 | $1,050 | $210 |  1 |  39 | 1/1/2019   | 0.37 |  3 | 6 |   9 |\n",
       "| 1014591 | 57827496420 | unconfirmed | Charlotte | Brooklyn  | Park Slope         | 40.68001 | -73.97865 | United States | NA | ⋯ | 2005 | $816   | $163 |  2 |  71 | 7/2/2019   | 0.61 |  4 | 6 | 344 |\n",
       "| 1015144 | 48387947293 | NA          | Miranda   | Brooklyn  | Bedford-Stuyvesant | 40.68371 | -73.94028 | United States | NA | ⋯ | 2006 | $1,175 | $235 |  2 |  88 | 6/19/2019  | 0.73 |  4 | 2 | 372 |\n",
       "| 1015696 | 81686279636 | NA          | Carlos    | Brooklyn  | Windsor Terrace    | 40.65599 | -73.97519 | United States | NA | ⋯ | 2021 | $530   | $106 |  1 |  19 | 6/23/2019  | 1.37 |  5 | 2 | 344 |\n",
       "| 1016248 | 38811420224 | verified    | Adrianna  | Manhattan | Inwood             | 40.86754 | -73.92639 | United States | NA | ⋯ | 2017 | $274   | $55  |  4 |   0 | NA         |   NA | NA | 1 |  96 |\n",
       "| 1016800 | 19382804591 | unconfirmed | Andrew    | Manhattan | Hell's Kitchen     | 40.76715 | -73.98533 | United States | NA | ⋯ | 2016 | $209   | $42  | 10 |  58 | 8/13/2017  | 0.49 | NA | 1 | 103 |\n",
       "| 1017353 | 51449163855 | verified    | Daryl     | Manhattan | Inwood             | 40.86482 | -73.92106 | United States | NA | ⋯ | 2021 | $432   | $86  |  3 | 108 | 6/15/2019  | 1.11 | NA | 3 | 172 |\n",
       "| ⋮ | ⋮ | ⋮ | ⋮ | ⋮ | ⋮ | ⋮ | ⋮ | ⋮ | ⋮ | ⋱ | ⋮ | ⋮ | ⋮ | ⋮ | ⋮ | ⋮ | ⋮ | ⋮ | ⋮ | ⋮ |\n",
       "| 1153219 | 37061887763 | verified    | Owens    | Manhattan | Upper West Side     | 40.77956 | -73.98098 | United States | US | ⋯ | 2022 | $1,127 | $225 |   2 | 210 | 7/6/2019   | 2.10 |  2 |  1 | 267 |\n",
       "| 1153771 | 11267838049 | unconfirmed | Miller   | Brooklyn  | Bedford-Stuyvesant  | 40.68276 | -73.95264 | United States | US | ⋯ | 2015 | $368   | $74  |   5 |  64 | 1/5/2019   | 0.67 |  5 |  1 | 300 |\n",
       "| 1154323 | 82126050175 | unconfirmed | Smith    | Brooklyn  | Williamsburg        | 40.71368 | -73.96260 | United States | US | ⋯ | 2016 | $679   | $136 |   3 |   0 | NA         |   NA |  2 |  1 | 350 |\n",
       "| 1154875 | 18425219763 | unconfirmed | Chapman  | Manhattan | East Village        | 40.72956 | -73.98158 | United States | US | ⋯ | 2012 | $850   | $170 |   7 |   5 | 1/3/2019   | 0.15 |  4 |  1 |  33 |\n",
       "| 1155428 | 29306345588 | unconfirmed | Owens    | Brooklyn  | Williamsburg        | 40.71069 | -73.95175 | United States | US | ⋯ | 2006 | $1,003 | $201 |  10 |  49 | 6/29/2019  | 0.48 |  1 |  1 | 407 |\n",
       "| 1155980 | 32635231420 | verified    | Nelson   | Brooklyn  | Williamsburg        | 40.70863 | -73.94641 | United States | US | ⋯ | 2022 | $875   | $175 |  NA | 132 | 7/7/2019   | 1.27 |  5 |  1 | 422 |\n",
       "| 1156532 | 60088050246 | unconfirmed | Cooper   | Manhattan | Harlem              | 40.82888 | -73.94307 | United States | US | ⋯ | 2006 | $953   | $191 |  NA |  20 | 1/2/2019   | 0.26 |  3 |  1 | 378 |\n",
       "| 1157085 | 57936271725 | verified    | Payne    | Brooklyn  | Park Slope          | 40.67319 | -73.97323 | United States | US | ⋯ | 2007 | $720   | $144 |  NA |  11 | 5/2/2013   | 0.11 |  5 |  1 |  46 |\n",
       "| 1157637 | 33238731556 | verified    | Higgins  | Brooklyn  | Carroll Gardens     | 40.67846 | -73.99443 | United States | US | ⋯ | 2004 | $387   | $77  |  NA |  51 | 7/1/2019   | 0.57 |  4 |  1 | 101 |\n",
       "| 1158189 | 16343223827 | unconfirmed | Thompson | Brooklyn  | Crown Heights       | 40.67150 | -73.94808 | United States | US | ⋯ | 2014 | $662   | $132 |  NA |  15 | 6/30/2019  | 0.15 |  5 |  5 | 210 |\n",
       "| 1158742 | 28086905848 | unconfirmed | Clark    | Manhattan | East Village        | 40.72681 | -73.98534 | United States | US | ⋯ | 2007 | $375   | $75  |  NA |  67 | 6/25/2019  | 1.31 |  2 |  1 | 104 |\n",
       "| 1159294 | 62992139309 | NA          | Payne    | Manhattan | Lower East Side     | 40.71904 | -73.99392 | United States | US | ⋯ |   NA | $706   | $141 |  NA | 109 | 6/23/2019  | 1.11 |  4 |  3 | 350 |\n",
       "| 1159846 | 98480978167 | NA          | Baker    | NA        | Williamsburg        | 40.71031 | -73.95830 | United States | US | ⋯ |   NA | $387   | $77  |  NA |   9 | 2/16/2019  | 0.11 |  4 |  1 | 323 |\n",
       "| 1160398 | 82083475949 | NA          | Brown    | Manhattan | Harlem              | 40.81322 | -73.95306 | United States | US | ⋯ |   NA | $487   | $97  |  NA | 187 | 6/23/2019  | 1.87 |  2 |  1 |  34 |\n",
       "| 1160951 | 83307746837 | NA          | Jones    | Brooklyn  | Park Slope          | 40.67732 | -73.98225 | United States | US | ⋯ |   NA | $779   | $156 |  NA | 214 | 6/23/2019  | 2.08 |  4 |  2 | 188 |\n",
       "| 1161503 | 72299294739 | NA          | Williams | Brooklyn  | Gowanus             | 40.68076 | -73.98960 | United States | US | ⋯ |   NA | $209   | $42  |  NA |  69 | 7/1/2019   | 0.79 |  3 |  2 |  96 |\n",
       "| 1162055 | 72771681789 | NA          | Payne    | Manhattan | East Harlem         | 40.79603 | -73.94903 | United States | US | ⋯ |   NA | $1,083 | $217 |  NA |  22 | 6/15/2019  | 0.26 |  2 |  1 | 352 |\n",
       "| 1162608 | 39776214246 | NA          | Ellis    | Brooklyn  | Williamsburg        | 40.71492 | -73.96282 | United States | US | ⋯ |   NA | $616   | $123 |  NA |  56 | 5/6/2019   | 0.56 |  3 |  1 |  78 |\n",
       "| 1163160 |   689339660 | NA          | Cameron  | Manhattan | Morningside Heights | 40.80393 | -73.95838 | United States | US | ⋯ | 2022 | $968   | $194 |   3 |  93 | 6/22/2019  | 0.93 |  5 |  1 | 416 |\n",
       "| 1163712 | 47501921105 | NA          | Nelson   | Manhattan | Upper West Side     | 40.80082 | -73.96520 | United States | US | ⋯ | 2020 | $643   | $129 |   1 | 104 | 6/25/2019  | 1.05 |  2 |  2 | 206 |\n",
       "| 1164265 | 11745797323 | NA          | Tucker   | NA        | Harlem              | 40.82976 | -73.94867 | United States | US | ⋯ | 2019 | $960   | $192 |  30 |  64 | 7/6/2018   | 0.68 |  1 |  1 |  52 |\n",
       "| 1164817 | 14516682915 | NA          | Cole     | Brooklyn  | Bedford-Stuyvesant  | 40.68300 | -73.91981 | United States | US | ⋯ | 2004 | $961   | $192 |   3 | 127 | 6/24/2019  | 1.25 |  1 |  2 | 295 |\n",
       "| 1165369 |  5813584967 | verified    | Harris   | Manhattan | Upper West Side     | 40.78971 | -73.97290 | United States | US | ⋯ | 2010 | $544   | $109 |  11 |  30 | 6/13/2019  | 0.32 |  4 |  1 |  76 |\n",
       "| 1165921 | 70108456652 | verified    | Ryan     | Brooklyn  | Carroll Gardens     | 40.67817 | -73.99495 | United States | US | ⋯ | 2015 | $523   | $105 |   2 | 106 | 6/27/2019  | 1.34 |  5 |  3 |  16 |\n",
       "| 1166474 | 66810551515 | unconfirmed | Russell  | Brooklyn  | Greenpoint          | 40.73119 | -73.95578 | United States | US | ⋯ | 2011 | $614   | $123 | 452 |   6 | 11/13/2016 | 0.10 |  4 |  1 | 351 |\n",
       "| 1167026 | 22374277894 | verified    | Farrell  | Manhattan | Little Italy        | 40.71943 | -73.99627 | United States | US | ⋯ | 2013 | $178   | $36  |   2 | 191 | 6/20/2019  | 1.88 |  2 |  1 | 397 |\n",
       "| 1167578 | 74507894043 | verified    | Jones    | Manhattan | Upper West Side     | 40.78000 | -73.98249 | United States | US | ⋯ | 2008 | $61    | $12  |  30 |  48 | 6/11/2019  | 0.55 |  3 |  1 | 276 |\n",
       "| 1168131 | 55936255796 | unconfirmed | Morrison | Brooklyn  | Bushwick            | 40.70514 | -73.91922 | United States | US | ⋯ | 2019 | $901   | $180 |   5 |  47 | 6/29/2019  | 0.49 |  3 |  1 |  68 |\n",
       "| 1168683 |  6985874676 | unconfirmed | Robinson | Manhattan | Inwood              | 40.86713 | -73.92811 | United States | US | ⋯ | 2012 | $1,189 | $238 |   2 | 120 | 6/30/2019  | 1.27 |  4 |  1 | 398 |\n",
       "| 1169235 | 56474437179 | unconfirmed | Elliott  | Manhattan | East Village        | 40.73000 |        NA | NA            | NA | ⋯ |   NA | NA     | NA   |  NA |  NA | NA         |   NA | NA | NA |  NA |\n",
       "\n"
      ],
      "text/plain": [
       "    id      host.id     host_identity_verified host.name neighbourhood.group\n",
       "1   1001254 80014485718 unconfirmed            Madaline  Brooklyn           \n",
       "2   1002102 52335172823 verified               Jenna     Manhattan          \n",
       "3   1002403 78829239556 NA                     Elise     Manhattan          \n",
       "4   1002755 85098326012 unconfirmed            Garry     Brooklyn           \n",
       "5   1003689 92037596077 verified               Lyndon    Manhattan          \n",
       "6   1004098 45498551794 verified               Michelle  Manhattan          \n",
       "7   1004650 61300605564 NA                     Alberta   Brooklyn           \n",
       "8   1005202 90821839709 unconfirmed            Emma      Brooklyn           \n",
       "9   1005754 79384379533 verified               Evelyn    Manhattan          \n",
       "10  1006307 75527839483 unconfirmed            Carl      Manhattan          \n",
       "11  1006859  1280143094 verified               Miranda   Manhattan          \n",
       "12  1007411 18824631834 verified               Alan      Manhattan          \n",
       "13  1007964 88136055909 verified               NA        Manhattan          \n",
       "14  1008516 26802410424 verified               Darcy     brookln            \n",
       "15  1009068 88920244552 verified               Leonardo  Manhattan          \n",
       "16  1009621 46551725984 verified               Daniel    Manhattan          \n",
       "17  1010173 62566345680 unconfirmed            Heather   Brooklyn           \n",
       "18  1010725 80380130347 verified               Ryan      Brooklyn           \n",
       "19  1011277 73862528370 verified               Alberta   manhatan           \n",
       "20  1011830 72145018858 NA                     Martin    Brooklyn           \n",
       "21  1012382 79805143117 verified               Audrey    Manhattan          \n",
       "22  1012934 86554611512 verified               Alissa    Brooklyn           \n",
       "23  1013487 53754237010 verified               Mary      Brooklyn           \n",
       "24  1014039 87668933180 NA                     William   Brooklyn           \n",
       "25  1014591 57827496420 unconfirmed            Charlotte Brooklyn           \n",
       "26  1015144 48387947293 NA                     Miranda   Brooklyn           \n",
       "27  1015696 81686279636 NA                     Carlos    Brooklyn           \n",
       "28  1016248 38811420224 verified               Adrianna  Manhattan          \n",
       "29  1016800 19382804591 unconfirmed            Andrew    Manhattan          \n",
       "30  1017353 51449163855 verified               Daryl     Manhattan          \n",
       "⋮   ⋮       ⋮           ⋮                      ⋮         ⋮                  \n",
       "276 1153219 37061887763 verified               Owens     Manhattan          \n",
       "277 1153771 11267838049 unconfirmed            Miller    Brooklyn           \n",
       "278 1154323 82126050175 unconfirmed            Smith     Brooklyn           \n",
       "279 1154875 18425219763 unconfirmed            Chapman   Manhattan          \n",
       "280 1155428 29306345588 unconfirmed            Owens     Brooklyn           \n",
       "281 1155980 32635231420 verified               Nelson    Brooklyn           \n",
       "282 1156532 60088050246 unconfirmed            Cooper    Manhattan          \n",
       "283 1157085 57936271725 verified               Payne     Brooklyn           \n",
       "284 1157637 33238731556 verified               Higgins   Brooklyn           \n",
       "285 1158189 16343223827 unconfirmed            Thompson  Brooklyn           \n",
       "286 1158742 28086905848 unconfirmed            Clark     Manhattan          \n",
       "287 1159294 62992139309 NA                     Payne     Manhattan          \n",
       "288 1159846 98480978167 NA                     Baker     NA                 \n",
       "289 1160398 82083475949 NA                     Brown     Manhattan          \n",
       "290 1160951 83307746837 NA                     Jones     Brooklyn           \n",
       "291 1161503 72299294739 NA                     Williams  Brooklyn           \n",
       "292 1162055 72771681789 NA                     Payne     Manhattan          \n",
       "293 1162608 39776214246 NA                     Ellis     Brooklyn           \n",
       "294 1163160   689339660 NA                     Cameron   Manhattan          \n",
       "295 1163712 47501921105 NA                     Nelson    Manhattan          \n",
       "296 1164265 11745797323 NA                     Tucker    NA                 \n",
       "297 1164817 14516682915 NA                     Cole      Brooklyn           \n",
       "298 1165369  5813584967 verified               Harris    Manhattan          \n",
       "299 1165921 70108456652 verified               Ryan      Brooklyn           \n",
       "300 1166474 66810551515 unconfirmed            Russell   Brooklyn           \n",
       "301 1167026 22374277894 verified               Farrell   Manhattan          \n",
       "302 1167578 74507894043 verified               Jones     Manhattan          \n",
       "303 1168131 55936255796 unconfirmed            Morrison  Brooklyn           \n",
       "304 1168683  6985874676 unconfirmed            Robinson  Manhattan          \n",
       "305 1169235 56474437179 unconfirmed            Elliott   Manhattan          \n",
       "    neighbourhood       lat      long      country       country.code ⋯\n",
       "1   Kensington          40.64749 -73.97237 United States US           ⋯\n",
       "2   Midtown             40.75362 -73.98377 United States US           ⋯\n",
       "3   Harlem              40.80902 -73.94190 United States US           ⋯\n",
       "4   Clinton Hill        40.68514 -73.95976 United States US           ⋯\n",
       "5   East Harlem         40.79851 -73.94399 United States US           ⋯\n",
       "6   Murray Hill         40.74767 -73.97500 United States US           ⋯\n",
       "7   Bedford-Stuyvesant  40.68688 -73.95596 United States US           ⋯\n",
       "8   Bedford-Stuyvesant  40.68688 -73.95596 United States US           ⋯\n",
       "9   Hell's Kitchen      40.76489 -73.98493 United States US           ⋯\n",
       "10  Upper West Side     40.80178 -73.96723 United States US           ⋯\n",
       "11  Chinatown           40.71344 -73.99037 United States US           ⋯\n",
       "12  Upper West Side     40.80316 -73.96545 United States US           ⋯\n",
       "13  Hell's Kitchen      40.76076 -73.98867 United States US           ⋯\n",
       "14  South Slope         40.66829 -73.98779 United States US           ⋯\n",
       "15  Upper West Side     40.79826 -73.96113 United States US           ⋯\n",
       "16  West Village        40.73530 -74.00525 United States US           ⋯\n",
       "17  Williamsburg        40.70837 -73.95352 United States NA           ⋯\n",
       "18  Fort Greene         40.69169 -73.97185 United States NA           ⋯\n",
       "19  Chelsea             40.74192 -73.99501 United States NA           ⋯\n",
       "20  Crown Heights       40.67592 -73.94694 United States NA           ⋯\n",
       "21  East Harlem         40.79685 -73.94872 United States NA           ⋯\n",
       "22  Williamsburg        40.71842 -73.95718 United States NA           ⋯\n",
       "23  Park Slope          40.68069 -73.97706 United States NA           ⋯\n",
       "24  Park Slope          40.67989 -73.97798 United States NA           ⋯\n",
       "25  Park Slope          40.68001 -73.97865 United States NA           ⋯\n",
       "26  Bedford-Stuyvesant  40.68371 -73.94028 United States NA           ⋯\n",
       "27  Windsor Terrace     40.65599 -73.97519 United States NA           ⋯\n",
       "28  Inwood              40.86754 -73.92639 United States NA           ⋯\n",
       "29  Hell's Kitchen      40.76715 -73.98533 United States NA           ⋯\n",
       "30  Inwood              40.86482 -73.92106 United States NA           ⋯\n",
       "⋮   ⋮                   ⋮        ⋮         ⋮             ⋮            ⋱\n",
       "276 Upper West Side     40.77956 -73.98098 United States US           ⋯\n",
       "277 Bedford-Stuyvesant  40.68276 -73.95264 United States US           ⋯\n",
       "278 Williamsburg        40.71368 -73.96260 United States US           ⋯\n",
       "279 East Village        40.72956 -73.98158 United States US           ⋯\n",
       "280 Williamsburg        40.71069 -73.95175 United States US           ⋯\n",
       "281 Williamsburg        40.70863 -73.94641 United States US           ⋯\n",
       "282 Harlem              40.82888 -73.94307 United States US           ⋯\n",
       "283 Park Slope          40.67319 -73.97323 United States US           ⋯\n",
       "284 Carroll Gardens     40.67846 -73.99443 United States US           ⋯\n",
       "285 Crown Heights       40.67150 -73.94808 United States US           ⋯\n",
       "286 East Village        40.72681 -73.98534 United States US           ⋯\n",
       "287 Lower East Side     40.71904 -73.99392 United States US           ⋯\n",
       "288 Williamsburg        40.71031 -73.95830 United States US           ⋯\n",
       "289 Harlem              40.81322 -73.95306 United States US           ⋯\n",
       "290 Park Slope          40.67732 -73.98225 United States US           ⋯\n",
       "291 Gowanus             40.68076 -73.98960 United States US           ⋯\n",
       "292 East Harlem         40.79603 -73.94903 United States US           ⋯\n",
       "293 Williamsburg        40.71492 -73.96282 United States US           ⋯\n",
       "294 Morningside Heights 40.80393 -73.95838 United States US           ⋯\n",
       "295 Upper West Side     40.80082 -73.96520 United States US           ⋯\n",
       "296 Harlem              40.82976 -73.94867 United States US           ⋯\n",
       "297 Bedford-Stuyvesant  40.68300 -73.91981 United States US           ⋯\n",
       "298 Upper West Side     40.78971 -73.97290 United States US           ⋯\n",
       "299 Carroll Gardens     40.67817 -73.99495 United States US           ⋯\n",
       "300 Greenpoint          40.73119 -73.95578 United States US           ⋯\n",
       "301 Little Italy        40.71943 -73.99627 United States US           ⋯\n",
       "302 Upper West Side     40.78000 -73.98249 United States US           ⋯\n",
       "303 Bushwick            40.70514 -73.91922 United States US           ⋯\n",
       "304 Inwood              40.86713 -73.92811 United States US           ⋯\n",
       "305 East Village        40.73000        NA NA            NA           ⋯\n",
       "    Construction.year price  service.fee minimum.nights number.of.reviews\n",
       "1   2020              $966   $193        10               9              \n",
       "2   2007              $142   $28         30              45              \n",
       "3   2005              $620   $124         3               0              \n",
       "4   2005              $368   $74         30             270              \n",
       "5   2009              $204   $41         10               9              \n",
       "6   2013              $577   $115         3              74              \n",
       "7   2015              $71    $14         45              49              \n",
       "8   2009              $1,060 $212        45              49              \n",
       "9   2005              $1,018 $204         2             430              \n",
       "10  2015              $291   $58          2             118              \n",
       "11  2004              $319   $64          1             160              \n",
       "12  2008              $606   $121         5              53              \n",
       "13  2008              $714   $143         2             188              \n",
       "14  2010              $580   $116         4             167              \n",
       "15  2019              $149   $30          2             113              \n",
       "16  2018              $578   NA          90              27              \n",
       "17  2009              $778   NA           2             148              \n",
       "18  2006              $656   NA           2             198              \n",
       "19  2008              $460   NA           1             260              \n",
       "20  2004              $1,095 NA           3              53              \n",
       "21  2013              $281   $56          7               0              \n",
       "22  2016              $477   $95          3               9              \n",
       "23  2013              $133   $27          2             130              \n",
       "24  2017              $1,050 $210         1              39              \n",
       "25  2005              $816   $163         2              71              \n",
       "26  2006              $1,175 $235         2              88              \n",
       "27  2021              $530   $106         1              19              \n",
       "28  2017              $274   $55          4               0              \n",
       "29  2016              $209   $42         10              58              \n",
       "30  2021              $432   $86          3             108              \n",
       "⋮   ⋮                 ⋮      ⋮           ⋮              ⋮                \n",
       "276 2022              $1,127 $225          2            210              \n",
       "277 2015              $368   $74           5             64              \n",
       "278 2016              $679   $136          3              0              \n",
       "279 2012              $850   $170          7              5              \n",
       "280 2006              $1,003 $201         10             49              \n",
       "281 2022              $875   $175         NA            132              \n",
       "282 2006              $953   $191         NA             20              \n",
       "283 2007              $720   $144         NA             11              \n",
       "284 2004              $387   $77          NA             51              \n",
       "285 2014              $662   $132         NA             15              \n",
       "286 2007              $375   $75          NA             67              \n",
       "287   NA              $706   $141         NA            109              \n",
       "288   NA              $387   $77          NA              9              \n",
       "289   NA              $487   $97          NA            187              \n",
       "290   NA              $779   $156         NA            214              \n",
       "291   NA              $209   $42          NA             69              \n",
       "292   NA              $1,083 $217         NA             22              \n",
       "293   NA              $616   $123         NA             56              \n",
       "294 2022              $968   $194          3             93              \n",
       "295 2020              $643   $129          1            104              \n",
       "296 2019              $960   $192         30             64              \n",
       "297 2004              $961   $192          3            127              \n",
       "298 2010              $544   $109         11             30              \n",
       "299 2015              $523   $105          2            106              \n",
       "300 2011              $614   $123        452              6              \n",
       "301 2013              $178   $36           2            191              \n",
       "302 2008              $61    $12          30             48              \n",
       "303 2019              $901   $180          5             47              \n",
       "304 2012              $1,189 $238          2            120              \n",
       "305   NA              NA     NA           NA             NA              \n",
       "    last.review reviews.per.month review.rate.number\n",
       "1   10/19/2021  0.21               4                \n",
       "2   5/21/2022   0.38               4                \n",
       "3   NA            NA               5                \n",
       "4   7/5/2019    4.64               4                \n",
       "5   11/19/2018  0.10               3                \n",
       "6   6/22/2019   0.59               3                \n",
       "7   10/5/2017   0.40               5                \n",
       "8   10/5/2017   0.40               5                \n",
       "9   6/24/2019   3.47               3                \n",
       "10  7/21/2017   0.99               5                \n",
       "11  6/9/2019    1.33               3                \n",
       "12  6/22/2019   0.43               4                \n",
       "13  6/23/2019   1.50               4                \n",
       "14  6/24/2019   1.34               4                \n",
       "15  7/5/2019    0.91               3                \n",
       "16  10/31/2018  0.22               3                \n",
       "17  6/29/2019   1.20               3                \n",
       "18  6/28/2019   1.72               5                \n",
       "19  7/1/2019    2.12               3                \n",
       "20  6/22/2019   4.44               5                \n",
       "21  NA            NA               3                \n",
       "22  12/28/2021  0.07               3                \n",
       "23  7/1/2019    1.09               4                \n",
       "24  1/1/2019    0.37               3                \n",
       "25  7/2/2019    0.61               4                \n",
       "26  6/19/2019   0.73               4                \n",
       "27  6/23/2019   1.37               5                \n",
       "28  NA            NA              NA                \n",
       "29  8/13/2017   0.49              NA                \n",
       "30  6/15/2019   1.11              NA                \n",
       "⋮   ⋮           ⋮                 ⋮                 \n",
       "276 7/6/2019    2.10               2                \n",
       "277 1/5/2019    0.67               5                \n",
       "278 NA            NA               2                \n",
       "279 1/3/2019    0.15               4                \n",
       "280 6/29/2019   0.48               1                \n",
       "281 7/7/2019    1.27               5                \n",
       "282 1/2/2019    0.26               3                \n",
       "283 5/2/2013    0.11               5                \n",
       "284 7/1/2019    0.57               4                \n",
       "285 6/30/2019   0.15               5                \n",
       "286 6/25/2019   1.31               2                \n",
       "287 6/23/2019   1.11               4                \n",
       "288 2/16/2019   0.11               4                \n",
       "289 6/23/2019   1.87               2                \n",
       "290 6/23/2019   2.08               4                \n",
       "291 7/1/2019    0.79               3                \n",
       "292 6/15/2019   0.26               2                \n",
       "293 5/6/2019    0.56               3                \n",
       "294 6/22/2019   0.93               5                \n",
       "295 6/25/2019   1.05               2                \n",
       "296 7/6/2018    0.68               1                \n",
       "297 6/24/2019   1.25               1                \n",
       "298 6/13/2019   0.32               4                \n",
       "299 6/27/2019   1.34               5                \n",
       "300 11/13/2016  0.10               4                \n",
       "301 6/20/2019   1.88               2                \n",
       "302 6/11/2019   0.55               3                \n",
       "303 6/29/2019   0.49               3                \n",
       "304 6/30/2019   1.27               4                \n",
       "305 NA            NA              NA                \n",
       "    calculated.host.listings.count availability.365\n",
       "1   6                              286             \n",
       "2   2                              228             \n",
       "3   1                              352             \n",
       "4   1                              322             \n",
       "5   1                              289             \n",
       "6   1                              374             \n",
       "7   1                              224             \n",
       "8   1                              219             \n",
       "9   1                              180             \n",
       "10  1                              375             \n",
       "11  4                                1             \n",
       "12  1                              163             \n",
       "13  1                              258             \n",
       "14  3                               47             \n",
       "15  1                               68             \n",
       "16  1                              100             \n",
       "17  1                              197             \n",
       "18  1                               96             \n",
       "19  1                              325             \n",
       "20  1                              345             \n",
       "21  2                              347             \n",
       "22  1                              193             \n",
       "23  6                               54             \n",
       "24  6                                9             \n",
       "25  6                              344             \n",
       "26  2                              372             \n",
       "27  2                              344             \n",
       "28  1                               96             \n",
       "29  1                              103             \n",
       "30  3                              172             \n",
       "⋮   ⋮                              ⋮               \n",
       "276  1                             267             \n",
       "277  1                             300             \n",
       "278  1                             350             \n",
       "279  1                              33             \n",
       "280  1                             407             \n",
       "281  1                             422             \n",
       "282  1                             378             \n",
       "283  1                              46             \n",
       "284  1                             101             \n",
       "285  5                             210             \n",
       "286  1                             104             \n",
       "287  3                             350             \n",
       "288  1                             323             \n",
       "289  1                              34             \n",
       "290  2                             188             \n",
       "291  2                              96             \n",
       "292  1                             352             \n",
       "293  1                              78             \n",
       "294  1                             416             \n",
       "295  2                             206             \n",
       "296  1                              52             \n",
       "297  2                             295             \n",
       "298  1                              76             \n",
       "299  3                              16             \n",
       "300  1                             351             \n",
       "301  1                             397             \n",
       "302  1                             276             \n",
       "303  1                              68             \n",
       "304  1                             398             \n",
       "305 NA                              NA             "
      ]
     },
     "metadata": {},
     "output_type": "display_data"
    }
   ],
   "source": [
    "airbnb_data <- read.csv(\"Airbnb_Open_Data.csv\", header = T, na.strings = \"\", fileEncoding=\"UTF-8\") # set \"\" to NA\n",
    "airbnb_data"
   ]
  },
  {
   "cell_type": "markdown",
   "id": "d542ae1d",
   "metadata": {},
   "source": [
    "### Clean Data\n",
    "\n",
    "#### Get corresponding response and predictor columns"
   ]
  },
  {
   "cell_type": "code",
   "execution_count": 23,
   "id": "4f63c851",
   "metadata": {
    "lines_to_next_cell": 2
   },
   "outputs": [],
   "source": [
    "new_data <- subset(as.data.frame(airbnb_data), \n",
    "                   select = c(price, instant_bookable, room.type, Construction.year, \n",
    "                              service.fee, minimum.nights, review.rate.number, availability.365))"
   ]
  },
  {
   "cell_type": "code",
   "execution_count": 24,
   "id": "414e9e46",
   "metadata": {
    "lines_to_next_cell": 0
   },
   "outputs": [
    {
     "data": {
      "text/html": [
       "<table class=\"dataframe\">\n",
       "<caption>A data.frame: 6 × 8</caption>\n",
       "<thead>\n",
       "\t<tr><th></th><th scope=col>price</th><th scope=col>instant_bookable</th><th scope=col>room.type</th><th scope=col>Construction.year</th><th scope=col>service.fee</th><th scope=col>minimum.nights</th><th scope=col>review.rate.number</th><th scope=col>availability.365</th></tr>\n",
       "\t<tr><th></th><th scope=col>&lt;chr&gt;</th><th scope=col>&lt;lgl&gt;</th><th scope=col>&lt;chr&gt;</th><th scope=col>&lt;int&gt;</th><th scope=col>&lt;chr&gt;</th><th scope=col>&lt;int&gt;</th><th scope=col>&lt;int&gt;</th><th scope=col>&lt;int&gt;</th></tr>\n",
       "</thead>\n",
       "<tbody>\n",
       "\t<tr><th scope=row>1</th><td>$966</td><td>FALSE</td><td>Private room   </td><td>2020</td><td>$193</td><td>10</td><td>4</td><td>286</td></tr>\n",
       "\t<tr><th scope=row>2</th><td>$142</td><td>FALSE</td><td>Entire home/apt</td><td>2007</td><td>$28 </td><td>30</td><td>4</td><td>228</td></tr>\n",
       "\t<tr><th scope=row>3</th><td>$620</td><td> TRUE</td><td>Private room   </td><td>2005</td><td>$124</td><td> 3</td><td>5</td><td>352</td></tr>\n",
       "\t<tr><th scope=row>4</th><td>$368</td><td> TRUE</td><td>Entire home/apt</td><td>2005</td><td>$74 </td><td>30</td><td>4</td><td>322</td></tr>\n",
       "\t<tr><th scope=row>5</th><td>$204</td><td>FALSE</td><td>Entire home/apt</td><td>2009</td><td>$41 </td><td>10</td><td>3</td><td>289</td></tr>\n",
       "\t<tr><th scope=row>6</th><td>$577</td><td> TRUE</td><td>Entire home/apt</td><td>2013</td><td>$115</td><td> 3</td><td>3</td><td>374</td></tr>\n",
       "</tbody>\n",
       "</table>\n"
      ],
      "text/latex": [
       "A data.frame: 6 × 8\n",
       "\\begin{tabular}{r|llllllll}\n",
       "  & price & instant\\_bookable & room.type & Construction.year & service.fee & minimum.nights & review.rate.number & availability.365\\\\\n",
       "  & <chr> & <lgl> & <chr> & <int> & <chr> & <int> & <int> & <int>\\\\\n",
       "\\hline\n",
       "\t1 & \\$966 & FALSE & Private room    & 2020 & \\$193 & 10 & 4 & 286\\\\\n",
       "\t2 & \\$142 & FALSE & Entire home/apt & 2007 & \\$28  & 30 & 4 & 228\\\\\n",
       "\t3 & \\$620 &  TRUE & Private room    & 2005 & \\$124 &  3 & 5 & 352\\\\\n",
       "\t4 & \\$368 &  TRUE & Entire home/apt & 2005 & \\$74  & 30 & 4 & 322\\\\\n",
       "\t5 & \\$204 & FALSE & Entire home/apt & 2009 & \\$41  & 10 & 3 & 289\\\\\n",
       "\t6 & \\$577 &  TRUE & Entire home/apt & 2013 & \\$115 &  3 & 3 & 374\\\\\n",
       "\\end{tabular}\n"
      ],
      "text/markdown": [
       "\n",
       "A data.frame: 6 × 8\n",
       "\n",
       "| <!--/--> | price &lt;chr&gt; | instant_bookable &lt;lgl&gt; | room.type &lt;chr&gt; | Construction.year &lt;int&gt; | service.fee &lt;chr&gt; | minimum.nights &lt;int&gt; | review.rate.number &lt;int&gt; | availability.365 &lt;int&gt; |\n",
       "|---|---|---|---|---|---|---|---|---|\n",
       "| 1 | $966 | FALSE | Private room    | 2020 | $193 | 10 | 4 | 286 |\n",
       "| 2 | $142 | FALSE | Entire home/apt | 2007 | $28  | 30 | 4 | 228 |\n",
       "| 3 | $620 |  TRUE | Private room    | 2005 | $124 |  3 | 5 | 352 |\n",
       "| 4 | $368 |  TRUE | Entire home/apt | 2005 | $74  | 30 | 4 | 322 |\n",
       "| 5 | $204 | FALSE | Entire home/apt | 2009 | $41  | 10 | 3 | 289 |\n",
       "| 6 | $577 |  TRUE | Entire home/apt | 2013 | $115 |  3 | 3 | 374 |\n",
       "\n"
      ],
      "text/plain": [
       "  price instant_bookable room.type       Construction.year service.fee\n",
       "1 $966  FALSE            Private room    2020              $193       \n",
       "2 $142  FALSE            Entire home/apt 2007              $28        \n",
       "3 $620   TRUE            Private room    2005              $124       \n",
       "4 $368   TRUE            Entire home/apt 2005              $74        \n",
       "5 $204  FALSE            Entire home/apt 2009              $41        \n",
       "6 $577   TRUE            Entire home/apt 2013              $115       \n",
       "  minimum.nights review.rate.number availability.365\n",
       "1 10             4                  286             \n",
       "2 30             4                  228             \n",
       "3  3             5                  352             \n",
       "4 30             4                  322             \n",
       "5 10             3                  289             \n",
       "6  3             3                  374             "
      ]
     },
     "metadata": {},
     "output_type": "display_data"
    },
    {
     "data": {
      "text/html": [
       "<style>\n",
       ".list-inline {list-style: none; margin:0; padding: 0}\n",
       ".list-inline>li {display: inline-block}\n",
       ".list-inline>li:not(:last-child)::after {content: \"\\00b7\"; padding: 0 .5ex}\n",
       "</style>\n",
       "<ol class=list-inline><li>305</li><li>8</li></ol>\n"
      ],
      "text/latex": [
       "\\begin{enumerate*}\n",
       "\\item 305\n",
       "\\item 8\n",
       "\\end{enumerate*}\n"
      ],
      "text/markdown": [
       "1. 305\n",
       "2. 8\n",
       "\n",
       "\n"
      ],
      "text/plain": [
       "[1] 305   8"
      ]
     },
     "metadata": {},
     "output_type": "display_data"
    }
   ],
   "source": [
    "head(new_data)\n",
    "dim(new_data)"
   ]
  },
  {
   "cell_type": "markdown",
   "id": "1908feeb",
   "metadata": {},
   "source": [
    "#### Remove rows that contains NA"
   ]
  },
  {
   "cell_type": "code",
   "execution_count": 25,
   "id": "74a2bab5",
   "metadata": {},
   "outputs": [],
   "source": [
    "# Remove rows with NA values\n",
    "clean_data <- na.omit(new_data)"
   ]
  },
  {
   "cell_type": "code",
   "execution_count": 26,
   "id": "1fac89b8",
   "metadata": {},
   "outputs": [
    {
     "data": {
      "text/html": [
       "<table class=\"dataframe\">\n",
       "<caption>A data.frame: 6 × 8</caption>\n",
       "<thead>\n",
       "\t<tr><th></th><th scope=col>price</th><th scope=col>instant_bookable</th><th scope=col>room.type</th><th scope=col>Construction.year</th><th scope=col>service.fee</th><th scope=col>minimum.nights</th><th scope=col>review.rate.number</th><th scope=col>availability.365</th></tr>\n",
       "\t<tr><th></th><th scope=col>&lt;chr&gt;</th><th scope=col>&lt;lgl&gt;</th><th scope=col>&lt;chr&gt;</th><th scope=col>&lt;int&gt;</th><th scope=col>&lt;chr&gt;</th><th scope=col>&lt;int&gt;</th><th scope=col>&lt;int&gt;</th><th scope=col>&lt;int&gt;</th></tr>\n",
       "</thead>\n",
       "<tbody>\n",
       "\t<tr><th scope=row>1</th><td>$966</td><td>FALSE</td><td>Private room   </td><td>2020</td><td>$193</td><td>10</td><td>4</td><td>286</td></tr>\n",
       "\t<tr><th scope=row>2</th><td>$142</td><td>FALSE</td><td>Entire home/apt</td><td>2007</td><td>$28 </td><td>30</td><td>4</td><td>228</td></tr>\n",
       "\t<tr><th scope=row>3</th><td>$620</td><td> TRUE</td><td>Private room   </td><td>2005</td><td>$124</td><td> 3</td><td>5</td><td>352</td></tr>\n",
       "\t<tr><th scope=row>4</th><td>$368</td><td> TRUE</td><td>Entire home/apt</td><td>2005</td><td>$74 </td><td>30</td><td>4</td><td>322</td></tr>\n",
       "\t<tr><th scope=row>5</th><td>$204</td><td>FALSE</td><td>Entire home/apt</td><td>2009</td><td>$41 </td><td>10</td><td>3</td><td>289</td></tr>\n",
       "\t<tr><th scope=row>6</th><td>$577</td><td> TRUE</td><td>Entire home/apt</td><td>2013</td><td>$115</td><td> 3</td><td>3</td><td>374</td></tr>\n",
       "</tbody>\n",
       "</table>\n"
      ],
      "text/latex": [
       "A data.frame: 6 × 8\n",
       "\\begin{tabular}{r|llllllll}\n",
       "  & price & instant\\_bookable & room.type & Construction.year & service.fee & minimum.nights & review.rate.number & availability.365\\\\\n",
       "  & <chr> & <lgl> & <chr> & <int> & <chr> & <int> & <int> & <int>\\\\\n",
       "\\hline\n",
       "\t1 & \\$966 & FALSE & Private room    & 2020 & \\$193 & 10 & 4 & 286\\\\\n",
       "\t2 & \\$142 & FALSE & Entire home/apt & 2007 & \\$28  & 30 & 4 & 228\\\\\n",
       "\t3 & \\$620 &  TRUE & Private room    & 2005 & \\$124 &  3 & 5 & 352\\\\\n",
       "\t4 & \\$368 &  TRUE & Entire home/apt & 2005 & \\$74  & 30 & 4 & 322\\\\\n",
       "\t5 & \\$204 & FALSE & Entire home/apt & 2009 & \\$41  & 10 & 3 & 289\\\\\n",
       "\t6 & \\$577 &  TRUE & Entire home/apt & 2013 & \\$115 &  3 & 3 & 374\\\\\n",
       "\\end{tabular}\n"
      ],
      "text/markdown": [
       "\n",
       "A data.frame: 6 × 8\n",
       "\n",
       "| <!--/--> | price &lt;chr&gt; | instant_bookable &lt;lgl&gt; | room.type &lt;chr&gt; | Construction.year &lt;int&gt; | service.fee &lt;chr&gt; | minimum.nights &lt;int&gt; | review.rate.number &lt;int&gt; | availability.365 &lt;int&gt; |\n",
       "|---|---|---|---|---|---|---|---|---|\n",
       "| 1 | $966 | FALSE | Private room    | 2020 | $193 | 10 | 4 | 286 |\n",
       "| 2 | $142 | FALSE | Entire home/apt | 2007 | $28  | 30 | 4 | 228 |\n",
       "| 3 | $620 |  TRUE | Private room    | 2005 | $124 |  3 | 5 | 352 |\n",
       "| 4 | $368 |  TRUE | Entire home/apt | 2005 | $74  | 30 | 4 | 322 |\n",
       "| 5 | $204 | FALSE | Entire home/apt | 2009 | $41  | 10 | 3 | 289 |\n",
       "| 6 | $577 |  TRUE | Entire home/apt | 2013 | $115 |  3 | 3 | 374 |\n",
       "\n"
      ],
      "text/plain": [
       "  price instant_bookable room.type       Construction.year service.fee\n",
       "1 $966  FALSE            Private room    2020              $193       \n",
       "2 $142  FALSE            Entire home/apt 2007              $28        \n",
       "3 $620   TRUE            Private room    2005              $124       \n",
       "4 $368   TRUE            Entire home/apt 2005              $74        \n",
       "5 $204  FALSE            Entire home/apt 2009              $41        \n",
       "6 $577   TRUE            Entire home/apt 2013              $115       \n",
       "  minimum.nights review.rate.number availability.365\n",
       "1 10             4                  286             \n",
       "2 30             4                  228             \n",
       "3  3             5                  352             \n",
       "4 30             4                  322             \n",
       "5 10             3                  289             \n",
       "6  3             3                  374             "
      ]
     },
     "metadata": {},
     "output_type": "display_data"
    },
    {
     "data": {
      "text/html": [
       "<style>\n",
       ".list-inline {list-style: none; margin:0; padding: 0}\n",
       ".list-inline>li {display: inline-block}\n",
       ".list-inline>li:not(:last-child)::after {content: \"\\00b7\"; padding: 0 .5ex}\n",
       "</style>\n",
       "<ol class=list-inline><li>125</li><li>8</li></ol>\n"
      ],
      "text/latex": [
       "\\begin{enumerate*}\n",
       "\\item 125\n",
       "\\item 8\n",
       "\\end{enumerate*}\n"
      ],
      "text/markdown": [
       "1. 125\n",
       "2. 8\n",
       "\n",
       "\n"
      ],
      "text/plain": [
       "[1] 125   8"
      ]
     },
     "metadata": {},
     "output_type": "display_data"
    }
   ],
   "source": [
    "head(clean_data)\n",
    "dim(clean_data)"
   ]
  },
  {
   "cell_type": "markdown",
   "id": "4fabaa8b",
   "metadata": {
    "lines_to_next_cell": 0
   },
   "source": [
    "#### Check if there are still any empty entries"
   ]
  },
  {
   "cell_type": "code",
   "execution_count": 27,
   "id": "47057709",
   "metadata": {},
   "outputs": [
    {
     "data": {
      "text/html": [
       "FALSE"
      ],
      "text/latex": [
       "FALSE"
      ],
      "text/markdown": [
       "FALSE"
      ],
      "text/plain": [
       "[1] FALSE"
      ]
     },
     "metadata": {},
     "output_type": "display_data"
    }
   ],
   "source": [
    "has_empty_entries <- sum(is.na(clean_data)) > 0\n",
    "has_empty_entries"
   ]
  },
  {
   "cell_type": "markdown",
   "id": "482bf1d7",
   "metadata": {},
   "source": [
    "#### Remove duplicates"
   ]
  },
  {
   "cell_type": "code",
   "execution_count": 28,
   "id": "c13058e7",
   "metadata": {},
   "outputs": [
    {
     "data": {
      "text/html": [
       "<table class=\"dataframe\">\n",
       "<caption>A data.frame: 125 × 8</caption>\n",
       "<thead>\n",
       "\t<tr><th></th><th scope=col>price</th><th scope=col>instant_bookable</th><th scope=col>room.type</th><th scope=col>Construction.year</th><th scope=col>service.fee</th><th scope=col>minimum.nights</th><th scope=col>review.rate.number</th><th scope=col>availability.365</th></tr>\n",
       "\t<tr><th></th><th scope=col>&lt;chr&gt;</th><th scope=col>&lt;lgl&gt;</th><th scope=col>&lt;chr&gt;</th><th scope=col>&lt;int&gt;</th><th scope=col>&lt;chr&gt;</th><th scope=col>&lt;int&gt;</th><th scope=col>&lt;int&gt;</th><th scope=col>&lt;int&gt;</th></tr>\n",
       "</thead>\n",
       "<tbody>\n",
       "\t<tr><th scope=row>1</th><td>$966  </td><td>FALSE</td><td>Private room   </td><td>2020</td><td>$193</td><td>10</td><td>4</td><td>286</td></tr>\n",
       "\t<tr><th scope=row>2</th><td>$142  </td><td>FALSE</td><td>Entire home/apt</td><td>2007</td><td>$28 </td><td>30</td><td>4</td><td>228</td></tr>\n",
       "\t<tr><th scope=row>3</th><td>$620  </td><td> TRUE</td><td>Private room   </td><td>2005</td><td>$124</td><td> 3</td><td>5</td><td>352</td></tr>\n",
       "\t<tr><th scope=row>4</th><td>$368  </td><td> TRUE</td><td>Entire home/apt</td><td>2005</td><td>$74 </td><td>30</td><td>4</td><td>322</td></tr>\n",
       "\t<tr><th scope=row>5</th><td>$204  </td><td>FALSE</td><td>Entire home/apt</td><td>2009</td><td>$41 </td><td>10</td><td>3</td><td>289</td></tr>\n",
       "\t<tr><th scope=row>6</th><td>$577  </td><td> TRUE</td><td>Entire home/apt</td><td>2013</td><td>$115</td><td> 3</td><td>3</td><td>374</td></tr>\n",
       "\t<tr><th scope=row>7</th><td>$71   </td><td>FALSE</td><td>Private room   </td><td>2015</td><td>$14 </td><td>45</td><td>5</td><td>224</td></tr>\n",
       "\t<tr><th scope=row>8</th><td>$1,060</td><td>FALSE</td><td>Private room   </td><td>2009</td><td>$212</td><td>45</td><td>5</td><td>219</td></tr>\n",
       "\t<tr><th scope=row>9</th><td>$1,018</td><td> TRUE</td><td>Private room   </td><td>2005</td><td>$204</td><td> 2</td><td>3</td><td>180</td></tr>\n",
       "\t<tr><th scope=row>10</th><td>$291  </td><td>FALSE</td><td>Private room   </td><td>2015</td><td>$58 </td><td> 2</td><td>5</td><td>375</td></tr>\n",
       "\t<tr><th scope=row>11</th><td>$319  </td><td>FALSE</td><td>Entire home/apt</td><td>2004</td><td>$64 </td><td> 1</td><td>3</td><td>  1</td></tr>\n",
       "\t<tr><th scope=row>12</th><td>$606  </td><td> TRUE</td><td>Entire home/apt</td><td>2008</td><td>$121</td><td> 5</td><td>4</td><td>163</td></tr>\n",
       "\t<tr><th scope=row>13</th><td>$714  </td><td>FALSE</td><td>Private room   </td><td>2008</td><td>$143</td><td> 2</td><td>4</td><td>258</td></tr>\n",
       "\t<tr><th scope=row>14</th><td>$580  </td><td> TRUE</td><td>Private room   </td><td>2010</td><td>$116</td><td> 4</td><td>4</td><td> 47</td></tr>\n",
       "\t<tr><th scope=row>15</th><td>$149  </td><td>FALSE</td><td>Private room   </td><td>2019</td><td>$30 </td><td> 2</td><td>3</td><td> 68</td></tr>\n",
       "\t<tr><th scope=row>39</th><td>$1,097</td><td> TRUE</td><td>Entire home/apt</td><td>2005</td><td>$219</td><td> 2</td><td>3</td><td>214</td></tr>\n",
       "\t<tr><th scope=row>40</th><td>$1,020</td><td> TRUE</td><td>Private room   </td><td>2011</td><td>$204</td><td> 1</td><td>3</td><td>356</td></tr>\n",
       "\t<tr><th scope=row>41</th><td>$1,010</td><td> TRUE</td><td>Shared room    </td><td>2012</td><td>$202</td><td> 1</td><td>5</td><td>110</td></tr>\n",
       "\t<tr><th scope=row>42</th><td>$563  </td><td>FALSE</td><td>Private room   </td><td>2005</td><td>$113</td><td> 2</td><td>3</td><td>354</td></tr>\n",
       "\t<tr><th scope=row>43</th><td>$370  </td><td> TRUE</td><td>Entire home/apt</td><td>2020</td><td>$74 </td><td> 3</td><td>2</td><td> 33</td></tr>\n",
       "\t<tr><th scope=row>44</th><td>$687  </td><td>FALSE</td><td>Private room   </td><td>2008</td><td>$137</td><td> 7</td><td>1</td><td>405</td></tr>\n",
       "\t<tr><th scope=row>45</th><td>$856  </td><td>FALSE</td><td>Private room   </td><td>2017</td><td>$171</td><td> 4</td><td>3</td><td> 86</td></tr>\n",
       "\t<tr><th scope=row>109</th><td>$589  </td><td>FALSE</td><td>Entire home/apt</td><td>2017</td><td>$118</td><td>30</td><td>1</td><td> 83</td></tr>\n",
       "\t<tr><th scope=row>110</th><td>$839  </td><td> TRUE</td><td>Private room   </td><td>2005</td><td>$168</td><td> 2</td><td>1</td><td>258</td></tr>\n",
       "\t<tr><th scope=row>111</th><td>$528  </td><td>FALSE</td><td>Entire home/apt</td><td>2011</td><td>$106</td><td>30</td><td>2</td><td>400</td></tr>\n",
       "\t<tr><th scope=row>112</th><td>$66   </td><td> TRUE</td><td>Private room   </td><td>2014</td><td>$13 </td><td> 2</td><td>1</td><td> 34</td></tr>\n",
       "\t<tr><th scope=row>113</th><td>$761  </td><td> TRUE</td><td>Private room   </td><td>2014</td><td>$152</td><td> 2</td><td>4</td><td>203</td></tr>\n",
       "\t<tr><th scope=row>114</th><td>$523  </td><td> TRUE</td><td>Entire home/apt</td><td>2007</td><td>$105</td><td> 7</td><td>5</td><td> 35</td></tr>\n",
       "\t<tr><th scope=row>115</th><td>$631  </td><td> TRUE</td><td>Entire home/apt</td><td>2004</td><td>$126</td><td>30</td><td>3</td><td>280</td></tr>\n",
       "\t<tr><th scope=row>116</th><td>$677  </td><td>FALSE</td><td>Entire home/apt</td><td>2008</td><td>$135</td><td> 2</td><td>5</td><td>417</td></tr>\n",
       "\t<tr><th scope=row>⋮</th><td>⋮</td><td>⋮</td><td>⋮</td><td>⋮</td><td>⋮</td><td>⋮</td><td>⋮</td><td>⋮</td></tr>\n",
       "\t<tr><th scope=row>233</th><td>$1,198</td><td>FALSE</td><td>Entire home/apt</td><td>2016</td><td>$240</td><td>  4</td><td>5</td><td>382</td></tr>\n",
       "\t<tr><th scope=row>234</th><td>$588  </td><td> TRUE</td><td>Entire home/apt</td><td>2003</td><td>$118</td><td> 30</td><td>1</td><td>329</td></tr>\n",
       "\t<tr><th scope=row>235</th><td>$228  </td><td> TRUE</td><td>Entire home/apt</td><td>2014</td><td>$46 </td><td>  4</td><td>1</td><td>  9</td></tr>\n",
       "\t<tr><th scope=row>236</th><td>$874  </td><td> TRUE</td><td>Entire home/apt</td><td>2011</td><td>$175</td><td>  5</td><td>4</td><td>256</td></tr>\n",
       "\t<tr><th scope=row>237</th><td>$1,052</td><td>FALSE</td><td>Entire home/apt</td><td>2020</td><td>$210</td><td> 28</td><td>2</td><td> -6</td></tr>\n",
       "\t<tr><th scope=row>238</th><td>$1,127</td><td> TRUE</td><td>Private room   </td><td>2011</td><td>$225</td><td>  1</td><td>3</td><td> 83</td></tr>\n",
       "\t<tr><th scope=row>244</th><td>$595  </td><td>FALSE</td><td>Entire home/apt</td><td>2006</td><td>$119</td><td>  2</td><td>1</td><td>  0</td></tr>\n",
       "\t<tr><th scope=row>245</th><td>$1,076</td><td>FALSE</td><td>Private room   </td><td>2010</td><td>$215</td><td> 14</td><td>3</td><td>319</td></tr>\n",
       "\t<tr><th scope=row>246</th><td>$956  </td><td>FALSE</td><td>Private room   </td><td>2008</td><td>$191</td><td>  4</td><td>5</td><td> 50</td></tr>\n",
       "\t<tr><th scope=row>247</th><td>$81   </td><td> TRUE</td><td>Entire home/apt</td><td>2015</td><td>$16 </td><td>200</td><td>1</td><td>118</td></tr>\n",
       "\t<tr><th scope=row>254</th><td>$1,067</td><td> TRUE</td><td>Entire home/apt</td><td>2014</td><td>$213</td><td>  3</td><td>4</td><td>248</td></tr>\n",
       "\t<tr><th scope=row>255</th><td>$794  </td><td>FALSE</td><td>Entire home/apt</td><td>2008</td><td>$159</td><td>  9</td><td>2</td><td> 80</td></tr>\n",
       "\t<tr><th scope=row>256</th><td>$842  </td><td> TRUE</td><td>Entire home/apt</td><td>2008</td><td>$168</td><td>  3</td><td>4</td><td>230</td></tr>\n",
       "\t<tr><th scope=row>257</th><td>$1,164</td><td>FALSE</td><td>Private room   </td><td>2019</td><td>$233</td><td>  2</td><td>1</td><td>145</td></tr>\n",
       "\t<tr><th scope=row>276</th><td>$1,127</td><td>FALSE</td><td>Entire home/apt</td><td>2022</td><td>$225</td><td>  2</td><td>2</td><td>267</td></tr>\n",
       "\t<tr><th scope=row>277</th><td>$368  </td><td> TRUE</td><td>Private room   </td><td>2015</td><td>$74 </td><td>  5</td><td>5</td><td>300</td></tr>\n",
       "\t<tr><th scope=row>278</th><td>$679  </td><td>FALSE</td><td>Private room   </td><td>2016</td><td>$136</td><td>  3</td><td>2</td><td>350</td></tr>\n",
       "\t<tr><th scope=row>279</th><td>$850  </td><td>FALSE</td><td>Entire home/apt</td><td>2012</td><td>$170</td><td>  7</td><td>4</td><td> 33</td></tr>\n",
       "\t<tr><th scope=row>280</th><td>$1,003</td><td> TRUE</td><td>Entire home/apt</td><td>2006</td><td>$201</td><td> 10</td><td>1</td><td>407</td></tr>\n",
       "\t<tr><th scope=row>294</th><td>$968  </td><td>FALSE</td><td>Private room   </td><td>2022</td><td>$194</td><td>  3</td><td>5</td><td>416</td></tr>\n",
       "\t<tr><th scope=row>295</th><td>$643  </td><td> TRUE</td><td>Private room   </td><td>2020</td><td>$129</td><td>  1</td><td>2</td><td>206</td></tr>\n",
       "\t<tr><th scope=row>296</th><td>$960  </td><td>FALSE</td><td>Private room   </td><td>2019</td><td>$192</td><td> 30</td><td>1</td><td> 52</td></tr>\n",
       "\t<tr><th scope=row>297</th><td>$961  </td><td> TRUE</td><td>Entire home/apt</td><td>2004</td><td>$192</td><td>  3</td><td>1</td><td>295</td></tr>\n",
       "\t<tr><th scope=row>298</th><td>$544  </td><td>FALSE</td><td>Entire home/apt</td><td>2010</td><td>$109</td><td> 11</td><td>4</td><td> 76</td></tr>\n",
       "\t<tr><th scope=row>299</th><td>$523  </td><td> TRUE</td><td>Entire home/apt</td><td>2015</td><td>$105</td><td>  2</td><td>5</td><td> 16</td></tr>\n",
       "\t<tr><th scope=row>300</th><td>$614  </td><td>FALSE</td><td>Private room   </td><td>2011</td><td>$123</td><td>452</td><td>4</td><td>351</td></tr>\n",
       "\t<tr><th scope=row>301</th><td>$178  </td><td> TRUE</td><td>Entire home/apt</td><td>2013</td><td>$36 </td><td>  2</td><td>2</td><td>397</td></tr>\n",
       "\t<tr><th scope=row>302</th><td>$61   </td><td>FALSE</td><td>Entire home/apt</td><td>2008</td><td>$12 </td><td> 30</td><td>3</td><td>276</td></tr>\n",
       "\t<tr><th scope=row>303</th><td>$901  </td><td> TRUE</td><td>Private room   </td><td>2019</td><td>$180</td><td>  5</td><td>3</td><td> 68</td></tr>\n",
       "\t<tr><th scope=row>304</th><td>$1,189</td><td> TRUE</td><td>Private room   </td><td>2012</td><td>$238</td><td>  2</td><td>4</td><td>398</td></tr>\n",
       "</tbody>\n",
       "</table>\n"
      ],
      "text/latex": [
       "A data.frame: 125 × 8\n",
       "\\begin{tabular}{r|llllllll}\n",
       "  & price & instant\\_bookable & room.type & Construction.year & service.fee & minimum.nights & review.rate.number & availability.365\\\\\n",
       "  & <chr> & <lgl> & <chr> & <int> & <chr> & <int> & <int> & <int>\\\\\n",
       "\\hline\n",
       "\t1 & \\$966   & FALSE & Private room    & 2020 & \\$193 & 10 & 4 & 286\\\\\n",
       "\t2 & \\$142   & FALSE & Entire home/apt & 2007 & \\$28  & 30 & 4 & 228\\\\\n",
       "\t3 & \\$620   &  TRUE & Private room    & 2005 & \\$124 &  3 & 5 & 352\\\\\n",
       "\t4 & \\$368   &  TRUE & Entire home/apt & 2005 & \\$74  & 30 & 4 & 322\\\\\n",
       "\t5 & \\$204   & FALSE & Entire home/apt & 2009 & \\$41  & 10 & 3 & 289\\\\\n",
       "\t6 & \\$577   &  TRUE & Entire home/apt & 2013 & \\$115 &  3 & 3 & 374\\\\\n",
       "\t7 & \\$71    & FALSE & Private room    & 2015 & \\$14  & 45 & 5 & 224\\\\\n",
       "\t8 & \\$1,060 & FALSE & Private room    & 2009 & \\$212 & 45 & 5 & 219\\\\\n",
       "\t9 & \\$1,018 &  TRUE & Private room    & 2005 & \\$204 &  2 & 3 & 180\\\\\n",
       "\t10 & \\$291   & FALSE & Private room    & 2015 & \\$58  &  2 & 5 & 375\\\\\n",
       "\t11 & \\$319   & FALSE & Entire home/apt & 2004 & \\$64  &  1 & 3 &   1\\\\\n",
       "\t12 & \\$606   &  TRUE & Entire home/apt & 2008 & \\$121 &  5 & 4 & 163\\\\\n",
       "\t13 & \\$714   & FALSE & Private room    & 2008 & \\$143 &  2 & 4 & 258\\\\\n",
       "\t14 & \\$580   &  TRUE & Private room    & 2010 & \\$116 &  4 & 4 &  47\\\\\n",
       "\t15 & \\$149   & FALSE & Private room    & 2019 & \\$30  &  2 & 3 &  68\\\\\n",
       "\t39 & \\$1,097 &  TRUE & Entire home/apt & 2005 & \\$219 &  2 & 3 & 214\\\\\n",
       "\t40 & \\$1,020 &  TRUE & Private room    & 2011 & \\$204 &  1 & 3 & 356\\\\\n",
       "\t41 & \\$1,010 &  TRUE & Shared room     & 2012 & \\$202 &  1 & 5 & 110\\\\\n",
       "\t42 & \\$563   & FALSE & Private room    & 2005 & \\$113 &  2 & 3 & 354\\\\\n",
       "\t43 & \\$370   &  TRUE & Entire home/apt & 2020 & \\$74  &  3 & 2 &  33\\\\\n",
       "\t44 & \\$687   & FALSE & Private room    & 2008 & \\$137 &  7 & 1 & 405\\\\\n",
       "\t45 & \\$856   & FALSE & Private room    & 2017 & \\$171 &  4 & 3 &  86\\\\\n",
       "\t109 & \\$589   & FALSE & Entire home/apt & 2017 & \\$118 & 30 & 1 &  83\\\\\n",
       "\t110 & \\$839   &  TRUE & Private room    & 2005 & \\$168 &  2 & 1 & 258\\\\\n",
       "\t111 & \\$528   & FALSE & Entire home/apt & 2011 & \\$106 & 30 & 2 & 400\\\\\n",
       "\t112 & \\$66    &  TRUE & Private room    & 2014 & \\$13  &  2 & 1 &  34\\\\\n",
       "\t113 & \\$761   &  TRUE & Private room    & 2014 & \\$152 &  2 & 4 & 203\\\\\n",
       "\t114 & \\$523   &  TRUE & Entire home/apt & 2007 & \\$105 &  7 & 5 &  35\\\\\n",
       "\t115 & \\$631   &  TRUE & Entire home/apt & 2004 & \\$126 & 30 & 3 & 280\\\\\n",
       "\t116 & \\$677   & FALSE & Entire home/apt & 2008 & \\$135 &  2 & 5 & 417\\\\\n",
       "\t⋮ & ⋮ & ⋮ & ⋮ & ⋮ & ⋮ & ⋮ & ⋮ & ⋮\\\\\n",
       "\t233 & \\$1,198 & FALSE & Entire home/apt & 2016 & \\$240 &   4 & 5 & 382\\\\\n",
       "\t234 & \\$588   &  TRUE & Entire home/apt & 2003 & \\$118 &  30 & 1 & 329\\\\\n",
       "\t235 & \\$228   &  TRUE & Entire home/apt & 2014 & \\$46  &   4 & 1 &   9\\\\\n",
       "\t236 & \\$874   &  TRUE & Entire home/apt & 2011 & \\$175 &   5 & 4 & 256\\\\\n",
       "\t237 & \\$1,052 & FALSE & Entire home/apt & 2020 & \\$210 &  28 & 2 &  -6\\\\\n",
       "\t238 & \\$1,127 &  TRUE & Private room    & 2011 & \\$225 &   1 & 3 &  83\\\\\n",
       "\t244 & \\$595   & FALSE & Entire home/apt & 2006 & \\$119 &   2 & 1 &   0\\\\\n",
       "\t245 & \\$1,076 & FALSE & Private room    & 2010 & \\$215 &  14 & 3 & 319\\\\\n",
       "\t246 & \\$956   & FALSE & Private room    & 2008 & \\$191 &   4 & 5 &  50\\\\\n",
       "\t247 & \\$81    &  TRUE & Entire home/apt & 2015 & \\$16  & 200 & 1 & 118\\\\\n",
       "\t254 & \\$1,067 &  TRUE & Entire home/apt & 2014 & \\$213 &   3 & 4 & 248\\\\\n",
       "\t255 & \\$794   & FALSE & Entire home/apt & 2008 & \\$159 &   9 & 2 &  80\\\\\n",
       "\t256 & \\$842   &  TRUE & Entire home/apt & 2008 & \\$168 &   3 & 4 & 230\\\\\n",
       "\t257 & \\$1,164 & FALSE & Private room    & 2019 & \\$233 &   2 & 1 & 145\\\\\n",
       "\t276 & \\$1,127 & FALSE & Entire home/apt & 2022 & \\$225 &   2 & 2 & 267\\\\\n",
       "\t277 & \\$368   &  TRUE & Private room    & 2015 & \\$74  &   5 & 5 & 300\\\\\n",
       "\t278 & \\$679   & FALSE & Private room    & 2016 & \\$136 &   3 & 2 & 350\\\\\n",
       "\t279 & \\$850   & FALSE & Entire home/apt & 2012 & \\$170 &   7 & 4 &  33\\\\\n",
       "\t280 & \\$1,003 &  TRUE & Entire home/apt & 2006 & \\$201 &  10 & 1 & 407\\\\\n",
       "\t294 & \\$968   & FALSE & Private room    & 2022 & \\$194 &   3 & 5 & 416\\\\\n",
       "\t295 & \\$643   &  TRUE & Private room    & 2020 & \\$129 &   1 & 2 & 206\\\\\n",
       "\t296 & \\$960   & FALSE & Private room    & 2019 & \\$192 &  30 & 1 &  52\\\\\n",
       "\t297 & \\$961   &  TRUE & Entire home/apt & 2004 & \\$192 &   3 & 1 & 295\\\\\n",
       "\t298 & \\$544   & FALSE & Entire home/apt & 2010 & \\$109 &  11 & 4 &  76\\\\\n",
       "\t299 & \\$523   &  TRUE & Entire home/apt & 2015 & \\$105 &   2 & 5 &  16\\\\\n",
       "\t300 & \\$614   & FALSE & Private room    & 2011 & \\$123 & 452 & 4 & 351\\\\\n",
       "\t301 & \\$178   &  TRUE & Entire home/apt & 2013 & \\$36  &   2 & 2 & 397\\\\\n",
       "\t302 & \\$61    & FALSE & Entire home/apt & 2008 & \\$12  &  30 & 3 & 276\\\\\n",
       "\t303 & \\$901   &  TRUE & Private room    & 2019 & \\$180 &   5 & 3 &  68\\\\\n",
       "\t304 & \\$1,189 &  TRUE & Private room    & 2012 & \\$238 &   2 & 4 & 398\\\\\n",
       "\\end{tabular}\n"
      ],
      "text/markdown": [
       "\n",
       "A data.frame: 125 × 8\n",
       "\n",
       "| <!--/--> | price &lt;chr&gt; | instant_bookable &lt;lgl&gt; | room.type &lt;chr&gt; | Construction.year &lt;int&gt; | service.fee &lt;chr&gt; | minimum.nights &lt;int&gt; | review.rate.number &lt;int&gt; | availability.365 &lt;int&gt; |\n",
       "|---|---|---|---|---|---|---|---|---|\n",
       "| 1 | $966   | FALSE | Private room    | 2020 | $193 | 10 | 4 | 286 |\n",
       "| 2 | $142   | FALSE | Entire home/apt | 2007 | $28  | 30 | 4 | 228 |\n",
       "| 3 | $620   |  TRUE | Private room    | 2005 | $124 |  3 | 5 | 352 |\n",
       "| 4 | $368   |  TRUE | Entire home/apt | 2005 | $74  | 30 | 4 | 322 |\n",
       "| 5 | $204   | FALSE | Entire home/apt | 2009 | $41  | 10 | 3 | 289 |\n",
       "| 6 | $577   |  TRUE | Entire home/apt | 2013 | $115 |  3 | 3 | 374 |\n",
       "| 7 | $71    | FALSE | Private room    | 2015 | $14  | 45 | 5 | 224 |\n",
       "| 8 | $1,060 | FALSE | Private room    | 2009 | $212 | 45 | 5 | 219 |\n",
       "| 9 | $1,018 |  TRUE | Private room    | 2005 | $204 |  2 | 3 | 180 |\n",
       "| 10 | $291   | FALSE | Private room    | 2015 | $58  |  2 | 5 | 375 |\n",
       "| 11 | $319   | FALSE | Entire home/apt | 2004 | $64  |  1 | 3 |   1 |\n",
       "| 12 | $606   |  TRUE | Entire home/apt | 2008 | $121 |  5 | 4 | 163 |\n",
       "| 13 | $714   | FALSE | Private room    | 2008 | $143 |  2 | 4 | 258 |\n",
       "| 14 | $580   |  TRUE | Private room    | 2010 | $116 |  4 | 4 |  47 |\n",
       "| 15 | $149   | FALSE | Private room    | 2019 | $30  |  2 | 3 |  68 |\n",
       "| 39 | $1,097 |  TRUE | Entire home/apt | 2005 | $219 |  2 | 3 | 214 |\n",
       "| 40 | $1,020 |  TRUE | Private room    | 2011 | $204 |  1 | 3 | 356 |\n",
       "| 41 | $1,010 |  TRUE | Shared room     | 2012 | $202 |  1 | 5 | 110 |\n",
       "| 42 | $563   | FALSE | Private room    | 2005 | $113 |  2 | 3 | 354 |\n",
       "| 43 | $370   |  TRUE | Entire home/apt | 2020 | $74  |  3 | 2 |  33 |\n",
       "| 44 | $687   | FALSE | Private room    | 2008 | $137 |  7 | 1 | 405 |\n",
       "| 45 | $856   | FALSE | Private room    | 2017 | $171 |  4 | 3 |  86 |\n",
       "| 109 | $589   | FALSE | Entire home/apt | 2017 | $118 | 30 | 1 |  83 |\n",
       "| 110 | $839   |  TRUE | Private room    | 2005 | $168 |  2 | 1 | 258 |\n",
       "| 111 | $528   | FALSE | Entire home/apt | 2011 | $106 | 30 | 2 | 400 |\n",
       "| 112 | $66    |  TRUE | Private room    | 2014 | $13  |  2 | 1 |  34 |\n",
       "| 113 | $761   |  TRUE | Private room    | 2014 | $152 |  2 | 4 | 203 |\n",
       "| 114 | $523   |  TRUE | Entire home/apt | 2007 | $105 |  7 | 5 |  35 |\n",
       "| 115 | $631   |  TRUE | Entire home/apt | 2004 | $126 | 30 | 3 | 280 |\n",
       "| 116 | $677   | FALSE | Entire home/apt | 2008 | $135 |  2 | 5 | 417 |\n",
       "| ⋮ | ⋮ | ⋮ | ⋮ | ⋮ | ⋮ | ⋮ | ⋮ | ⋮ |\n",
       "| 233 | $1,198 | FALSE | Entire home/apt | 2016 | $240 |   4 | 5 | 382 |\n",
       "| 234 | $588   |  TRUE | Entire home/apt | 2003 | $118 |  30 | 1 | 329 |\n",
       "| 235 | $228   |  TRUE | Entire home/apt | 2014 | $46  |   4 | 1 |   9 |\n",
       "| 236 | $874   |  TRUE | Entire home/apt | 2011 | $175 |   5 | 4 | 256 |\n",
       "| 237 | $1,052 | FALSE | Entire home/apt | 2020 | $210 |  28 | 2 |  -6 |\n",
       "| 238 | $1,127 |  TRUE | Private room    | 2011 | $225 |   1 | 3 |  83 |\n",
       "| 244 | $595   | FALSE | Entire home/apt | 2006 | $119 |   2 | 1 |   0 |\n",
       "| 245 | $1,076 | FALSE | Private room    | 2010 | $215 |  14 | 3 | 319 |\n",
       "| 246 | $956   | FALSE | Private room    | 2008 | $191 |   4 | 5 |  50 |\n",
       "| 247 | $81    |  TRUE | Entire home/apt | 2015 | $16  | 200 | 1 | 118 |\n",
       "| 254 | $1,067 |  TRUE | Entire home/apt | 2014 | $213 |   3 | 4 | 248 |\n",
       "| 255 | $794   | FALSE | Entire home/apt | 2008 | $159 |   9 | 2 |  80 |\n",
       "| 256 | $842   |  TRUE | Entire home/apt | 2008 | $168 |   3 | 4 | 230 |\n",
       "| 257 | $1,164 | FALSE | Private room    | 2019 | $233 |   2 | 1 | 145 |\n",
       "| 276 | $1,127 | FALSE | Entire home/apt | 2022 | $225 |   2 | 2 | 267 |\n",
       "| 277 | $368   |  TRUE | Private room    | 2015 | $74  |   5 | 5 | 300 |\n",
       "| 278 | $679   | FALSE | Private room    | 2016 | $136 |   3 | 2 | 350 |\n",
       "| 279 | $850   | FALSE | Entire home/apt | 2012 | $170 |   7 | 4 |  33 |\n",
       "| 280 | $1,003 |  TRUE | Entire home/apt | 2006 | $201 |  10 | 1 | 407 |\n",
       "| 294 | $968   | FALSE | Private room    | 2022 | $194 |   3 | 5 | 416 |\n",
       "| 295 | $643   |  TRUE | Private room    | 2020 | $129 |   1 | 2 | 206 |\n",
       "| 296 | $960   | FALSE | Private room    | 2019 | $192 |  30 | 1 |  52 |\n",
       "| 297 | $961   |  TRUE | Entire home/apt | 2004 | $192 |   3 | 1 | 295 |\n",
       "| 298 | $544   | FALSE | Entire home/apt | 2010 | $109 |  11 | 4 |  76 |\n",
       "| 299 | $523   |  TRUE | Entire home/apt | 2015 | $105 |   2 | 5 |  16 |\n",
       "| 300 | $614   | FALSE | Private room    | 2011 | $123 | 452 | 4 | 351 |\n",
       "| 301 | $178   |  TRUE | Entire home/apt | 2013 | $36  |   2 | 2 | 397 |\n",
       "| 302 | $61    | FALSE | Entire home/apt | 2008 | $12  |  30 | 3 | 276 |\n",
       "| 303 | $901   |  TRUE | Private room    | 2019 | $180 |   5 | 3 |  68 |\n",
       "| 304 | $1,189 |  TRUE | Private room    | 2012 | $238 |   2 | 4 | 398 |\n",
       "\n"
      ],
      "text/plain": [
       "    price  instant_bookable room.type       Construction.year service.fee\n",
       "1   $966   FALSE            Private room    2020              $193       \n",
       "2   $142   FALSE            Entire home/apt 2007              $28        \n",
       "3   $620    TRUE            Private room    2005              $124       \n",
       "4   $368    TRUE            Entire home/apt 2005              $74        \n",
       "5   $204   FALSE            Entire home/apt 2009              $41        \n",
       "6   $577    TRUE            Entire home/apt 2013              $115       \n",
       "7   $71    FALSE            Private room    2015              $14        \n",
       "8   $1,060 FALSE            Private room    2009              $212       \n",
       "9   $1,018  TRUE            Private room    2005              $204       \n",
       "10  $291   FALSE            Private room    2015              $58        \n",
       "11  $319   FALSE            Entire home/apt 2004              $64        \n",
       "12  $606    TRUE            Entire home/apt 2008              $121       \n",
       "13  $714   FALSE            Private room    2008              $143       \n",
       "14  $580    TRUE            Private room    2010              $116       \n",
       "15  $149   FALSE            Private room    2019              $30        \n",
       "39  $1,097  TRUE            Entire home/apt 2005              $219       \n",
       "40  $1,020  TRUE            Private room    2011              $204       \n",
       "41  $1,010  TRUE            Shared room     2012              $202       \n",
       "42  $563   FALSE            Private room    2005              $113       \n",
       "43  $370    TRUE            Entire home/apt 2020              $74        \n",
       "44  $687   FALSE            Private room    2008              $137       \n",
       "45  $856   FALSE            Private room    2017              $171       \n",
       "109 $589   FALSE            Entire home/apt 2017              $118       \n",
       "110 $839    TRUE            Private room    2005              $168       \n",
       "111 $528   FALSE            Entire home/apt 2011              $106       \n",
       "112 $66     TRUE            Private room    2014              $13        \n",
       "113 $761    TRUE            Private room    2014              $152       \n",
       "114 $523    TRUE            Entire home/apt 2007              $105       \n",
       "115 $631    TRUE            Entire home/apt 2004              $126       \n",
       "116 $677   FALSE            Entire home/apt 2008              $135       \n",
       "⋮   ⋮      ⋮                ⋮               ⋮                 ⋮          \n",
       "233 $1,198 FALSE            Entire home/apt 2016              $240       \n",
       "234 $588    TRUE            Entire home/apt 2003              $118       \n",
       "235 $228    TRUE            Entire home/apt 2014              $46        \n",
       "236 $874    TRUE            Entire home/apt 2011              $175       \n",
       "237 $1,052 FALSE            Entire home/apt 2020              $210       \n",
       "238 $1,127  TRUE            Private room    2011              $225       \n",
       "244 $595   FALSE            Entire home/apt 2006              $119       \n",
       "245 $1,076 FALSE            Private room    2010              $215       \n",
       "246 $956   FALSE            Private room    2008              $191       \n",
       "247 $81     TRUE            Entire home/apt 2015              $16        \n",
       "254 $1,067  TRUE            Entire home/apt 2014              $213       \n",
       "255 $794   FALSE            Entire home/apt 2008              $159       \n",
       "256 $842    TRUE            Entire home/apt 2008              $168       \n",
       "257 $1,164 FALSE            Private room    2019              $233       \n",
       "276 $1,127 FALSE            Entire home/apt 2022              $225       \n",
       "277 $368    TRUE            Private room    2015              $74        \n",
       "278 $679   FALSE            Private room    2016              $136       \n",
       "279 $850   FALSE            Entire home/apt 2012              $170       \n",
       "280 $1,003  TRUE            Entire home/apt 2006              $201       \n",
       "294 $968   FALSE            Private room    2022              $194       \n",
       "295 $643    TRUE            Private room    2020              $129       \n",
       "296 $960   FALSE            Private room    2019              $192       \n",
       "297 $961    TRUE            Entire home/apt 2004              $192       \n",
       "298 $544   FALSE            Entire home/apt 2010              $109       \n",
       "299 $523    TRUE            Entire home/apt 2015              $105       \n",
       "300 $614   FALSE            Private room    2011              $123       \n",
       "301 $178    TRUE            Entire home/apt 2013              $36        \n",
       "302 $61    FALSE            Entire home/apt 2008              $12        \n",
       "303 $901    TRUE            Private room    2019              $180       \n",
       "304 $1,189  TRUE            Private room    2012              $238       \n",
       "    minimum.nights review.rate.number availability.365\n",
       "1   10             4                  286             \n",
       "2   30             4                  228             \n",
       "3    3             5                  352             \n",
       "4   30             4                  322             \n",
       "5   10             3                  289             \n",
       "6    3             3                  374             \n",
       "7   45             5                  224             \n",
       "8   45             5                  219             \n",
       "9    2             3                  180             \n",
       "10   2             5                  375             \n",
       "11   1             3                    1             \n",
       "12   5             4                  163             \n",
       "13   2             4                  258             \n",
       "14   4             4                   47             \n",
       "15   2             3                   68             \n",
       "39   2             3                  214             \n",
       "40   1             3                  356             \n",
       "41   1             5                  110             \n",
       "42   2             3                  354             \n",
       "43   3             2                   33             \n",
       "44   7             1                  405             \n",
       "45   4             3                   86             \n",
       "109 30             1                   83             \n",
       "110  2             1                  258             \n",
       "111 30             2                  400             \n",
       "112  2             1                   34             \n",
       "113  2             4                  203             \n",
       "114  7             5                   35             \n",
       "115 30             3                  280             \n",
       "116  2             5                  417             \n",
       "⋮   ⋮              ⋮                  ⋮               \n",
       "233   4            5                  382             \n",
       "234  30            1                  329             \n",
       "235   4            1                    9             \n",
       "236   5            4                  256             \n",
       "237  28            2                   -6             \n",
       "238   1            3                   83             \n",
       "244   2            1                    0             \n",
       "245  14            3                  319             \n",
       "246   4            5                   50             \n",
       "247 200            1                  118             \n",
       "254   3            4                  248             \n",
       "255   9            2                   80             \n",
       "256   3            4                  230             \n",
       "257   2            1                  145             \n",
       "276   2            2                  267             \n",
       "277   5            5                  300             \n",
       "278   3            2                  350             \n",
       "279   7            4                   33             \n",
       "280  10            1                  407             \n",
       "294   3            5                  416             \n",
       "295   1            2                  206             \n",
       "296  30            1                   52             \n",
       "297   3            1                  295             \n",
       "298  11            4                   76             \n",
       "299   2            5                   16             \n",
       "300 452            4                  351             \n",
       "301   2            2                  397             \n",
       "302  30            3                  276             \n",
       "303   5            3                   68             \n",
       "304   2            4                  398             "
      ]
     },
     "metadata": {},
     "output_type": "display_data"
    }
   ],
   "source": [
    "unique(clean_data)"
   ]
  },
  {
   "cell_type": "code",
   "execution_count": 29,
   "id": "5e987187",
   "metadata": {},
   "outputs": [
    {
     "name": "stderr",
     "output_type": "stream",
     "text": [
      "Installing package into ‘/opt/r’\n",
      "(as ‘lib’ is unspecified)\n",
      "\n"
     ]
    }
   ],
   "source": [
    "install.packages(\"dplyr\")\n",
    "\n",
    "library(dplyr)"
   ]
  },
  {
   "cell_type": "code",
   "execution_count": 30,
   "id": "377343e7",
   "metadata": {},
   "outputs": [
    {
     "data": {
      "text/html": [
       "<style>\n",
       ".list-inline {list-style: none; margin:0; padding: 0}\n",
       ".list-inline>li {display: inline-block}\n",
       ".list-inline>li:not(:last-child)::after {content: \"\\00b7\"; padding: 0 .5ex}\n",
       "</style>\n",
       "<ol class=list-inline><li>125</li><li>8</li></ol>\n"
      ],
      "text/latex": [
       "\\begin{enumerate*}\n",
       "\\item 125\n",
       "\\item 8\n",
       "\\end{enumerate*}\n"
      ],
      "text/markdown": [
       "1. 125\n",
       "2. 8\n",
       "\n",
       "\n"
      ],
      "text/plain": [
       "[1] 125   8"
      ]
     },
     "metadata": {},
     "output_type": "display_data"
    }
   ],
   "source": [
    "new_clean_data <- clean_data %>% distinct() # remove duplicate rows and only keep the distinct rows\n",
    "dim(new_clean_data)"
   ]
  },
  {
   "cell_type": "markdown",
   "id": "83677305",
   "metadata": {},
   "source": [
    "#### Get data summary"
   ]
  },
  {
   "cell_type": "code",
   "execution_count": 31,
   "id": "ccc17e2d",
   "metadata": {},
   "outputs": [
    {
     "data": {
      "text/plain": [
       "    price           instant_bookable  room.type         Construction.year\n",
       " Length:125         Mode :logical    Length:125         Min.   :2003     \n",
       " Class :character   FALSE:65         Class :character   1st Qu.:2008     \n",
       " Mode  :character   TRUE :60         Mode  :character   Median :2012     \n",
       "                                                        Mean   :2012     \n",
       "                                                        3rd Qu.:2017     \n",
       "                                                        Max.   :2022     \n",
       " service.fee        minimum.nights   review.rate.number availability.365\n",
       " Length:125         Min.   :-10.00   Min.   :1.000      Min.   : -6.0   \n",
       " Class :character   1st Qu.:  2.00   1st Qu.:2.000      1st Qu.: 76.0   \n",
       " Mode  :character   Median :  4.00   Median :3.000      Median :219.0   \n",
       "                    Mean   : 40.94   Mean   :3.184      Mean   :209.2   \n",
       "                    3rd Qu.: 30.00   3rd Qu.:4.000      3rd Qu.:335.0   \n",
       "                    Max.   :452.00   Max.   :5.000      Max.   :425.0   "
      ]
     },
     "metadata": {},
     "output_type": "display_data"
    }
   ],
   "source": [
    "summary(new_clean_data)"
   ]
  },
  {
   "cell_type": "code",
   "execution_count": 32,
   "id": "4eebe2f4",
   "metadata": {},
   "outputs": [
    {
     "data": {
      "text/html": [
       "'numeric'"
      ],
      "text/latex": [
       "'numeric'"
      ],
      "text/markdown": [
       "'numeric'"
      ],
      "text/plain": [
       "[1] \"numeric\""
      ]
     },
     "metadata": {},
     "output_type": "display_data"
    },
    {
     "data": {
      "text/html": [
       "'numeric'"
      ],
      "text/latex": [
       "'numeric'"
      ],
      "text/markdown": [
       "'numeric'"
      ],
      "text/plain": [
       "[1] \"numeric\""
      ]
     },
     "metadata": {},
     "output_type": "display_data"
    }
   ],
   "source": [
    "mode(new_clean_data$Construction.year)\n",
    "mode(new_clean_data$minimum.nights)"
   ]
  },
  {
   "cell_type": "markdown",
   "id": "c34556cd",
   "metadata": {},
   "source": [
    "#### Convert random variables to appropriate data types"
   ]
  },
  {
   "cell_type": "code",
   "execution_count": 33,
   "id": "fdd80366",
   "metadata": {},
   "outputs": [
    {
     "data": {
      "text/html": [
       "<table class=\"dataframe\">\n",
       "<caption>A data.frame: 6 × 8</caption>\n",
       "<thead>\n",
       "\t<tr><th></th><th scope=col>price</th><th scope=col>instant_bookable</th><th scope=col>room.type</th><th scope=col>Construction.year</th><th scope=col>service.fee</th><th scope=col>minimum.nights</th><th scope=col>review.rate.number</th><th scope=col>availability.365</th></tr>\n",
       "\t<tr><th></th><th scope=col>&lt;chr&gt;</th><th scope=col>&lt;chr&gt;</th><th scope=col>&lt;chr&gt;</th><th scope=col>&lt;int&gt;</th><th scope=col>&lt;chr&gt;</th><th scope=col>&lt;int&gt;</th><th scope=col>&lt;int&gt;</th><th scope=col>&lt;int&gt;</th></tr>\n",
       "</thead>\n",
       "<tbody>\n",
       "\t<tr><th scope=row>1</th><td>$966</td><td>0</td><td>0</td><td>2020</td><td>$193</td><td>10</td><td>4</td><td>286</td></tr>\n",
       "\t<tr><th scope=row>2</th><td>$142</td><td>0</td><td>1</td><td>2007</td><td>$28 </td><td>30</td><td>4</td><td>228</td></tr>\n",
       "\t<tr><th scope=row>3</th><td>$620</td><td>1</td><td>0</td><td>2005</td><td>$124</td><td> 3</td><td>5</td><td>352</td></tr>\n",
       "\t<tr><th scope=row>4</th><td>$368</td><td>1</td><td>1</td><td>2005</td><td>$74 </td><td>30</td><td>4</td><td>322</td></tr>\n",
       "\t<tr><th scope=row>5</th><td>$204</td><td>0</td><td>1</td><td>2009</td><td>$41 </td><td>10</td><td>3</td><td>289</td></tr>\n",
       "\t<tr><th scope=row>6</th><td>$577</td><td>1</td><td>1</td><td>2013</td><td>$115</td><td> 3</td><td>3</td><td>374</td></tr>\n",
       "</tbody>\n",
       "</table>\n"
      ],
      "text/latex": [
       "A data.frame: 6 × 8\n",
       "\\begin{tabular}{r|llllllll}\n",
       "  & price & instant\\_bookable & room.type & Construction.year & service.fee & minimum.nights & review.rate.number & availability.365\\\\\n",
       "  & <chr> & <chr> & <chr> & <int> & <chr> & <int> & <int> & <int>\\\\\n",
       "\\hline\n",
       "\t1 & \\$966 & 0 & 0 & 2020 & \\$193 & 10 & 4 & 286\\\\\n",
       "\t2 & \\$142 & 0 & 1 & 2007 & \\$28  & 30 & 4 & 228\\\\\n",
       "\t3 & \\$620 & 1 & 0 & 2005 & \\$124 &  3 & 5 & 352\\\\\n",
       "\t4 & \\$368 & 1 & 1 & 2005 & \\$74  & 30 & 4 & 322\\\\\n",
       "\t5 & \\$204 & 0 & 1 & 2009 & \\$41  & 10 & 3 & 289\\\\\n",
       "\t6 & \\$577 & 1 & 1 & 2013 & \\$115 &  3 & 3 & 374\\\\\n",
       "\\end{tabular}\n"
      ],
      "text/markdown": [
       "\n",
       "A data.frame: 6 × 8\n",
       "\n",
       "| <!--/--> | price &lt;chr&gt; | instant_bookable &lt;chr&gt; | room.type &lt;chr&gt; | Construction.year &lt;int&gt; | service.fee &lt;chr&gt; | minimum.nights &lt;int&gt; | review.rate.number &lt;int&gt; | availability.365 &lt;int&gt; |\n",
       "|---|---|---|---|---|---|---|---|---|\n",
       "| 1 | $966 | 0 | 0 | 2020 | $193 | 10 | 4 | 286 |\n",
       "| 2 | $142 | 0 | 1 | 2007 | $28  | 30 | 4 | 228 |\n",
       "| 3 | $620 | 1 | 0 | 2005 | $124 |  3 | 5 | 352 |\n",
       "| 4 | $368 | 1 | 1 | 2005 | $74  | 30 | 4 | 322 |\n",
       "| 5 | $204 | 0 | 1 | 2009 | $41  | 10 | 3 | 289 |\n",
       "| 6 | $577 | 1 | 1 | 2013 | $115 |  3 | 3 | 374 |\n",
       "\n"
      ],
      "text/plain": [
       "  price instant_bookable room.type Construction.year service.fee minimum.nights\n",
       "1 $966  0                0         2020              $193        10            \n",
       "2 $142  0                1         2007              $28         30            \n",
       "3 $620  1                0         2005              $124         3            \n",
       "4 $368  1                1         2005              $74         30            \n",
       "5 $204  0                1         2009              $41         10            \n",
       "6 $577  1                1         2013              $115         3            \n",
       "  review.rate.number availability.365\n",
       "1 4                  286             \n",
       "2 4                  228             \n",
       "3 5                  352             \n",
       "4 4                  322             \n",
       "5 3                  289             \n",
       "6 3                  374             "
      ]
     },
     "metadata": {},
     "output_type": "display_data"
    },
    {
     "data": {
      "text/html": [
       "<table class=\"dataframe\">\n",
       "<caption>A data.frame: 125 × 8</caption>\n",
       "<thead>\n",
       "\t<tr><th scope=col>price</th><th scope=col>instant_bookable</th><th scope=col>room.type</th><th scope=col>Construction.year</th><th scope=col>service.fee</th><th scope=col>minimum.nights</th><th scope=col>review.rate.number</th><th scope=col>availability.365</th></tr>\n",
       "\t<tr><th scope=col>&lt;chr&gt;</th><th scope=col>&lt;chr&gt;</th><th scope=col>&lt;chr&gt;</th><th scope=col>&lt;int&gt;</th><th scope=col>&lt;chr&gt;</th><th scope=col>&lt;int&gt;</th><th scope=col>&lt;int&gt;</th><th scope=col>&lt;int&gt;</th></tr>\n",
       "</thead>\n",
       "<tbody>\n",
       "\t<tr><td>$966  </td><td>0</td><td>0</td><td>2020</td><td>$193</td><td>10</td><td>4</td><td>286</td></tr>\n",
       "\t<tr><td>$142  </td><td>0</td><td>1</td><td>2007</td><td>$28 </td><td>30</td><td>4</td><td>228</td></tr>\n",
       "\t<tr><td>$620  </td><td>1</td><td>0</td><td>2005</td><td>$124</td><td> 3</td><td>5</td><td>352</td></tr>\n",
       "\t<tr><td>$368  </td><td>1</td><td>1</td><td>2005</td><td>$74 </td><td>30</td><td>4</td><td>322</td></tr>\n",
       "\t<tr><td>$204  </td><td>0</td><td>1</td><td>2009</td><td>$41 </td><td>10</td><td>3</td><td>289</td></tr>\n",
       "\t<tr><td>$577  </td><td>1</td><td>1</td><td>2013</td><td>$115</td><td> 3</td><td>3</td><td>374</td></tr>\n",
       "\t<tr><td>$71   </td><td>0</td><td>0</td><td>2015</td><td>$14 </td><td>45</td><td>5</td><td>224</td></tr>\n",
       "\t<tr><td>$1,060</td><td>0</td><td>0</td><td>2009</td><td>$212</td><td>45</td><td>5</td><td>219</td></tr>\n",
       "\t<tr><td>$1,018</td><td>1</td><td>0</td><td>2005</td><td>$204</td><td> 2</td><td>3</td><td>180</td></tr>\n",
       "\t<tr><td>$291  </td><td>0</td><td>0</td><td>2015</td><td>$58 </td><td> 2</td><td>5</td><td>375</td></tr>\n",
       "\t<tr><td>$319  </td><td>0</td><td>1</td><td>2004</td><td>$64 </td><td> 1</td><td>3</td><td>  1</td></tr>\n",
       "\t<tr><td>$606  </td><td>1</td><td>1</td><td>2008</td><td>$121</td><td> 5</td><td>4</td><td>163</td></tr>\n",
       "\t<tr><td>$714  </td><td>0</td><td>0</td><td>2008</td><td>$143</td><td> 2</td><td>4</td><td>258</td></tr>\n",
       "\t<tr><td>$580  </td><td>1</td><td>0</td><td>2010</td><td>$116</td><td> 4</td><td>4</td><td> 47</td></tr>\n",
       "\t<tr><td>$149  </td><td>0</td><td>0</td><td>2019</td><td>$30 </td><td> 2</td><td>3</td><td> 68</td></tr>\n",
       "\t<tr><td>$1,097</td><td>1</td><td>1</td><td>2005</td><td>$219</td><td> 2</td><td>3</td><td>214</td></tr>\n",
       "\t<tr><td>$1,020</td><td>1</td><td>0</td><td>2011</td><td>$204</td><td> 1</td><td>3</td><td>356</td></tr>\n",
       "\t<tr><td>$1,010</td><td>1</td><td>0</td><td>2012</td><td>$202</td><td> 1</td><td>5</td><td>110</td></tr>\n",
       "\t<tr><td>$563  </td><td>0</td><td>0</td><td>2005</td><td>$113</td><td> 2</td><td>3</td><td>354</td></tr>\n",
       "\t<tr><td>$370  </td><td>1</td><td>1</td><td>2020</td><td>$74 </td><td> 3</td><td>2</td><td> 33</td></tr>\n",
       "\t<tr><td>$687  </td><td>0</td><td>0</td><td>2008</td><td>$137</td><td> 7</td><td>1</td><td>405</td></tr>\n",
       "\t<tr><td>$856  </td><td>0</td><td>0</td><td>2017</td><td>$171</td><td> 4</td><td>3</td><td> 86</td></tr>\n",
       "\t<tr><td>$589  </td><td>0</td><td>1</td><td>2017</td><td>$118</td><td>30</td><td>1</td><td> 83</td></tr>\n",
       "\t<tr><td>$839  </td><td>1</td><td>0</td><td>2005</td><td>$168</td><td> 2</td><td>1</td><td>258</td></tr>\n",
       "\t<tr><td>$528  </td><td>0</td><td>1</td><td>2011</td><td>$106</td><td>30</td><td>2</td><td>400</td></tr>\n",
       "\t<tr><td>$66   </td><td>1</td><td>0</td><td>2014</td><td>$13 </td><td> 2</td><td>1</td><td> 34</td></tr>\n",
       "\t<tr><td>$761  </td><td>1</td><td>0</td><td>2014</td><td>$152</td><td> 2</td><td>4</td><td>203</td></tr>\n",
       "\t<tr><td>$523  </td><td>1</td><td>1</td><td>2007</td><td>$105</td><td> 7</td><td>5</td><td> 35</td></tr>\n",
       "\t<tr><td>$631  </td><td>1</td><td>1</td><td>2004</td><td>$126</td><td>30</td><td>3</td><td>280</td></tr>\n",
       "\t<tr><td>$677  </td><td>0</td><td>1</td><td>2008</td><td>$135</td><td> 2</td><td>5</td><td>417</td></tr>\n",
       "\t<tr><td>⋮</td><td>⋮</td><td>⋮</td><td>⋮</td><td>⋮</td><td>⋮</td><td>⋮</td><td>⋮</td></tr>\n",
       "\t<tr><td>$1,198</td><td>0</td><td>1</td><td>2016</td><td>$240</td><td>  4</td><td>5</td><td>382</td></tr>\n",
       "\t<tr><td>$588  </td><td>1</td><td>1</td><td>2003</td><td>$118</td><td> 30</td><td>1</td><td>329</td></tr>\n",
       "\t<tr><td>$228  </td><td>1</td><td>1</td><td>2014</td><td>$46 </td><td>  4</td><td>1</td><td>  9</td></tr>\n",
       "\t<tr><td>$874  </td><td>1</td><td>1</td><td>2011</td><td>$175</td><td>  5</td><td>4</td><td>256</td></tr>\n",
       "\t<tr><td>$1,052</td><td>0</td><td>1</td><td>2020</td><td>$210</td><td> 28</td><td>2</td><td> -6</td></tr>\n",
       "\t<tr><td>$1,127</td><td>1</td><td>0</td><td>2011</td><td>$225</td><td>  1</td><td>3</td><td> 83</td></tr>\n",
       "\t<tr><td>$595  </td><td>0</td><td>1</td><td>2006</td><td>$119</td><td>  2</td><td>1</td><td>  0</td></tr>\n",
       "\t<tr><td>$1,076</td><td>0</td><td>0</td><td>2010</td><td>$215</td><td> 14</td><td>3</td><td>319</td></tr>\n",
       "\t<tr><td>$956  </td><td>0</td><td>0</td><td>2008</td><td>$191</td><td>  4</td><td>5</td><td> 50</td></tr>\n",
       "\t<tr><td>$81   </td><td>1</td><td>1</td><td>2015</td><td>$16 </td><td>200</td><td>1</td><td>118</td></tr>\n",
       "\t<tr><td>$1,067</td><td>1</td><td>1</td><td>2014</td><td>$213</td><td>  3</td><td>4</td><td>248</td></tr>\n",
       "\t<tr><td>$794  </td><td>0</td><td>1</td><td>2008</td><td>$159</td><td>  9</td><td>2</td><td> 80</td></tr>\n",
       "\t<tr><td>$842  </td><td>1</td><td>1</td><td>2008</td><td>$168</td><td>  3</td><td>4</td><td>230</td></tr>\n",
       "\t<tr><td>$1,164</td><td>0</td><td>0</td><td>2019</td><td>$233</td><td>  2</td><td>1</td><td>145</td></tr>\n",
       "\t<tr><td>$1,127</td><td>0</td><td>1</td><td>2022</td><td>$225</td><td>  2</td><td>2</td><td>267</td></tr>\n",
       "\t<tr><td>$368  </td><td>1</td><td>0</td><td>2015</td><td>$74 </td><td>  5</td><td>5</td><td>300</td></tr>\n",
       "\t<tr><td>$679  </td><td>0</td><td>0</td><td>2016</td><td>$136</td><td>  3</td><td>2</td><td>350</td></tr>\n",
       "\t<tr><td>$850  </td><td>0</td><td>1</td><td>2012</td><td>$170</td><td>  7</td><td>4</td><td> 33</td></tr>\n",
       "\t<tr><td>$1,003</td><td>1</td><td>1</td><td>2006</td><td>$201</td><td> 10</td><td>1</td><td>407</td></tr>\n",
       "\t<tr><td>$968  </td><td>0</td><td>0</td><td>2022</td><td>$194</td><td>  3</td><td>5</td><td>416</td></tr>\n",
       "\t<tr><td>$643  </td><td>1</td><td>0</td><td>2020</td><td>$129</td><td>  1</td><td>2</td><td>206</td></tr>\n",
       "\t<tr><td>$960  </td><td>0</td><td>0</td><td>2019</td><td>$192</td><td> 30</td><td>1</td><td> 52</td></tr>\n",
       "\t<tr><td>$961  </td><td>1</td><td>1</td><td>2004</td><td>$192</td><td>  3</td><td>1</td><td>295</td></tr>\n",
       "\t<tr><td>$544  </td><td>0</td><td>1</td><td>2010</td><td>$109</td><td> 11</td><td>4</td><td> 76</td></tr>\n",
       "\t<tr><td>$523  </td><td>1</td><td>1</td><td>2015</td><td>$105</td><td>  2</td><td>5</td><td> 16</td></tr>\n",
       "\t<tr><td>$614  </td><td>0</td><td>0</td><td>2011</td><td>$123</td><td>452</td><td>4</td><td>351</td></tr>\n",
       "\t<tr><td>$178  </td><td>1</td><td>1</td><td>2013</td><td>$36 </td><td>  2</td><td>2</td><td>397</td></tr>\n",
       "\t<tr><td>$61   </td><td>0</td><td>1</td><td>2008</td><td>$12 </td><td> 30</td><td>3</td><td>276</td></tr>\n",
       "\t<tr><td>$901  </td><td>1</td><td>0</td><td>2019</td><td>$180</td><td>  5</td><td>3</td><td> 68</td></tr>\n",
       "\t<tr><td>$1,189</td><td>1</td><td>0</td><td>2012</td><td>$238</td><td>  2</td><td>4</td><td>398</td></tr>\n",
       "</tbody>\n",
       "</table>\n"
      ],
      "text/latex": [
       "A data.frame: 125 × 8\n",
       "\\begin{tabular}{llllllll}\n",
       " price & instant\\_bookable & room.type & Construction.year & service.fee & minimum.nights & review.rate.number & availability.365\\\\\n",
       " <chr> & <chr> & <chr> & <int> & <chr> & <int> & <int> & <int>\\\\\n",
       "\\hline\n",
       "\t \\$966   & 0 & 0 & 2020 & \\$193 & 10 & 4 & 286\\\\\n",
       "\t \\$142   & 0 & 1 & 2007 & \\$28  & 30 & 4 & 228\\\\\n",
       "\t \\$620   & 1 & 0 & 2005 & \\$124 &  3 & 5 & 352\\\\\n",
       "\t \\$368   & 1 & 1 & 2005 & \\$74  & 30 & 4 & 322\\\\\n",
       "\t \\$204   & 0 & 1 & 2009 & \\$41  & 10 & 3 & 289\\\\\n",
       "\t \\$577   & 1 & 1 & 2013 & \\$115 &  3 & 3 & 374\\\\\n",
       "\t \\$71    & 0 & 0 & 2015 & \\$14  & 45 & 5 & 224\\\\\n",
       "\t \\$1,060 & 0 & 0 & 2009 & \\$212 & 45 & 5 & 219\\\\\n",
       "\t \\$1,018 & 1 & 0 & 2005 & \\$204 &  2 & 3 & 180\\\\\n",
       "\t \\$291   & 0 & 0 & 2015 & \\$58  &  2 & 5 & 375\\\\\n",
       "\t \\$319   & 0 & 1 & 2004 & \\$64  &  1 & 3 &   1\\\\\n",
       "\t \\$606   & 1 & 1 & 2008 & \\$121 &  5 & 4 & 163\\\\\n",
       "\t \\$714   & 0 & 0 & 2008 & \\$143 &  2 & 4 & 258\\\\\n",
       "\t \\$580   & 1 & 0 & 2010 & \\$116 &  4 & 4 &  47\\\\\n",
       "\t \\$149   & 0 & 0 & 2019 & \\$30  &  2 & 3 &  68\\\\\n",
       "\t \\$1,097 & 1 & 1 & 2005 & \\$219 &  2 & 3 & 214\\\\\n",
       "\t \\$1,020 & 1 & 0 & 2011 & \\$204 &  1 & 3 & 356\\\\\n",
       "\t \\$1,010 & 1 & 0 & 2012 & \\$202 &  1 & 5 & 110\\\\\n",
       "\t \\$563   & 0 & 0 & 2005 & \\$113 &  2 & 3 & 354\\\\\n",
       "\t \\$370   & 1 & 1 & 2020 & \\$74  &  3 & 2 &  33\\\\\n",
       "\t \\$687   & 0 & 0 & 2008 & \\$137 &  7 & 1 & 405\\\\\n",
       "\t \\$856   & 0 & 0 & 2017 & \\$171 &  4 & 3 &  86\\\\\n",
       "\t \\$589   & 0 & 1 & 2017 & \\$118 & 30 & 1 &  83\\\\\n",
       "\t \\$839   & 1 & 0 & 2005 & \\$168 &  2 & 1 & 258\\\\\n",
       "\t \\$528   & 0 & 1 & 2011 & \\$106 & 30 & 2 & 400\\\\\n",
       "\t \\$66    & 1 & 0 & 2014 & \\$13  &  2 & 1 &  34\\\\\n",
       "\t \\$761   & 1 & 0 & 2014 & \\$152 &  2 & 4 & 203\\\\\n",
       "\t \\$523   & 1 & 1 & 2007 & \\$105 &  7 & 5 &  35\\\\\n",
       "\t \\$631   & 1 & 1 & 2004 & \\$126 & 30 & 3 & 280\\\\\n",
       "\t \\$677   & 0 & 1 & 2008 & \\$135 &  2 & 5 & 417\\\\\n",
       "\t ⋮ & ⋮ & ⋮ & ⋮ & ⋮ & ⋮ & ⋮ & ⋮\\\\\n",
       "\t \\$1,198 & 0 & 1 & 2016 & \\$240 &   4 & 5 & 382\\\\\n",
       "\t \\$588   & 1 & 1 & 2003 & \\$118 &  30 & 1 & 329\\\\\n",
       "\t \\$228   & 1 & 1 & 2014 & \\$46  &   4 & 1 &   9\\\\\n",
       "\t \\$874   & 1 & 1 & 2011 & \\$175 &   5 & 4 & 256\\\\\n",
       "\t \\$1,052 & 0 & 1 & 2020 & \\$210 &  28 & 2 &  -6\\\\\n",
       "\t \\$1,127 & 1 & 0 & 2011 & \\$225 &   1 & 3 &  83\\\\\n",
       "\t \\$595   & 0 & 1 & 2006 & \\$119 &   2 & 1 &   0\\\\\n",
       "\t \\$1,076 & 0 & 0 & 2010 & \\$215 &  14 & 3 & 319\\\\\n",
       "\t \\$956   & 0 & 0 & 2008 & \\$191 &   4 & 5 &  50\\\\\n",
       "\t \\$81    & 1 & 1 & 2015 & \\$16  & 200 & 1 & 118\\\\\n",
       "\t \\$1,067 & 1 & 1 & 2014 & \\$213 &   3 & 4 & 248\\\\\n",
       "\t \\$794   & 0 & 1 & 2008 & \\$159 &   9 & 2 &  80\\\\\n",
       "\t \\$842   & 1 & 1 & 2008 & \\$168 &   3 & 4 & 230\\\\\n",
       "\t \\$1,164 & 0 & 0 & 2019 & \\$233 &   2 & 1 & 145\\\\\n",
       "\t \\$1,127 & 0 & 1 & 2022 & \\$225 &   2 & 2 & 267\\\\\n",
       "\t \\$368   & 1 & 0 & 2015 & \\$74  &   5 & 5 & 300\\\\\n",
       "\t \\$679   & 0 & 0 & 2016 & \\$136 &   3 & 2 & 350\\\\\n",
       "\t \\$850   & 0 & 1 & 2012 & \\$170 &   7 & 4 &  33\\\\\n",
       "\t \\$1,003 & 1 & 1 & 2006 & \\$201 &  10 & 1 & 407\\\\\n",
       "\t \\$968   & 0 & 0 & 2022 & \\$194 &   3 & 5 & 416\\\\\n",
       "\t \\$643   & 1 & 0 & 2020 & \\$129 &   1 & 2 & 206\\\\\n",
       "\t \\$960   & 0 & 0 & 2019 & \\$192 &  30 & 1 &  52\\\\\n",
       "\t \\$961   & 1 & 1 & 2004 & \\$192 &   3 & 1 & 295\\\\\n",
       "\t \\$544   & 0 & 1 & 2010 & \\$109 &  11 & 4 &  76\\\\\n",
       "\t \\$523   & 1 & 1 & 2015 & \\$105 &   2 & 5 &  16\\\\\n",
       "\t \\$614   & 0 & 0 & 2011 & \\$123 & 452 & 4 & 351\\\\\n",
       "\t \\$178   & 1 & 1 & 2013 & \\$36  &   2 & 2 & 397\\\\\n",
       "\t \\$61    & 0 & 1 & 2008 & \\$12  &  30 & 3 & 276\\\\\n",
       "\t \\$901   & 1 & 0 & 2019 & \\$180 &   5 & 3 &  68\\\\\n",
       "\t \\$1,189 & 1 & 0 & 2012 & \\$238 &   2 & 4 & 398\\\\\n",
       "\\end{tabular}\n"
      ],
      "text/markdown": [
       "\n",
       "A data.frame: 125 × 8\n",
       "\n",
       "| price &lt;chr&gt; | instant_bookable &lt;chr&gt; | room.type &lt;chr&gt; | Construction.year &lt;int&gt; | service.fee &lt;chr&gt; | minimum.nights &lt;int&gt; | review.rate.number &lt;int&gt; | availability.365 &lt;int&gt; |\n",
       "|---|---|---|---|---|---|---|---|\n",
       "| $966   | 0 | 0 | 2020 | $193 | 10 | 4 | 286 |\n",
       "| $142   | 0 | 1 | 2007 | $28  | 30 | 4 | 228 |\n",
       "| $620   | 1 | 0 | 2005 | $124 |  3 | 5 | 352 |\n",
       "| $368   | 1 | 1 | 2005 | $74  | 30 | 4 | 322 |\n",
       "| $204   | 0 | 1 | 2009 | $41  | 10 | 3 | 289 |\n",
       "| $577   | 1 | 1 | 2013 | $115 |  3 | 3 | 374 |\n",
       "| $71    | 0 | 0 | 2015 | $14  | 45 | 5 | 224 |\n",
       "| $1,060 | 0 | 0 | 2009 | $212 | 45 | 5 | 219 |\n",
       "| $1,018 | 1 | 0 | 2005 | $204 |  2 | 3 | 180 |\n",
       "| $291   | 0 | 0 | 2015 | $58  |  2 | 5 | 375 |\n",
       "| $319   | 0 | 1 | 2004 | $64  |  1 | 3 |   1 |\n",
       "| $606   | 1 | 1 | 2008 | $121 |  5 | 4 | 163 |\n",
       "| $714   | 0 | 0 | 2008 | $143 |  2 | 4 | 258 |\n",
       "| $580   | 1 | 0 | 2010 | $116 |  4 | 4 |  47 |\n",
       "| $149   | 0 | 0 | 2019 | $30  |  2 | 3 |  68 |\n",
       "| $1,097 | 1 | 1 | 2005 | $219 |  2 | 3 | 214 |\n",
       "| $1,020 | 1 | 0 | 2011 | $204 |  1 | 3 | 356 |\n",
       "| $1,010 | 1 | 0 | 2012 | $202 |  1 | 5 | 110 |\n",
       "| $563   | 0 | 0 | 2005 | $113 |  2 | 3 | 354 |\n",
       "| $370   | 1 | 1 | 2020 | $74  |  3 | 2 |  33 |\n",
       "| $687   | 0 | 0 | 2008 | $137 |  7 | 1 | 405 |\n",
       "| $856   | 0 | 0 | 2017 | $171 |  4 | 3 |  86 |\n",
       "| $589   | 0 | 1 | 2017 | $118 | 30 | 1 |  83 |\n",
       "| $839   | 1 | 0 | 2005 | $168 |  2 | 1 | 258 |\n",
       "| $528   | 0 | 1 | 2011 | $106 | 30 | 2 | 400 |\n",
       "| $66    | 1 | 0 | 2014 | $13  |  2 | 1 |  34 |\n",
       "| $761   | 1 | 0 | 2014 | $152 |  2 | 4 | 203 |\n",
       "| $523   | 1 | 1 | 2007 | $105 |  7 | 5 |  35 |\n",
       "| $631   | 1 | 1 | 2004 | $126 | 30 | 3 | 280 |\n",
       "| $677   | 0 | 1 | 2008 | $135 |  2 | 5 | 417 |\n",
       "| ⋮ | ⋮ | ⋮ | ⋮ | ⋮ | ⋮ | ⋮ | ⋮ |\n",
       "| $1,198 | 0 | 1 | 2016 | $240 |   4 | 5 | 382 |\n",
       "| $588   | 1 | 1 | 2003 | $118 |  30 | 1 | 329 |\n",
       "| $228   | 1 | 1 | 2014 | $46  |   4 | 1 |   9 |\n",
       "| $874   | 1 | 1 | 2011 | $175 |   5 | 4 | 256 |\n",
       "| $1,052 | 0 | 1 | 2020 | $210 |  28 | 2 |  -6 |\n",
       "| $1,127 | 1 | 0 | 2011 | $225 |   1 | 3 |  83 |\n",
       "| $595   | 0 | 1 | 2006 | $119 |   2 | 1 |   0 |\n",
       "| $1,076 | 0 | 0 | 2010 | $215 |  14 | 3 | 319 |\n",
       "| $956   | 0 | 0 | 2008 | $191 |   4 | 5 |  50 |\n",
       "| $81    | 1 | 1 | 2015 | $16  | 200 | 1 | 118 |\n",
       "| $1,067 | 1 | 1 | 2014 | $213 |   3 | 4 | 248 |\n",
       "| $794   | 0 | 1 | 2008 | $159 |   9 | 2 |  80 |\n",
       "| $842   | 1 | 1 | 2008 | $168 |   3 | 4 | 230 |\n",
       "| $1,164 | 0 | 0 | 2019 | $233 |   2 | 1 | 145 |\n",
       "| $1,127 | 0 | 1 | 2022 | $225 |   2 | 2 | 267 |\n",
       "| $368   | 1 | 0 | 2015 | $74  |   5 | 5 | 300 |\n",
       "| $679   | 0 | 0 | 2016 | $136 |   3 | 2 | 350 |\n",
       "| $850   | 0 | 1 | 2012 | $170 |   7 | 4 |  33 |\n",
       "| $1,003 | 1 | 1 | 2006 | $201 |  10 | 1 | 407 |\n",
       "| $968   | 0 | 0 | 2022 | $194 |   3 | 5 | 416 |\n",
       "| $643   | 1 | 0 | 2020 | $129 |   1 | 2 | 206 |\n",
       "| $960   | 0 | 0 | 2019 | $192 |  30 | 1 |  52 |\n",
       "| $961   | 1 | 1 | 2004 | $192 |   3 | 1 | 295 |\n",
       "| $544   | 0 | 1 | 2010 | $109 |  11 | 4 |  76 |\n",
       "| $523   | 1 | 1 | 2015 | $105 |   2 | 5 |  16 |\n",
       "| $614   | 0 | 0 | 2011 | $123 | 452 | 4 | 351 |\n",
       "| $178   | 1 | 1 | 2013 | $36  |   2 | 2 | 397 |\n",
       "| $61    | 0 | 1 | 2008 | $12  |  30 | 3 | 276 |\n",
       "| $901   | 1 | 0 | 2019 | $180 |   5 | 3 |  68 |\n",
       "| $1,189 | 1 | 0 | 2012 | $238 |   2 | 4 | 398 |\n",
       "\n"
      ],
      "text/plain": [
       "    price  instant_bookable room.type Construction.year service.fee\n",
       "1   $966   0                0         2020              $193       \n",
       "2   $142   0                1         2007              $28        \n",
       "3   $620   1                0         2005              $124       \n",
       "4   $368   1                1         2005              $74        \n",
       "5   $204   0                1         2009              $41        \n",
       "6   $577   1                1         2013              $115       \n",
       "7   $71    0                0         2015              $14        \n",
       "8   $1,060 0                0         2009              $212       \n",
       "9   $1,018 1                0         2005              $204       \n",
       "10  $291   0                0         2015              $58        \n",
       "11  $319   0                1         2004              $64        \n",
       "12  $606   1                1         2008              $121       \n",
       "13  $714   0                0         2008              $143       \n",
       "14  $580   1                0         2010              $116       \n",
       "15  $149   0                0         2019              $30        \n",
       "16  $1,097 1                1         2005              $219       \n",
       "17  $1,020 1                0         2011              $204       \n",
       "18  $1,010 1                0         2012              $202       \n",
       "19  $563   0                0         2005              $113       \n",
       "20  $370   1                1         2020              $74        \n",
       "21  $687   0                0         2008              $137       \n",
       "22  $856   0                0         2017              $171       \n",
       "23  $589   0                1         2017              $118       \n",
       "24  $839   1                0         2005              $168       \n",
       "25  $528   0                1         2011              $106       \n",
       "26  $66    1                0         2014              $13        \n",
       "27  $761   1                0         2014              $152       \n",
       "28  $523   1                1         2007              $105       \n",
       "29  $631   1                1         2004              $126       \n",
       "30  $677   0                1         2008              $135       \n",
       "⋮   ⋮      ⋮                ⋮         ⋮                 ⋮          \n",
       "96  $1,198 0                1         2016              $240       \n",
       "97  $588   1                1         2003              $118       \n",
       "98  $228   1                1         2014              $46        \n",
       "99  $874   1                1         2011              $175       \n",
       "100 $1,052 0                1         2020              $210       \n",
       "101 $1,127 1                0         2011              $225       \n",
       "102 $595   0                1         2006              $119       \n",
       "103 $1,076 0                0         2010              $215       \n",
       "104 $956   0                0         2008              $191       \n",
       "105 $81    1                1         2015              $16        \n",
       "106 $1,067 1                1         2014              $213       \n",
       "107 $794   0                1         2008              $159       \n",
       "108 $842   1                1         2008              $168       \n",
       "109 $1,164 0                0         2019              $233       \n",
       "110 $1,127 0                1         2022              $225       \n",
       "111 $368   1                0         2015              $74        \n",
       "112 $679   0                0         2016              $136       \n",
       "113 $850   0                1         2012              $170       \n",
       "114 $1,003 1                1         2006              $201       \n",
       "115 $968   0                0         2022              $194       \n",
       "116 $643   1                0         2020              $129       \n",
       "117 $960   0                0         2019              $192       \n",
       "118 $961   1                1         2004              $192       \n",
       "119 $544   0                1         2010              $109       \n",
       "120 $523   1                1         2015              $105       \n",
       "121 $614   0                0         2011              $123       \n",
       "122 $178   1                1         2013              $36        \n",
       "123 $61    0                1         2008              $12        \n",
       "124 $901   1                0         2019              $180       \n",
       "125 $1,189 1                0         2012              $238       \n",
       "    minimum.nights review.rate.number availability.365\n",
       "1   10             4                  286             \n",
       "2   30             4                  228             \n",
       "3    3             5                  352             \n",
       "4   30             4                  322             \n",
       "5   10             3                  289             \n",
       "6    3             3                  374             \n",
       "7   45             5                  224             \n",
       "8   45             5                  219             \n",
       "9    2             3                  180             \n",
       "10   2             5                  375             \n",
       "11   1             3                    1             \n",
       "12   5             4                  163             \n",
       "13   2             4                  258             \n",
       "14   4             4                   47             \n",
       "15   2             3                   68             \n",
       "16   2             3                  214             \n",
       "17   1             3                  356             \n",
       "18   1             5                  110             \n",
       "19   2             3                  354             \n",
       "20   3             2                   33             \n",
       "21   7             1                  405             \n",
       "22   4             3                   86             \n",
       "23  30             1                   83             \n",
       "24   2             1                  258             \n",
       "25  30             2                  400             \n",
       "26   2             1                   34             \n",
       "27   2             4                  203             \n",
       "28   7             5                   35             \n",
       "29  30             3                  280             \n",
       "30   2             5                  417             \n",
       "⋮   ⋮              ⋮                  ⋮               \n",
       "96    4            5                  382             \n",
       "97   30            1                  329             \n",
       "98    4            1                    9             \n",
       "99    5            4                  256             \n",
       "100  28            2                   -6             \n",
       "101   1            3                   83             \n",
       "102   2            1                    0             \n",
       "103  14            3                  319             \n",
       "104   4            5                   50             \n",
       "105 200            1                  118             \n",
       "106   3            4                  248             \n",
       "107   9            2                   80             \n",
       "108   3            4                  230             \n",
       "109   2            1                  145             \n",
       "110   2            2                  267             \n",
       "111   5            5                  300             \n",
       "112   3            2                  350             \n",
       "113   7            4                   33             \n",
       "114  10            1                  407             \n",
       "115   3            5                  416             \n",
       "116   1            2                  206             \n",
       "117  30            1                   52             \n",
       "118   3            1                  295             \n",
       "119  11            4                   76             \n",
       "120   2            5                   16             \n",
       "121 452            4                  351             \n",
       "122   2            2                  397             \n",
       "123  30            3                  276             \n",
       "124   5            3                   68             \n",
       "125   2            4                  398             "
      ]
     },
     "metadata": {},
     "output_type": "display_data"
    }
   ],
   "source": [
    "# need to replace categorical data with indicator functions\n",
    "# instant_bookable = 0 if FALSE, = 1 if TRUE\n",
    "new_clean_data$instant_bookable <- ifelse(new_clean_data$instant_bookable==\"TRUE\", \"1\", \"0\")\n",
    "# room.type = 0 if \"Private room\", =1 if \"Entire home/apt\"\n",
    "new_clean_data$room.type <- ifelse(new_clean_data$room.type == \"Entire home/apt\", \"1\", \"0\")\n",
    "\n",
    "head(new_clean_data)\n",
    "new_clean_data"
   ]
  },
  {
   "cell_type": "code",
   "execution_count": 34,
   "id": "82e7cbbe",
   "metadata": {},
   "outputs": [],
   "source": [
    "columns_to_convert <- c(\"price\", \"instant_bookable\", \"room.type\", \"Construction.year\", \"service.fee\", \n",
    "                        \"minimum.nights\", \"review.rate.number\", \"availability.365\")\n",
    "\n",
    "for (col_name in columns_to_convert) {\n",
    "  new_clean_data[, col_name] <- as.numeric(gsub(\"[^0-9.]\", \"\", new_clean_data[, col_name]))\n",
    "}"
   ]
  },
  {
   "cell_type": "code",
   "execution_count": 35,
   "id": "a444ae1c",
   "metadata": {},
   "outputs": [
    {
     "data": {
      "text/plain": [
       "     price        instant_bookable   room.type    Construction.year\n",
       " Min.   :  54.0   Min.   :0.00     Min.   :0.00   Min.   :2003     \n",
       " 1st Qu.: 368.0   1st Qu.:0.00     1st Qu.:0.00   1st Qu.:2008     \n",
       " Median : 601.0   Median :0.00     Median :1.00   Median :2012     \n",
       " Mean   : 623.5   Mean   :0.48     Mean   :0.52   Mean   :2012     \n",
       " 3rd Qu.: 944.0   3rd Qu.:1.00     3rd Qu.:1.00   3rd Qu.:2017     \n",
       " Max.   :1198.0   Max.   :1.00     Max.   :1.00   Max.   :2022     \n",
       "  service.fee    minimum.nights  review.rate.number availability.365\n",
       " Min.   : 11.0   Min.   :  1.0   Min.   :1.000      Min.   :  0.0   \n",
       " 1st Qu.: 74.0   1st Qu.:  2.0   1st Qu.:2.000      1st Qu.: 76.0   \n",
       " Median :120.0   Median :  4.0   Median :3.000      Median :219.0   \n",
       " Mean   :124.7   Mean   : 41.1   Mean   :3.184      Mean   :209.4   \n",
       " 3rd Qu.:189.0   3rd Qu.: 30.0   3rd Qu.:4.000      3rd Qu.:335.0   \n",
       " Max.   :240.0   Max.   :452.0   Max.   :5.000      Max.   :425.0   "
      ]
     },
     "metadata": {},
     "output_type": "display_data"
    }
   ],
   "source": [
    "# check summary again after conversion\n",
    "summary(new_clean_data)"
   ]
  },
  {
   "cell_type": "markdown",
   "id": "34da0c58",
   "metadata": {},
   "source": [
    "### Fit Model"
   ]
  },
  {
   "cell_type": "code",
   "execution_count": 36,
   "id": "d7fbb5e3",
   "metadata": {},
   "outputs": [
    {
     "name": "stderr",
     "output_type": "stream",
     "text": [
      "The following objects are masked from new_clean_data (pos = 3):\n",
      "\n",
      "    availability.365, Construction.year, instant_bookable,\n",
      "    minimum.nights, price, review.rate.number, room.type, service.fee\n",
      "\n",
      "\n"
     ]
    }
   ],
   "source": [
    "attach(new_clean_data)"
   ]
  },
  {
   "cell_type": "code",
   "execution_count": 37,
   "id": "7bbd45e3",
   "metadata": {
    "scrolled": true
   },
   "outputs": [
    {
     "data": {
      "text/plain": [
       "\n",
       "Call:\n",
       "lm(formula = price ~ instant_bookable + room.type + Construction.year + \n",
       "    service.fee + minimum.nights + review.rate.number + availability.365)\n",
       "\n",
       "Coefficients:\n",
       "       (Intercept)    instant_bookable           room.type   Construction.year  \n",
       "        -3.616e+01          -2.299e-01          -1.518e-01           1.801e-02  \n",
       "       service.fee      minimum.nights  review.rate.number    availability.365  \n",
       "         4.999e+00           2.071e-04           6.843e-02          -5.082e-04  \n"
      ]
     },
     "metadata": {},
     "output_type": "display_data"
    }
   ],
   "source": [
    "# basic model assuming parallel planes\n",
    "model1 <- lm(price ~ instant_bookable + room.type + Construction.year +\n",
    "   service.fee + minimum.nights + review.rate.number + availability.365)\n",
    "model1\n",
    "\n",
    "# second model assuming slopes vary with whether the airbnb is instantly bookable\n",
    "model2 <- lm(price ~ instant_bookable + instant_bookable*Construction.year + instant_bookable*service.fee \n",
    "   + instant_bookable*minimum.nights + instant_bookable*review.rate.number + instant_bookable*availability.365 \n",
    "   + Construction.year + service.fee + minimum.nights + review.rate.number + availability.365 + room.type)\n",
    "\n",
    "# third model assuming slopes vary with whether the airbnb is private room or entire home/apt\n",
    "model3 <- lm(price ~ instant_bookable + room.type + room.type*Construction.year + room.type*service.fee\n",
    "            + room.type*minimum.nights + room.type*review.rate.number + room.type*availability.365 + Construction.year\n",
    "            + service.fee + minimum.nights + review.rate.number + availability.365 + room.type)\n",
    "\n",
    "# fourth model assuming slopes vary with both whether the airbnb is instantly bookable and\n",
    "# whether it is private room or entire home/apt\n",
    "model4 <- lm(price ~ instant_bookable + room.type + room.type*Construction.year + room.type*service.fee\n",
    "            + room.type*minimum.nights + room.type*review.rate.number + room.type*availability.365 + Construction.year\n",
    "            + service.fee + minimum.nights + review.rate.number + availability.365 + room.type + instant_bookable*Construction.year \n",
    "            + instant_bookable*service.fee + instant_bookable*minimum.nights + instant_bookable*review.rate.number \n",
    "            + instant_bookable*availability.365)"
   ]
  },
  {
   "cell_type": "markdown",
   "id": "ed280126",
   "metadata": {},
   "source": [
    "### Check Assumptions"
   ]
  },
  {
   "cell_type": "markdown",
   "id": "096d8ca2",
   "metadata": {},
   "source": [
    "#### Residual Plots"
   ]
  },
  {
   "cell_type": "code",
   "execution_count": 38,
   "id": "d83bdedd",
   "metadata": {},
   "outputs": [],
   "source": [
    "e_hat <- resid(model1)"
   ]
  },
  {
   "cell_type": "markdown",
   "id": "b77503d7",
   "metadata": {},
   "source": [
    "#### Residuals vs. Each Predictor"
   ]
  },
  {
   "cell_type": "code",
   "execution_count": 39,
   "id": "aa1f3d6a",
   "metadata": {},
   "outputs": [
    {
     "data": {
      "image/png": "[encoded data removed]",
      "text/plain": [
       "Plot with title “Residual vs. Construction year”"
      ]
     },
     "metadata": {
      "image/png": {
       "height": 420,
       "width": 420
      }
     },
     "output_type": "display_data"
    },
    {
     "data": {
      "image/png": "[encoded data removed]",
      "text/plain": [
       "Plot with title “Residual vs. Service fee”"
      ]
     },
     "metadata": {
      "image/png": {
       "height": 420,
       "width": 420
      }
     },
     "output_type": "display_data"
    },
    {
     "data": {
      "image/png": "[encoded data removed]",
      "text/plain": [
       "Plot with title “Residual vs. Minimum nights”"
      ]
     },
     "metadata": {
      "image/png": {
       "height": 420,
       "width": 420
      }
     },
     "output_type": "display_data"
    },
    {
     "data": {
      "image/png": "[encoded data removed]",
      "text/plain": [
       "Plot with title “Residual vs. Availability”"
      ]
     },
     "metadata": {
      "image/png": {
       "height": 420,
       "width": 420
      }
     },
     "output_type": "display_data"
    },
    {
     "data": {
      "image/png": "[encoded data removed]",
      "text/plain": [
       "Plot with title “Residual vs. Instant bookable”"
      ]
     },
     "metadata": {
      "image/png": {
       "height": 420,
       "width": 420
      }
     },
     "output_type": "display_data"
    },
    {
     "data": {
      "image/png": "[encoded data removed]",
      "text/plain": [
       "Plot with title “Residual vs. Room type”"
      ]
     },
     "metadata": {
      "image/png": {
       "height": 420,
       "width": 420
      }
     },
     "output_type": "display_data"
    },
    {
     "data": {
      "image/png": "[encoded data removed]",
      "text/plain": [
       "Plot with title “Residual vs. Review rating”"
      ]
     },
     "metadata": {
      "image/png": {
       "height": 420,
       "width": 420
      }
     },
     "output_type": "display_data"
    }
   ],
   "source": [
    "# Scatterplots\n",
    "# Residual vs. Construction year\n",
    "plot(x=Construction.year, y=e_hat, main=\"Residual vs. Construction year\", ylab=\"Residuals\", xlab=\"Construction year\")\n",
    "\n",
    "# Residual vs. Service fee\n",
    "plot(x=service.fee, y=e_hat, main=\"Residual vs. Service fee\", ylab=\"Residuals\", xlab=\"Service fee\")\n",
    "\n",
    "# Residual vs. Minimum nights\n",
    "plot(x=minimum.nights, y=e_hat, main=\"Residual vs. Minimum nights\", ylab=\"Residuals\", xlab=\"Minimum nights\")\n",
    "\n",
    "# Residual vs. Availability\n",
    "plot(x=availability.365, y=e_hat, main=\"Residual vs. Availability\", ylab=\"Residuals\", xlab=\"Availability\")\n",
    "\n",
    "# Boxplots\n",
    "# Residual vs. Instant bookable\n",
    "boxplot(e_hat ~ instant_bookable , main=\"Residual vs. Instant bookable\", ylab=\"Residuals\", xlab=\"Instant bookable\")\n",
    "\n",
    "# Residual vs. Room type\n",
    "boxplot(e_hat ~ room.type, main=\"Residual vs. Room type\", ylab=\"Residual\", xlab=\"Room type\")\n",
    "\n",
    "# Residual vs. Review rating\n",
    "boxplot(e_hat ~ review.rate.number, main=\"Residual vs. Review rating\", ylab=\"Residuals\", xlab=\"Review rating\")"
   ]
  },
  {
   "cell_type": "markdown",
   "id": "1bdc6967",
   "metadata": {},
   "source": [
    "#### Residuals vs. Fitted Values"
   ]
  },
  {
   "cell_type": "code",
   "execution_count": 40,
   "id": "5a13c32a",
   "metadata": {},
   "outputs": [
    {
     "data": {
      "image/png": "[encoded data removed]",
      "text/plain": [
       "Plot with title “Residuals vs. Fitted”"
      ]
     },
     "metadata": {
      "image/png": {
       "height": 420,
       "width": 420
      }
     },
     "output_type": "display_data"
    }
   ],
   "source": [
    "y_hat <- fitted(model1)\n",
    "\n",
    "plot(x=y_hat, y=e_hat, main=\"Residuals vs. Fitted\", ylab=\"Residuals\", xlab=\"Fitted\")"
   ]
  },
  {
   "cell_type": "markdown",
   "id": "31a9cbdd",
   "metadata": {},
   "source": [
    "#### QQ Plot"
   ]
  },
  {
   "cell_type": "code",
   "execution_count": 41,
   "id": "3e5c7d5f",
   "metadata": {},
   "outputs": [
    {
     "data": {
      "image/png": "[encoded data removed]",
      "text/plain": [
       "Plot with title “Normal Q-Q Plot”"
      ]
     },
     "metadata": {
      "image/png": {
       "height": 420,
       "width": 420
      }
     },
     "output_type": "display_data"
    }
   ],
   "source": [
    "qqnorm(e_hat)\n",
    "qqline(e_hat)"
   ]
  }
 ],
 "metadata": {
  "jupytext": {
   "cell_metadata_filter": "-all",
   "notebook_metadata_filter": "-all"
  },
  "kernelspec": {
   "display_name": "R",
   "language": "R",
   "name": "ir"
  },
  "language_info": {
   "codemirror_mode": "r",
   "file_extension": ".r",
   "mimetype": "text/x-r-source",
   "name": "R",
   "pygments_lexer": "r",
   "version": "4.0.5"
  }
 },
 "nbformat": 4,
 "nbformat_minor": 5
}
