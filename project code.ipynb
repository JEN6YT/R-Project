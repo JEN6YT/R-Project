{
 "cells": [
  {
   "cell_type": "raw",
   "id": "6785fbf0",
   "metadata": {},
   "source": [
    "---\n",
    "title: \"R Notebook\"\n",
    "author: \"Jennifer\"\n",
    "output: html_notebook\n",
    "---"
   ]
  },
  {
   "cell_type": "markdown",
   "id": "a80ab54a",
   "metadata": {},
   "source": [
    "### Load Data"
   ]
  },
  {
   "cell_type": "code",
   "execution_count": null,
   "id": "aa2877ee",
   "metadata": {
    "lines_to_next_cell": 0
   },
   "outputs": [],
   "source": [
    "airbnb_data <- read.csv(\"Airbnb_Open_Data.csv\", header = T, na.strings = \"\") # set \"\" to NA\n",
    "airbnb_data"
   ]
  },
  {
   "cell_type": "markdown",
   "id": "94b6aba2",
   "metadata": {},
   "source": [
    "### Clean Data\n",
    "\n",
    "#### Get corresponding response and predictor columns"
   ]
  },
  {
   "cell_type": "code",
   "execution_count": null,
   "id": "c6f3f473",
   "metadata": {
    "lines_to_next_cell": 2
   },
   "outputs": [],
   "source": [
    "new_data <- subset(as.data.frame(airbnb_data), \n",
    "                   select = c(price, instant_bookable, room.type, Construction.year, \n",
    "                              service.fee, minimum.nights, review.rate.number, availability.365))"
   ]
  },
  {
   "cell_type": "code",
   "execution_count": null,
   "id": "bcf72bee",
   "metadata": {
    "lines_to_next_cell": 0
   },
   "outputs": [],
   "source": [
    "head(new_data)\n",
    "dim(new_data)"
   ]
  },
  {
   "cell_type": "markdown",
   "id": "1135ddab",
   "metadata": {},
   "source": [
    "#### Remove rows that contains NA"
   ]
  },
  {
   "cell_type": "code",
   "execution_count": null,
   "id": "8a2139df",
   "metadata": {},
   "outputs": [],
   "source": [
    "# Remove rows with NA values\n",
    "clean_data <- na.omit(new_data)"
   ]
  },
  {
   "cell_type": "code",
   "execution_count": null,
   "id": "7deb93a2",
   "metadata": {},
   "outputs": [],
   "source": [
    "head(clean_data)\n",
    "dim(clean_data)"
   ]
  },
  {
   "cell_type": "markdown",
   "id": "e7b3527a",
   "metadata": {
    "lines_to_next_cell": 0
   },
   "source": [
    "#### Check if there are still any empty entries"
   ]
  },
  {
   "cell_type": "code",
   "execution_count": null,
   "id": "5d0bfd8a",
   "metadata": {},
   "outputs": [],
   "source": [
    "has_empty_entries <- sum(is.na(clean_data)) > 0\n",
    "has_empty_entries"
   ]
  },
  {
   "cell_type": "markdown",
   "id": "69d77c5c",
   "metadata": {},
   "source": [
    "#### Get data summary"
   ]
  },
  {
   "cell_type": "code",
   "execution_count": null,
   "id": "dbf882e9",
   "metadata": {},
   "outputs": [],
   "source": [
    "summary(clean_data)"
   ]
  },
  {
   "cell_type": "code",
   "execution_count": null,
   "id": "094cbb9f",
   "metadata": {},
   "outputs": [],
   "source": [
    "mode(clean_data$Construction.year)\n",
    "mode(clean_data$minimum.nights)"
   ]
  },
  {
   "cell_type": "markdown",
   "id": "ffb45c97",
   "metadata": {},
   "source": [
    "#### Convert random variables to appropriate data types"
   ]
  },
  {
   "cell_type": "code",
   "execution_count": null,
   "id": "c6a06263",
   "metadata": {},
   "outputs": [],
   "source": [
    "columns_to_convert <- c(\"price\", \"service.fee\")\n",
    "\n",
    "for (col_name in columns_to_convert) {\n",
    "  clean_data[, col_name] <- as.numeric(gsub(\"[^0-9.]\", \"\", clean_data[, col_name]))\n",
    "}"
   ]
  },
  {
   "cell_type": "code",
   "execution_count": null,
   "id": "0a3b8047",
   "metadata": {},
   "outputs": [],
   "source": [
    "# check summary again after conversion\n",
    "summary(clean_data)"
   ]
  },
  {
   "cell_type": "markdown",
   "id": "cbf5c6c3",
   "metadata": {},
   "source": [
    "### Fit Model"
   ]
  },
  {
   "cell_type": "code",
   "execution_count": null,
   "id": "418ba526",
   "metadata": {},
   "outputs": [],
   "source": [
    "attach(clean_data)"
   ]
  },
  {
   "cell_type": "code",
   "execution_count": null,
   "id": "f294a173",
   "metadata": {},
   "outputs": [],
   "source": [
    "lm(price ~ instant_bookable + room.type + Construction.year +\n",
    "   service.fee + minimum.nights + review.rate.number + availability.365)"
   ]
  },
  {
   "cell_type": "markdown",
   "id": "5e0e59e1",
   "metadata": {},
   "source": [
    "### Check Assumptions"
   ]
  },
  {
   "cell_type": "markdown",
   "id": "d2672934",
   "metadata": {},
   "source": [
    "#### Residual Plots"
   ]
  },
  {
   "cell_type": "markdown",
   "id": "9bf0e116",
   "metadata": {},
   "source": [
    "#### Condition mean predictor and response"
   ]
  },
  {
   "cell_type": "code",
   "execution_count": null,
   "id": "b8676bd5",
   "metadata": {},
   "outputs": [],
   "source": []
  }
 ],
 "metadata": {
  "jupytext": {
   "cell_metadata_filter": "-all",
   "notebook_metadata_filter": "-all",
   "text_representation": {
    "extension": ".Rmd",
    "format_name": "rmarkdown"
   }
  },
  "kernelspec": {
   "display_name": "R",
   "language": "R",
   "name": "ir"
  }
 },
 "nbformat": 4,
 "nbformat_minor": 5
}
