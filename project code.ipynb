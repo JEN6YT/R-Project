{
 "cells": [
  {
   "cell_type": "raw",
   "id": "311c0a76",
   "metadata": {},
   "source": [
    "---\n",
    "title: \"R Notebook\"\n",
    "author: \"Jennifer\"\n",
    "output: html_notebook\n",
    "---"
   ]
  },
  {
   "cell_type": "markdown",
   "id": "c07b15e7",
   "metadata": {},
   "source": [
    "### Load Data"
   ]
  },
  {
   "cell_type": "code",
   "execution_count": null,
   "id": "1a37c3e7",
   "metadata": {
    "lines_to_next_cell": 0
   },
   "outputs": [],
   "source": [
    "airbnb_data <- read.csv(\"Airbnb_Open_Data.csv\", header = T, na.strings = \"\") # set \"\" to NA\n",
    "airbnb_data"
   ]
  },
  {
   "cell_type": "markdown",
   "id": "d542ae1d",
   "metadata": {},
   "source": [
    "### Clean Data\n",
    "\n",
    "#### Get corresponding response and predictor columns"
   ]
  },
  {
   "cell_type": "code",
   "execution_count": null,
   "id": "4f63c851",
   "metadata": {
    "lines_to_next_cell": 2
   },
   "outputs": [],
   "source": [
    "new_data <- subset(as.data.frame(airbnb_data), \n",
    "                   select = c(price, instant_bookable, room.type, Construction.year, \n",
    "                              service.fee, minimum.nights, review.rate.number, availability.365))"
   ]
  },
  {
   "cell_type": "code",
   "execution_count": null,
   "id": "414e9e46",
   "metadata": {
    "lines_to_next_cell": 0
   },
   "outputs": [],
   "source": [
    "head(new_data)\n",
    "dim(new_data)"
   ]
  },
  {
   "cell_type": "markdown",
   "id": "1908feeb",
   "metadata": {},
   "source": [
    "#### Remove rows that contains NA"
   ]
  },
  {
   "cell_type": "code",
   "execution_count": null,
   "id": "74a2bab5",
   "metadata": {},
   "outputs": [],
   "source": [
    "# Remove rows with NA values\n",
    "clean_data <- na.omit(new_data)"
   ]
  },
  {
   "cell_type": "code",
   "execution_count": null,
   "id": "1fac89b8",
   "metadata": {},
   "outputs": [],
   "source": [
    "head(clean_data)\n",
    "dim(clean_data)"
   ]
  },
  {
   "cell_type": "markdown",
   "id": "4fabaa8b",
   "metadata": {
    "lines_to_next_cell": 0
   },
   "source": [
    "#### Check if there are still any empty entries"
   ]
  },
  {
   "cell_type": "code",
   "execution_count": null,
   "id": "47057709",
   "metadata": {},
   "outputs": [],
   "source": [
    "has_empty_entries <- sum(is.na(clean_data)) > 0\n",
    "has_empty_entries"
   ]
  },
  {
   "cell_type": "markdown",
   "id": "482bf1d7",
   "metadata": {},
   "source": [
    "#### Remove duplicates"
   ]
  },
  {
   "cell_type": "code",
   "execution_count": null,
   "id": "c13058e7",
   "metadata": {},
   "outputs": [],
   "source": [
    "unique(clean_data)"
   ]
  },
  {
   "cell_type": "code",
   "execution_count": null,
   "id": "5e987187",
   "metadata": {},
   "outputs": [],
   "source": [
    "install.packages(\"dplyr\")\n",
    "\n",
    "library(dplyr)"
   ]
  },
  {
   "cell_type": "code",
   "execution_count": null,
   "id": "377343e7",
   "metadata": {},
   "outputs": [],
   "source": [
    "new_clean_data <- clean_data %>% distinct() # remove duplicate rows and only keep the distinct rows\n",
    "dim(new_clean_data)"
   ]
  },
  {
   "cell_type": "markdown",
   "id": "83677305",
   "metadata": {},
   "source": [
    "#### Get data summary"
   ]
  },
  {
   "cell_type": "code",
   "execution_count": null,
   "id": "ccc17e2d",
   "metadata": {},
   "outputs": [],
   "source": [
    "summary(new_clean_data)"
   ]
  },
  {
   "cell_type": "code",
   "execution_count": null,
   "id": "4eebe2f4",
   "metadata": {},
   "outputs": [],
   "source": [
    "mode(new_clean_data$Construction.year)\n",
    "mode(new_clean_data$minimum.nights)"
   ]
  },
  {
   "cell_type": "markdown",
   "id": "c34556cd",
   "metadata": {},
   "source": [
    "#### Convert random variables to appropriate data types"
   ]
  },
  {
   "cell_type": "code",
   "execution_count": null,
   "id": "82e7cbbe",
   "metadata": {},
   "outputs": [],
   "source": [
    "columns_to_convert <- c(\"price\", \"service.fee\")\n",
    "\n",
    "for (col_name in columns_to_convert) {\n",
    "  new_clean_data[, col_name] <- as.numeric(gsub(\"[^0-9.]\", \"\", new_clean_data[, col_name]))\n",
    "}"
   ]
  },
  {
   "cell_type": "code",
   "execution_count": null,
   "id": "a444ae1c",
   "metadata": {},
   "outputs": [],
   "source": [
    "# check summary again after conversion\n",
    "summary(new_clean_data)"
   ]
  },
  {
   "cell_type": "markdown",
   "id": "34da0c58",
   "metadata": {},
   "source": [
    "### Fit Model"
   ]
  },
  {
   "cell_type": "code",
   "execution_count": null,
   "id": "d7fbb5e3",
   "metadata": {},
   "outputs": [],
   "source": [
    "attach(new_clean_data)"
   ]
  },
  {
   "cell_type": "code",
   "execution_count": null,
   "id": "7bbd45e3",
   "metadata": {},
   "outputs": [],
   "source": [
    "lm(price ~ instant_bookable + room.type + Construction.year +\n",
    "   service.fee + minimum.nights + review.rate.number + availability.365)"
   ]
  },
  {
   "cell_type": "markdown",
   "id": "ed280126",
   "metadata": {},
   "source": [
    "### Check Assumptions"
   ]
  },
  {
   "cell_type": "markdown",
   "id": "096d8ca2",
   "metadata": {},
   "source": [
    "#### Residual Plots"
   ]
  },
  {
   "cell_type": "markdown",
   "id": "13e4c2e4",
   "metadata": {},
   "source": [
    "#### Condition mean predictor and response"
   ]
  },
  {
   "cell_type": "code",
   "execution_count": null,
   "id": "d83bdedd",
   "metadata": {},
   "outputs": [],
   "source": []
  }
 ],
 "metadata": {
  "jupytext": {
   "cell_metadata_filter": "-all",
   "notebook_metadata_filter": "-all",
   "text_representation": {
    "extension": ".Rmd",
    "format_name": "rmarkdown"
   }
  },
  "kernelspec": {
   "display_name": "R",
   "language": "R",
   "name": "ir"
  }
 },
 "nbformat": 4,
 "nbformat_minor": 5
}
