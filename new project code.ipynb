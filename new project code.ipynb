{
 "cells": [
  {
   "cell_type": "raw",
   "id": "d3be2f86",
   "metadata": {},
   "source": [
    "---\n",
    "title: \"R Notebook\"\n",
    "author: \"Jennifer\"\n",
    "output: html_notebook\n",
    "---"
   ]
  },
  {
   "cell_type": "markdown",
   "id": "166e370f",
   "metadata": {},
   "source": [
    "## Load Data"
   ]
  },
  {
   "cell_type": "code",
   "execution_count": null,
   "id": "ac496130",
   "metadata": {
    "lines_to_next_cell": 0
   },
   "outputs": [],
   "source": [
    "airbnb_data <- read.csv(\"AirBnB.csv\", header = T, na.strings = \"\") # set \"\" to NA\n",
    "airbnb_data"
   ]
  },
  {
   "cell_type": "code",
   "execution_count": null,
   "id": "d033826b",
   "metadata": {},
   "outputs": [],
   "source": [
    "colnames(airbnb_data)"
   ]
  },
  {
   "cell_type": "markdown",
   "id": "fa5d0cc7",
   "metadata": {},
   "source": [
    "## Clean Data"
   ]
  },
  {
   "cell_type": "markdown",
   "id": "9b874328",
   "metadata": {},
   "source": [
    "#### Get corresponding response and predictor columns"
   ]
  },
  {
   "cell_type": "code",
   "execution_count": null,
   "id": "f4f35d63",
   "metadata": {
    "lines_to_next_cell": 2
   },
   "outputs": [],
   "source": [
    "new_data <- subset(as.data.frame(airbnb_data), \n",
    "                   select = c(price, review_scores_rating, minimum_nights, property_type, \n",
    "                              room_type, accommodates))"
   ]
  },
  {
   "cell_type": "code",
   "execution_count": null,
   "id": "d2ed838b",
   "metadata": {
    "lines_to_next_cell": 0
   },
   "outputs": [],
   "source": [
    "head(new_data)\n",
    "dim(new_data)"
   ]
  },
  {
   "cell_type": "markdown",
   "id": "ea609e1b",
   "metadata": {},
   "source": [
    "#### Remove rows that contains NA"
   ]
  },
  {
   "cell_type": "code",
   "execution_count": null,
   "id": "476dba10",
   "metadata": {},
   "outputs": [],
   "source": [
    "# Remove rows with NA values\n",
    "clean_data <- na.omit(new_data)"
   ]
  },
  {
   "cell_type": "code",
   "execution_count": null,
   "id": "408a2644",
   "metadata": {},
   "outputs": [],
   "source": [
    "head(clean_data)\n",
    "dim(clean_data)"
   ]
  },
  {
   "cell_type": "markdown",
   "id": "2c53e5be",
   "metadata": {
    "lines_to_next_cell": 0
   },
   "source": [
    "#### Check if there are still any empty entries"
   ]
  },
  {
   "cell_type": "code",
   "execution_count": null,
   "id": "38c7d9ed",
   "metadata": {},
   "outputs": [],
   "source": [
    "has_empty_entries <- sum(is.na(clean_data)) > 0\n",
    "has_empty_entries"
   ]
  },
  {
   "cell_type": "markdown",
   "id": "7e064d40",
   "metadata": {},
   "source": [
    "#### Remove duplicates"
   ]
  },
  {
   "cell_type": "code",
   "execution_count": null,
   "id": "1e752af8",
   "metadata": {},
   "outputs": [],
   "source": [
    "unique(clean_data)"
   ]
  },
  {
   "cell_type": "code",
   "execution_count": null,
   "id": "d66323c2",
   "metadata": {},
   "outputs": [],
   "source": [
    "install.packages(\"dplyr\")\n",
    "\n",
    "library(dplyr)"
   ]
  },
  {
   "cell_type": "code",
   "execution_count": null,
   "id": "148ed740",
   "metadata": {},
   "outputs": [],
   "source": [
    "new_clean_data <- clean_data %>% distinct() # remove duplicate rows and only keep the distinct rows\n",
    "dim(new_clean_data)"
   ]
  },
  {
   "cell_type": "markdown",
   "id": "a9b44e47",
   "metadata": {},
   "source": [
    "#### Get data summary"
   ]
  },
  {
   "cell_type": "code",
   "execution_count": null,
   "id": "0ca953b3",
   "metadata": {},
   "outputs": [],
   "source": [
    "summary(new_clean_data)"
   ]
  },
  {
   "cell_type": "code",
   "execution_count": null,
   "id": "4cf5330e",
   "metadata": {},
   "outputs": [],
   "source": [
    "mode(new_clean_data$price)"
   ]
  },
  {
   "cell_type": "markdown",
   "id": "2387ecbf",
   "metadata": {},
   "source": [
    "#### Convert random variables to appropriate data types"
   ]
  },
  {
   "cell_type": "code",
   "execution_count": null,
   "id": "acdff01c",
   "metadata": {},
   "outputs": [],
   "source": [
    "columns_to_convert <- c(\"price\")\n",
    "\n",
    "for (col_name in columns_to_convert) {\n",
    "  new_clean_data[, col_name] <- as.numeric(gsub(\"[^0-9.]\", \"\", new_clean_data[, col_name]))\n",
    "}"
   ]
  },
  {
   "cell_type": "code",
   "execution_count": null,
   "id": "8a964539",
   "metadata": {},
   "outputs": [],
   "source": [
    "# check summary again after conversion\n",
    "summary(new_clean_data)"
   ]
  },
  {
   "cell_type": "code",
   "execution_count": null,
   "id": "2b24d94b",
   "metadata": {},
   "outputs": [],
   "source": [
    "hist(new_clean_data$price, main=\"Histogram\", xlab=\"price\")"
   ]
  },
  {
   "cell_type": "markdown",
   "id": "e8c2d78b",
   "metadata": {},
   "source": [
    "From the histogram above, the response is a right skewed, convert it to normal."
   ]
  },
  {
   "cell_type": "markdown",
   "id": "6aaec860",
   "metadata": {},
   "source": [
    "#### Convert the data so that it has a normal price distribution."
   ]
  },
  {
   "cell_type": "code",
   "execution_count": null,
   "id": "4af01563",
   "metadata": {},
   "outputs": [],
   "source": [
    "install.packages(\"MASS\")\n",
    "library(MASS)"
   ]
  },
  {
   "cell_type": "code",
   "execution_count": null,
   "id": "d2f0d795",
   "metadata": {},
   "outputs": [],
   "source": [
    "boxcox(lm(new_clean_data$price~1))"
   ]
  },
  {
   "cell_type": "code",
   "execution_count": null,
   "id": "bb970612",
   "metadata": {},
   "outputs": [],
   "source": [
    "newprice <- log(new_clean_data$price)\n",
    "hist(newprice, main=\"Histogram\", xlab=\"price\")"
   ]
  },
  {
   "cell_type": "code",
   "execution_count": null,
   "id": "8c0254bb",
   "metadata": {},
   "outputs": [],
   "source": [
    "data <- data.frame(cbind(newprice, new_clean_data[,-1]))"
   ]
  },
  {
   "cell_type": "code",
   "execution_count": null,
   "id": "e8e1dd44",
   "metadata": {},
   "outputs": [],
   "source": [
    "head(data)\n",
    "dim(data)"
   ]
  },
  {
   "cell_type": "code",
   "execution_count": null,
   "id": "9a06afae",
   "metadata": {},
   "outputs": [],
   "source": [
    "summary(data)"
   ]
  },
  {
   "cell_type": "markdown",
   "id": "1f3c47dd",
   "metadata": {},
   "source": [
    "## Fit Model"
   ]
  },
  {
   "cell_type": "code",
   "execution_count": null,
   "id": "38d438bb",
   "metadata": {},
   "outputs": [],
   "source": [
    "attach(data)"
   ]
  },
  {
   "cell_type": "code",
   "execution_count": null,
   "id": "0a056948",
   "metadata": {},
   "outputs": [],
   "source": [
    "lm(newprice ~ review_scores_rating + minimum_nights + property_type + room_type + accommodates)"
   ]
  },
  {
   "cell_type": "code",
   "execution_count": null,
   "id": "82e78f8d",
   "metadata": {},
   "outputs": [],
   "source": [
    "model <- lm(price ~ instant_bookable + room.type + Construction.year +\n",
    "            service.fee + minimum.nights + review.rate.number + availability.365)\n",
    "summary(model)"
   ]
  },
  {
   "cell_type": "markdown",
   "id": "c6bca184",
   "metadata": {},
   "source": [
    "## Check Assumptions"
   ]
  },
  {
   "cell_type": "markdown",
   "id": "123a15b8",
   "metadata": {},
   "source": [
    "### Check Response Normality"
   ]
  },
  {
   "cell_type": "markdown",
   "id": "5fe8e6da",
   "metadata": {},
   "source": [
    "#### Residual Plots"
   ]
  },
  {
   "cell_type": "code",
   "execution_count": null,
   "id": "9ccbd031",
   "metadata": {},
   "outputs": [],
   "source": [
    "e_hat <- resid(model)"
   ]
  },
  {
   "cell_type": "code",
   "execution_count": null,
   "id": "a19408ae",
   "metadata": {},
   "outputs": [],
   "source": [
    "qqnorm(e_hat)"
   ]
  },
  {
   "cell_type": "code",
   "execution_count": null,
   "id": "b7e2bca7",
   "metadata": {},
   "outputs": [],
   "source": [
    "# residual vs fitted\n",
    "y_hat <- fitted(model)\n",
    "plot(e_hat, y_hat, main=\"Residuals vs Fitted\", ylab=\"Residuals\", xlab=\"Fitted\")"
   ]
  },
  {
   "cell_type": "code",
   "execution_count": null,
   "id": "a9507b0a",
   "metadata": {},
   "outputs": [],
   "source": [
    "# Scatterplots\n",
    "# Residual vs. Construction year\n",
    "plot(x=Construction.year, y=e_hat, main=\"Residual vs. Construction year\", ylab=\"Residuals\", xlab=\"Construction year\")\n",
    "\n",
    "# Residual vs. Service fee\n",
    "plot(x=service.fee, y=e_hat, main=\"Residual vs. Service fee\", ylab=\"Residuals\", xlab=\"Service fee\")\n",
    "\n",
    "# Residual vs. Minimum nights\n",
    "plot(x=minimum.nights, y=e_hat, main=\"Residual vs. Minimum nights\", ylab=\"Residuals\", xlab=\"Minimum nights\")\n",
    "\n",
    "# Residual vs. Availability\n",
    "plot(x=availability.365, y=e_hat, main=\"Residual vs. Availability\", ylab=\"Residuals\", xlab=\"Availability\")\n",
    "\n",
    "# Boxplots\n",
    "# Residual vs. Instant bookable\n",
    "boxplot(e_hat ~ instant_bookable , main=\"Residual vs. Instant bookable\", ylab=\"Residuals\", xlab=\"Instant bookable\")\n",
    "\n",
    "# Residual vs. Room type\n",
    "boxplot(e_hat ~ room.type, main=\"Residual vs. Room type\", ylab=\"Residual\", xlab=\"Room type\")\n",
    "\n",
    "# Residual vs. Review rating\n",
    "boxplot(e_hat ~ review.rate.number, main=\"Residual vs. Review rating\", ylab=\"Residuals\", xlab=\"Review rating\")"
   ]
  },
  {
   "cell_type": "markdown",
   "id": "98926b42",
   "metadata": {},
   "source": [
    "#### Condition mean predictor and response"
   ]
  },
  {
   "cell_type": "code",
   "execution_count": null,
   "id": "143f57ec",
   "metadata": {},
   "outputs": [],
   "source": []
  }
 ],
 "metadata": {
  "jupytext": {
   "cell_metadata_filter": "-all",
   "notebook_metadata_filter": "-all",
   "text_representation": {
    "extension": ".Rmd",
    "format_name": "rmarkdown"
   }
  },
  "kernelspec": {
   "display_name": "R",
   "language": "R",
   "name": "ir"
  }
 },
 "nbformat": 4,
 "nbformat_minor": 5
}
